{
 "cells": [
  {
   "cell_type": "markdown",
   "id": "64bb103e",
   "metadata": {},
   "source": [
    "# Принятие решений в бизнесе"
   ]
  },
  {
   "cell_type": "markdown",
   "id": "7528fb7f",
   "metadata": {},
   "source": [
    "# Проект: Проверка гипотез по увеличению выручки в интернет-магазине — оценка результатов A/B теста"
   ]
  },
  {
   "cell_type": "markdown",
   "id": "b286fca2",
   "metadata": {},
   "source": [
    "## Описание проекта\n",
    "Вы — аналитик крупного интернет-магазина. Вместе с отделом маркетинга вы подготовили список гипотез для увеличения выручки.\n",
    "Приоритизируйте гипотезы, запустите A/B-тест и проанализируйте результаты. "
   ]
  },
  {
   "cell_type": "markdown",
   "id": "a88fb056",
   "metadata": {},
   "source": [
    "## Цели и задачи\n",
    "\n",
    "- Получить данные, проверить их корректность и осуществить предобработку\n",
    "- Приоретизировать гипотезы по увеличению выручки интернет-магазина\n",
    "- Проанализировать результаты А/В теста: \n",
    "    \n",
    "\n",
    "    1. Построить графики кумулятивной выручки, среднего чека и конверсии по группам, а также относительного изменения кумулятивного среднего чека и конверсии.\n",
    "    2. Найти и проанализировать выбросы и аномалии в данных.\n",
    "    3. Посчитать статистическую значимость различий в конверсии и среднем чеке по \"сырым\" и \"очищенным\" данным\n",
    "    4. Принять решение по результатам А/В-теста"
   ]
  },
  {
   "cell_type": "markdown",
   "id": "f16fecfe",
   "metadata": {},
   "source": [
    "## Описание данных"
   ]
  },
  {
   "cell_type": "markdown",
   "id": "bc3e195d",
   "metadata": {},
   "source": [
    "**Данные для первой части**\n",
    "\n",
    "Файл /datasets/hypothesis.csv\n",
    "\n",
    "    Hypothesis — краткое описание гипотезы;\n",
    "    Reach — охват пользователей по 10-балльной шкале;\n",
    "    Impact — влияние на пользователей по 10-балльной шкале;\n",
    "    Confidence — уверенность в гипотезе по 10-балльной шкале;\n",
    "    Efforts — затраты ресурсов на проверку гипотезы по 10-балльной шкале. Чем больше значение Efforts, тем дороже проверка гипотезы.\n",
    "\n",
    "\n",
    "**Данные для второй части**\n",
    "\n",
    "Файл /datasets/orders.csv\n",
    "\n",
    "    transactionId — идентификатор заказа;\n",
    "    visitorId — идентификатор пользователя, совершившего заказ;\n",
    "    date — дата, когда был совершён заказ;\n",
    "    revenue — выручка заказа;\n",
    "    group — группа A/B-теста, в которую попал заказ.\n",
    "\n",
    "Файл /datasets/visitors.csv.\n",
    "\n",
    "    date — дата;\n",
    "    group — группа A/B-теста;\n",
    "    visitors — количество пользователей в указанную дату в указанной группе A/B-теста"
   ]
  },
  {
   "cell_type": "markdown",
   "id": "6cc16fec",
   "metadata": {},
   "source": [
    "## Подготовка"
   ]
  },
  {
   "cell_type": "markdown",
   "id": "3a0508a9",
   "metadata": {},
   "source": [
    "Загрузим данные и подготовим их к анализу"
   ]
  },
  {
   "cell_type": "code",
   "execution_count": 1,
   "id": "56de019c",
   "metadata": {},
   "outputs": [],
   "source": [
    "import pandas as pd\n",
    "import numpy as np\n",
    "import matplotlib.pyplot as plt\n",
    "from scipy import stats\n",
    "import datetime as dt\n",
    "pd.options.display.max_colwidth = 1"
   ]
  },
  {
   "cell_type": "code",
   "execution_count": 2,
   "id": "4a5b4931",
   "metadata": {},
   "outputs": [],
   "source": [
    "hypothesis = pd.read_csv('https://code.s3.yandex.net/datasets/hypothesis.csv')\n",
    "orders = pd.read_csv('https://code.s3.yandex.net/datasets/orders.csv')\n",
    "visitors = pd.read_csv('https://code.s3.yandex.net/datasets/visitors.csv')"
   ]
  },
  {
   "cell_type": "code",
   "execution_count": 3,
   "id": "bb60a204",
   "metadata": {},
   "outputs": [
    {
     "name": "stdout",
     "output_type": "stream",
     "text": [
      "<class 'pandas.core.frame.DataFrame'>\n",
      "RangeIndex: 9 entries, 0 to 8\n",
      "Data columns (total 5 columns):\n",
      " #   Column      Non-Null Count  Dtype \n",
      "---  ------      --------------  ----- \n",
      " 0   Hypothesis  9 non-null      object\n",
      " 1   Reach       9 non-null      int64 \n",
      " 2   Impact      9 non-null      int64 \n",
      " 3   Confidence  9 non-null      int64 \n",
      " 4   Efforts     9 non-null      int64 \n",
      "dtypes: int64(4), object(1)\n",
      "memory usage: 488.0+ bytes\n",
      "<class 'pandas.core.frame.DataFrame'>\n",
      "RangeIndex: 1197 entries, 0 to 1196\n",
      "Data columns (total 5 columns):\n",
      " #   Column         Non-Null Count  Dtype \n",
      "---  ------         --------------  ----- \n",
      " 0   transactionId  1197 non-null   int64 \n",
      " 1   visitorId      1197 non-null   int64 \n",
      " 2   date           1197 non-null   object\n",
      " 3   revenue        1197 non-null   int64 \n",
      " 4   group          1197 non-null   object\n",
      "dtypes: int64(3), object(2)\n",
      "memory usage: 46.9+ KB\n",
      "<class 'pandas.core.frame.DataFrame'>\n",
      "RangeIndex: 62 entries, 0 to 61\n",
      "Data columns (total 3 columns):\n",
      " #   Column    Non-Null Count  Dtype \n",
      "---  ------    --------------  ----- \n",
      " 0   date      62 non-null     object\n",
      " 1   group     62 non-null     object\n",
      " 2   visitors  62 non-null     int64 \n",
      "dtypes: int64(1), object(2)\n",
      "memory usage: 1.6+ KB\n"
     ]
    },
    {
     "data": {
      "text/plain": [
       "(None, None, None)"
      ]
     },
     "execution_count": 3,
     "metadata": {},
     "output_type": "execute_result"
    }
   ],
   "source": [
    "hypothesis.info(), orders.info(), visitors.info()"
   ]
  },
  {
   "cell_type": "code",
   "execution_count": 4,
   "id": "09f28c75",
   "metadata": {},
   "outputs": [
    {
     "data": {
      "text/plain": [
       "(           Reach     Impact  Confidence    Efforts\n",
       " count  9.000000   9.000000   9.000000    9.000000 \n",
       " mean   4.777778   4.777778   5.555556    4.888889 \n",
       " std    3.153481   3.192874   3.045944    2.803767 \n",
       " min    1.000000   1.000000   1.000000    1.000000 \n",
       " 25%    3.000000   3.000000   3.000000    3.000000 \n",
       " 50%    3.000000   3.000000   7.000000    5.000000 \n",
       " 75%    8.000000   7.000000   8.000000    6.000000 \n",
       " max    10.000000  10.000000  9.000000    10.000000,\n",
       "        transactionId     visitorId       revenue\n",
       " count  1.197000e+03   1.197000e+03  1.197000e+03\n",
       " mean   2.155621e+09   2.165960e+09  8.348006e+03\n",
       " std    1.229085e+09   1.236014e+09  3.919113e+04\n",
       " min    1.062393e+06   5.114589e+06  5.000000e+01\n",
       " 25%    1.166776e+09   1.111826e+09  1.220000e+03\n",
       " 50%    2.145194e+09   2.217985e+09  2.978000e+03\n",
       " 75%    3.237740e+09   3.177606e+09  8.290000e+03\n",
       " max    4.293856e+09   4.283872e+09  1.294500e+06,\n",
       "          visitors\n",
       " count  62.000000 \n",
       " mean   607.290323\n",
       " std    114.400560\n",
       " min    361.000000\n",
       " 25%    534.000000\n",
       " 50%    624.500000\n",
       " 75%    710.500000\n",
       " max    770.000000)"
      ]
     },
     "execution_count": 4,
     "metadata": {},
     "output_type": "execute_result"
    }
   ],
   "source": [
    "hypothesis.describe(), orders.describe(), visitors.describe()"
   ]
  },
  {
   "cell_type": "code",
   "execution_count": 5,
   "id": "bf58567e",
   "metadata": {},
   "outputs": [
    {
     "data": {
      "text/html": [
       "<div>\n",
       "<style scoped>\n",
       "    .dataframe tbody tr th:only-of-type {\n",
       "        vertical-align: middle;\n",
       "    }\n",
       "\n",
       "    .dataframe tbody tr th {\n",
       "        vertical-align: top;\n",
       "    }\n",
       "\n",
       "    .dataframe thead th {\n",
       "        text-align: right;\n",
       "    }\n",
       "</style>\n",
       "<table border=\"1\" class=\"dataframe\">\n",
       "  <thead>\n",
       "    <tr style=\"text-align: right;\">\n",
       "      <th></th>\n",
       "      <th>Hypothesis</th>\n",
       "      <th>Reach</th>\n",
       "      <th>Impact</th>\n",
       "      <th>Confidence</th>\n",
       "      <th>Efforts</th>\n",
       "    </tr>\n",
       "  </thead>\n",
       "  <tbody>\n",
       "    <tr>\n",
       "      <th>0</th>\n",
       "      <td>Добавить два новых канала привлечения трафика, что позволит привлекать на 30% больше пользователей</td>\n",
       "      <td>3</td>\n",
       "      <td>10</td>\n",
       "      <td>8</td>\n",
       "      <td>6</td>\n",
       "    </tr>\n",
       "    <tr>\n",
       "      <th>1</th>\n",
       "      <td>Запустить собственную службу доставки, что сократит срок доставки заказов</td>\n",
       "      <td>2</td>\n",
       "      <td>5</td>\n",
       "      <td>4</td>\n",
       "      <td>10</td>\n",
       "    </tr>\n",
       "    <tr>\n",
       "      <th>2</th>\n",
       "      <td>Добавить блоки рекомендаций товаров на сайт интернет магазина, чтобы повысить конверсию и средний чек заказа</td>\n",
       "      <td>8</td>\n",
       "      <td>3</td>\n",
       "      <td>7</td>\n",
       "      <td>3</td>\n",
       "    </tr>\n",
       "    <tr>\n",
       "      <th>3</th>\n",
       "      <td>Изменить структура категорий, что увеличит конверсию, т.к. пользователи быстрее найдут нужный товар</td>\n",
       "      <td>8</td>\n",
       "      <td>3</td>\n",
       "      <td>3</td>\n",
       "      <td>8</td>\n",
       "    </tr>\n",
       "    <tr>\n",
       "      <th>4</th>\n",
       "      <td>Изменить цвет фона главной страницы, чтобы увеличить вовлеченность пользователей</td>\n",
       "      <td>3</td>\n",
       "      <td>1</td>\n",
       "      <td>1</td>\n",
       "      <td>1</td>\n",
       "    </tr>\n",
       "  </tbody>\n",
       "</table>\n",
       "</div>"
      ],
      "text/plain": [
       "                                                                                                     Hypothesis  \\\n",
       "0  Добавить два новых канала привлечения трафика, что позволит привлекать на 30% больше пользователей             \n",
       "1  Запустить собственную службу доставки, что сократит срок доставки заказов                                      \n",
       "2  Добавить блоки рекомендаций товаров на сайт интернет магазина, чтобы повысить конверсию и средний чек заказа   \n",
       "3  Изменить структура категорий, что увеличит конверсию, т.к. пользователи быстрее найдут нужный товар            \n",
       "4  Изменить цвет фона главной страницы, чтобы увеличить вовлеченность пользователей                               \n",
       "\n",
       "   Reach  Impact  Confidence  Efforts  \n",
       "0  3      10      8           6        \n",
       "1  2      5       4           10       \n",
       "2  8      3       7           3        \n",
       "3  8      3       3           8        \n",
       "4  3      1       1           1        "
      ]
     },
     "execution_count": 5,
     "metadata": {},
     "output_type": "execute_result"
    }
   ],
   "source": [
    "hypothesis.head()"
   ]
  },
  {
   "cell_type": "code",
   "execution_count": 6,
   "id": "668b2b97",
   "metadata": {},
   "outputs": [
    {
     "data": {
      "text/html": [
       "<div>\n",
       "<style scoped>\n",
       "    .dataframe tbody tr th:only-of-type {\n",
       "        vertical-align: middle;\n",
       "    }\n",
       "\n",
       "    .dataframe tbody tr th {\n",
       "        vertical-align: top;\n",
       "    }\n",
       "\n",
       "    .dataframe thead th {\n",
       "        text-align: right;\n",
       "    }\n",
       "</style>\n",
       "<table border=\"1\" class=\"dataframe\">\n",
       "  <thead>\n",
       "    <tr style=\"text-align: right;\">\n",
       "      <th></th>\n",
       "      <th>transactionId</th>\n",
       "      <th>visitorId</th>\n",
       "      <th>date</th>\n",
       "      <th>revenue</th>\n",
       "      <th>group</th>\n",
       "    </tr>\n",
       "  </thead>\n",
       "  <tbody>\n",
       "    <tr>\n",
       "      <th>0</th>\n",
       "      <td>3667963787</td>\n",
       "      <td>3312258926</td>\n",
       "      <td>2019-08-15</td>\n",
       "      <td>1650</td>\n",
       "      <td>B</td>\n",
       "    </tr>\n",
       "    <tr>\n",
       "      <th>1</th>\n",
       "      <td>2804400009</td>\n",
       "      <td>3642806036</td>\n",
       "      <td>2019-08-15</td>\n",
       "      <td>730</td>\n",
       "      <td>B</td>\n",
       "    </tr>\n",
       "    <tr>\n",
       "      <th>2</th>\n",
       "      <td>2961555356</td>\n",
       "      <td>4069496402</td>\n",
       "      <td>2019-08-15</td>\n",
       "      <td>400</td>\n",
       "      <td>A</td>\n",
       "    </tr>\n",
       "    <tr>\n",
       "      <th>3</th>\n",
       "      <td>3797467345</td>\n",
       "      <td>1196621759</td>\n",
       "      <td>2019-08-15</td>\n",
       "      <td>9759</td>\n",
       "      <td>B</td>\n",
       "    </tr>\n",
       "    <tr>\n",
       "      <th>4</th>\n",
       "      <td>2282983706</td>\n",
       "      <td>2322279887</td>\n",
       "      <td>2019-08-15</td>\n",
       "      <td>2308</td>\n",
       "      <td>B</td>\n",
       "    </tr>\n",
       "  </tbody>\n",
       "</table>\n",
       "</div>"
      ],
      "text/plain": [
       "   transactionId   visitorId        date  revenue group\n",
       "0  3667963787     3312258926  2019-08-15  1650     B   \n",
       "1  2804400009     3642806036  2019-08-15  730      B   \n",
       "2  2961555356     4069496402  2019-08-15  400      A   \n",
       "3  3797467345     1196621759  2019-08-15  9759     B   \n",
       "4  2282983706     2322279887  2019-08-15  2308     B   "
      ]
     },
     "execution_count": 6,
     "metadata": {},
     "output_type": "execute_result"
    }
   ],
   "source": [
    "orders.head()"
   ]
  },
  {
   "cell_type": "code",
   "execution_count": 7,
   "id": "96ddb587",
   "metadata": {},
   "outputs": [
    {
     "data": {
      "text/html": [
       "<div>\n",
       "<style scoped>\n",
       "    .dataframe tbody tr th:only-of-type {\n",
       "        vertical-align: middle;\n",
       "    }\n",
       "\n",
       "    .dataframe tbody tr th {\n",
       "        vertical-align: top;\n",
       "    }\n",
       "\n",
       "    .dataframe thead th {\n",
       "        text-align: right;\n",
       "    }\n",
       "</style>\n",
       "<table border=\"1\" class=\"dataframe\">\n",
       "  <thead>\n",
       "    <tr style=\"text-align: right;\">\n",
       "      <th></th>\n",
       "      <th>date</th>\n",
       "      <th>group</th>\n",
       "      <th>visitors</th>\n",
       "    </tr>\n",
       "  </thead>\n",
       "  <tbody>\n",
       "    <tr>\n",
       "      <th>0</th>\n",
       "      <td>2019-08-01</td>\n",
       "      <td>A</td>\n",
       "      <td>719</td>\n",
       "    </tr>\n",
       "    <tr>\n",
       "      <th>1</th>\n",
       "      <td>2019-08-02</td>\n",
       "      <td>A</td>\n",
       "      <td>619</td>\n",
       "    </tr>\n",
       "    <tr>\n",
       "      <th>2</th>\n",
       "      <td>2019-08-03</td>\n",
       "      <td>A</td>\n",
       "      <td>507</td>\n",
       "    </tr>\n",
       "    <tr>\n",
       "      <th>3</th>\n",
       "      <td>2019-08-04</td>\n",
       "      <td>A</td>\n",
       "      <td>717</td>\n",
       "    </tr>\n",
       "    <tr>\n",
       "      <th>4</th>\n",
       "      <td>2019-08-05</td>\n",
       "      <td>A</td>\n",
       "      <td>756</td>\n",
       "    </tr>\n",
       "  </tbody>\n",
       "</table>\n",
       "</div>"
      ],
      "text/plain": [
       "         date group  visitors\n",
       "0  2019-08-01  A     719     \n",
       "1  2019-08-02  A     619     \n",
       "2  2019-08-03  A     507     \n",
       "3  2019-08-04  A     717     \n",
       "4  2019-08-05  A     756     "
      ]
     },
     "execution_count": 7,
     "metadata": {},
     "output_type": "execute_result"
    }
   ],
   "source": [
    "visitors.head()"
   ]
  },
  {
   "cell_type": "code",
   "execution_count": 8,
   "id": "c32b7013",
   "metadata": {},
   "outputs": [],
   "source": [
    "orders['date'] = pd.to_datetime(orders['date'])\n",
    "visitors['date'] = pd.to_datetime(visitors['date'])"
   ]
  },
  {
   "cell_type": "code",
   "execution_count": 9,
   "id": "05b65575",
   "metadata": {},
   "outputs": [
    {
     "data": {
      "text/plain": [
       "(0, 0, 0)"
      ]
     },
     "execution_count": 9,
     "metadata": {},
     "output_type": "execute_result"
    }
   ],
   "source": [
    "orders.duplicated().sum(), hypothesis.duplicated().sum(), visitors.duplicated().sum()"
   ]
  },
  {
   "cell_type": "markdown",
   "id": "622a33f2",
   "metadata": {},
   "source": [
    "Полученные данные корректны - требовалась лишь замена типа столбцов \"date\". Приступим к анализу."
   ]
  },
  {
   "cell_type": "code",
   "execution_count": 10,
   "id": "62773b72",
   "metadata": {},
   "outputs": [
    {
     "name": "stderr",
     "output_type": "stream",
     "text": [
      "/tmp/ipykernel_348/2802186467.py:1: FutureWarning: Indexing with multiple keys (implicitly converted to a tuple of keys) will be deprecated, use a list instead.\n",
      "  orders[['visitorId', 'group']].groupby('visitorId')['visitorId', 'group'].nunique().query('group > 1')\n"
     ]
    },
    {
     "data": {
      "text/html": [
       "<div>\n",
       "<style scoped>\n",
       "    .dataframe tbody tr th:only-of-type {\n",
       "        vertical-align: middle;\n",
       "    }\n",
       "\n",
       "    .dataframe tbody tr th {\n",
       "        vertical-align: top;\n",
       "    }\n",
       "\n",
       "    .dataframe thead th {\n",
       "        text-align: right;\n",
       "    }\n",
       "</style>\n",
       "<table border=\"1\" class=\"dataframe\">\n",
       "  <thead>\n",
       "    <tr style=\"text-align: right;\">\n",
       "      <th></th>\n",
       "      <th>visitorId</th>\n",
       "      <th>group</th>\n",
       "    </tr>\n",
       "    <tr>\n",
       "      <th>visitorId</th>\n",
       "      <th></th>\n",
       "      <th></th>\n",
       "    </tr>\n",
       "  </thead>\n",
       "  <tbody>\n",
       "    <tr>\n",
       "      <th>8300375</th>\n",
       "      <td>1</td>\n",
       "      <td>2</td>\n",
       "    </tr>\n",
       "    <tr>\n",
       "      <th>199603092</th>\n",
       "      <td>1</td>\n",
       "      <td>2</td>\n",
       "    </tr>\n",
       "    <tr>\n",
       "      <th>232979603</th>\n",
       "      <td>1</td>\n",
       "      <td>2</td>\n",
       "    </tr>\n",
       "    <tr>\n",
       "      <th>237748145</th>\n",
       "      <td>1</td>\n",
       "      <td>2</td>\n",
       "    </tr>\n",
       "    <tr>\n",
       "      <th>276558944</th>\n",
       "      <td>1</td>\n",
       "      <td>2</td>\n",
       "    </tr>\n",
       "    <tr>\n",
       "      <th>351125977</th>\n",
       "      <td>1</td>\n",
       "      <td>2</td>\n",
       "    </tr>\n",
       "    <tr>\n",
       "      <th>393266494</th>\n",
       "      <td>1</td>\n",
       "      <td>2</td>\n",
       "    </tr>\n",
       "    <tr>\n",
       "      <th>457167155</th>\n",
       "      <td>1</td>\n",
       "      <td>2</td>\n",
       "    </tr>\n",
       "    <tr>\n",
       "      <th>471551937</th>\n",
       "      <td>1</td>\n",
       "      <td>2</td>\n",
       "    </tr>\n",
       "    <tr>\n",
       "      <th>477780734</th>\n",
       "      <td>1</td>\n",
       "      <td>2</td>\n",
       "    </tr>\n",
       "    <tr>\n",
       "      <th>818047933</th>\n",
       "      <td>1</td>\n",
       "      <td>2</td>\n",
       "    </tr>\n",
       "    <tr>\n",
       "      <th>963407295</th>\n",
       "      <td>1</td>\n",
       "      <td>2</td>\n",
       "    </tr>\n",
       "    <tr>\n",
       "      <th>1230306981</th>\n",
       "      <td>1</td>\n",
       "      <td>2</td>\n",
       "    </tr>\n",
       "    <tr>\n",
       "      <th>1294878855</th>\n",
       "      <td>1</td>\n",
       "      <td>2</td>\n",
       "    </tr>\n",
       "    <tr>\n",
       "      <th>1316129916</th>\n",
       "      <td>1</td>\n",
       "      <td>2</td>\n",
       "    </tr>\n",
       "    <tr>\n",
       "      <th>1333886533</th>\n",
       "      <td>1</td>\n",
       "      <td>2</td>\n",
       "    </tr>\n",
       "    <tr>\n",
       "      <th>1404934699</th>\n",
       "      <td>1</td>\n",
       "      <td>2</td>\n",
       "    </tr>\n",
       "    <tr>\n",
       "      <th>1602967004</th>\n",
       "      <td>1</td>\n",
       "      <td>2</td>\n",
       "    </tr>\n",
       "    <tr>\n",
       "      <th>1614305549</th>\n",
       "      <td>1</td>\n",
       "      <td>2</td>\n",
       "    </tr>\n",
       "    <tr>\n",
       "      <th>1648269707</th>\n",
       "      <td>1</td>\n",
       "      <td>2</td>\n",
       "    </tr>\n",
       "    <tr>\n",
       "      <th>1668030113</th>\n",
       "      <td>1</td>\n",
       "      <td>2</td>\n",
       "    </tr>\n",
       "    <tr>\n",
       "      <th>1738359350</th>\n",
       "      <td>1</td>\n",
       "      <td>2</td>\n",
       "    </tr>\n",
       "    <tr>\n",
       "      <th>1801183820</th>\n",
       "      <td>1</td>\n",
       "      <td>2</td>\n",
       "    </tr>\n",
       "    <tr>\n",
       "      <th>1959144690</th>\n",
       "      <td>1</td>\n",
       "      <td>2</td>\n",
       "    </tr>\n",
       "    <tr>\n",
       "      <th>2038680547</th>\n",
       "      <td>1</td>\n",
       "      <td>2</td>\n",
       "    </tr>\n",
       "    <tr>\n",
       "      <th>2044997962</th>\n",
       "      <td>1</td>\n",
       "      <td>2</td>\n",
       "    </tr>\n",
       "    <tr>\n",
       "      <th>2378935119</th>\n",
       "      <td>1</td>\n",
       "      <td>2</td>\n",
       "    </tr>\n",
       "    <tr>\n",
       "      <th>2458001652</th>\n",
       "      <td>1</td>\n",
       "      <td>2</td>\n",
       "    </tr>\n",
       "    <tr>\n",
       "      <th>2579882178</th>\n",
       "      <td>1</td>\n",
       "      <td>2</td>\n",
       "    </tr>\n",
       "    <tr>\n",
       "      <th>2587333274</th>\n",
       "      <td>1</td>\n",
       "      <td>2</td>\n",
       "    </tr>\n",
       "    <tr>\n",
       "      <th>2600415354</th>\n",
       "      <td>1</td>\n",
       "      <td>2</td>\n",
       "    </tr>\n",
       "    <tr>\n",
       "      <th>2654030115</th>\n",
       "      <td>1</td>\n",
       "      <td>2</td>\n",
       "    </tr>\n",
       "    <tr>\n",
       "      <th>2686716486</th>\n",
       "      <td>1</td>\n",
       "      <td>2</td>\n",
       "    </tr>\n",
       "    <tr>\n",
       "      <th>2712142231</th>\n",
       "      <td>1</td>\n",
       "      <td>2</td>\n",
       "    </tr>\n",
       "    <tr>\n",
       "      <th>2716752286</th>\n",
       "      <td>1</td>\n",
       "      <td>2</td>\n",
       "    </tr>\n",
       "    <tr>\n",
       "      <th>2780786433</th>\n",
       "      <td>1</td>\n",
       "      <td>2</td>\n",
       "    </tr>\n",
       "    <tr>\n",
       "      <th>2927087541</th>\n",
       "      <td>1</td>\n",
       "      <td>2</td>\n",
       "    </tr>\n",
       "    <tr>\n",
       "      <th>2949041841</th>\n",
       "      <td>1</td>\n",
       "      <td>2</td>\n",
       "    </tr>\n",
       "    <tr>\n",
       "      <th>2954449915</th>\n",
       "      <td>1</td>\n",
       "      <td>2</td>\n",
       "    </tr>\n",
       "    <tr>\n",
       "      <th>3062433592</th>\n",
       "      <td>1</td>\n",
       "      <td>2</td>\n",
       "    </tr>\n",
       "    <tr>\n",
       "      <th>3202540741</th>\n",
       "      <td>1</td>\n",
       "      <td>2</td>\n",
       "    </tr>\n",
       "    <tr>\n",
       "      <th>3234906277</th>\n",
       "      <td>1</td>\n",
       "      <td>2</td>\n",
       "    </tr>\n",
       "    <tr>\n",
       "      <th>3656415546</th>\n",
       "      <td>1</td>\n",
       "      <td>2</td>\n",
       "    </tr>\n",
       "    <tr>\n",
       "      <th>3717692402</th>\n",
       "      <td>1</td>\n",
       "      <td>2</td>\n",
       "    </tr>\n",
       "    <tr>\n",
       "      <th>3766097110</th>\n",
       "      <td>1</td>\n",
       "      <td>2</td>\n",
       "    </tr>\n",
       "    <tr>\n",
       "      <th>3803269165</th>\n",
       "      <td>1</td>\n",
       "      <td>2</td>\n",
       "    </tr>\n",
       "    <tr>\n",
       "      <th>3891541246</th>\n",
       "      <td>1</td>\n",
       "      <td>2</td>\n",
       "    </tr>\n",
       "    <tr>\n",
       "      <th>3941795274</th>\n",
       "      <td>1</td>\n",
       "      <td>2</td>\n",
       "    </tr>\n",
       "    <tr>\n",
       "      <th>3951559397</th>\n",
       "      <td>1</td>\n",
       "      <td>2</td>\n",
       "    </tr>\n",
       "    <tr>\n",
       "      <th>3957174400</th>\n",
       "      <td>1</td>\n",
       "      <td>2</td>\n",
       "    </tr>\n",
       "    <tr>\n",
       "      <th>3963646447</th>\n",
       "      <td>1</td>\n",
       "      <td>2</td>\n",
       "    </tr>\n",
       "    <tr>\n",
       "      <th>3972127743</th>\n",
       "      <td>1</td>\n",
       "      <td>2</td>\n",
       "    </tr>\n",
       "    <tr>\n",
       "      <th>3984495233</th>\n",
       "      <td>1</td>\n",
       "      <td>2</td>\n",
       "    </tr>\n",
       "    <tr>\n",
       "      <th>4069496402</th>\n",
       "      <td>1</td>\n",
       "      <td>2</td>\n",
       "    </tr>\n",
       "    <tr>\n",
       "      <th>4120364173</th>\n",
       "      <td>1</td>\n",
       "      <td>2</td>\n",
       "    </tr>\n",
       "    <tr>\n",
       "      <th>4186807279</th>\n",
       "      <td>1</td>\n",
       "      <td>2</td>\n",
       "    </tr>\n",
       "    <tr>\n",
       "      <th>4256040402</th>\n",
       "      <td>1</td>\n",
       "      <td>2</td>\n",
       "    </tr>\n",
       "    <tr>\n",
       "      <th>4266935830</th>\n",
       "      <td>1</td>\n",
       "      <td>2</td>\n",
       "    </tr>\n",
       "  </tbody>\n",
       "</table>\n",
       "</div>"
      ],
      "text/plain": [
       "            visitorId  group\n",
       "visitorId                   \n",
       "8300375     1          2    \n",
       "199603092   1          2    \n",
       "232979603   1          2    \n",
       "237748145   1          2    \n",
       "276558944   1          2    \n",
       "351125977   1          2    \n",
       "393266494   1          2    \n",
       "457167155   1          2    \n",
       "471551937   1          2    \n",
       "477780734   1          2    \n",
       "818047933   1          2    \n",
       "963407295   1          2    \n",
       "1230306981  1          2    \n",
       "1294878855  1          2    \n",
       "1316129916  1          2    \n",
       "1333886533  1          2    \n",
       "1404934699  1          2    \n",
       "1602967004  1          2    \n",
       "1614305549  1          2    \n",
       "1648269707  1          2    \n",
       "1668030113  1          2    \n",
       "1738359350  1          2    \n",
       "1801183820  1          2    \n",
       "1959144690  1          2    \n",
       "2038680547  1          2    \n",
       "2044997962  1          2    \n",
       "2378935119  1          2    \n",
       "2458001652  1          2    \n",
       "2579882178  1          2    \n",
       "2587333274  1          2    \n",
       "2600415354  1          2    \n",
       "2654030115  1          2    \n",
       "2686716486  1          2    \n",
       "2712142231  1          2    \n",
       "2716752286  1          2    \n",
       "2780786433  1          2    \n",
       "2927087541  1          2    \n",
       "2949041841  1          2    \n",
       "2954449915  1          2    \n",
       "3062433592  1          2    \n",
       "3202540741  1          2    \n",
       "3234906277  1          2    \n",
       "3656415546  1          2    \n",
       "3717692402  1          2    \n",
       "3766097110  1          2    \n",
       "3803269165  1          2    \n",
       "3891541246  1          2    \n",
       "3941795274  1          2    \n",
       "3951559397  1          2    \n",
       "3957174400  1          2    \n",
       "3963646447  1          2    \n",
       "3972127743  1          2    \n",
       "3984495233  1          2    \n",
       "4069496402  1          2    \n",
       "4120364173  1          2    \n",
       "4186807279  1          2    \n",
       "4256040402  1          2    \n",
       "4266935830  1          2    "
      ]
     },
     "execution_count": 10,
     "metadata": {},
     "output_type": "execute_result"
    }
   ],
   "source": [
    "orders[['visitorId', 'group']].groupby('visitorId')['visitorId', 'group'].nunique().query('group > 1')"
   ]
  },
  {
   "cell_type": "markdown",
   "id": "483c7c6d",
   "metadata": {},
   "source": [
    "Есть пользователи, которые оказались в нескольких группах одновременно - что делать с этими пользователями пока не ясно, оставим"
   ]
  },
  {
   "cell_type": "markdown",
   "id": "1a34a97d",
   "metadata": {},
   "source": [
    "## Часть 1. Приоритизация гипотез."
   ]
  },
  {
   "cell_type": "markdown",
   "id": "735addd0",
   "metadata": {},
   "source": [
    "Применим фреймворки ICE и RICE, отсортируем их по убыванию приоритета, рассмотрим и изучим получившуюся разницу в приоритетах."
   ]
  },
  {
   "cell_type": "code",
   "execution_count": 11,
   "id": "9df470ef",
   "metadata": {},
   "outputs": [],
   "source": [
    "hypothesis['ICE'] = round(hypothesis['Impact'] * hypothesis['Confidence'] / hypothesis['Efforts'], 2)\n",
    "hypothesis['RICE'] = hypothesis['Reach'] * hypothesis['Impact'] * hypothesis['Confidence'] / hypothesis['Efforts']"
   ]
  },
  {
   "cell_type": "code",
   "execution_count": 12,
   "id": "fee077e1",
   "metadata": {},
   "outputs": [
    {
     "data": {
      "text/html": [
       "<div>\n",
       "<style scoped>\n",
       "    .dataframe tbody tr th:only-of-type {\n",
       "        vertical-align: middle;\n",
       "    }\n",
       "\n",
       "    .dataframe tbody tr th {\n",
       "        vertical-align: top;\n",
       "    }\n",
       "\n",
       "    .dataframe thead th {\n",
       "        text-align: right;\n",
       "    }\n",
       "</style>\n",
       "<table border=\"1\" class=\"dataframe\">\n",
       "  <thead>\n",
       "    <tr style=\"text-align: right;\">\n",
       "      <th></th>\n",
       "      <th>Hypothesis</th>\n",
       "      <th>Reach</th>\n",
       "      <th>Impact</th>\n",
       "      <th>Confidence</th>\n",
       "      <th>Efforts</th>\n",
       "      <th>ICE</th>\n",
       "      <th>RICE</th>\n",
       "    </tr>\n",
       "  </thead>\n",
       "  <tbody>\n",
       "    <tr>\n",
       "      <th>0</th>\n",
       "      <td>Добавить два новых канала привлечения трафика, что позволит привлекать на 30% больше пользователей</td>\n",
       "      <td>3</td>\n",
       "      <td>10</td>\n",
       "      <td>8</td>\n",
       "      <td>6</td>\n",
       "      <td>13.33</td>\n",
       "      <td>40.0</td>\n",
       "    </tr>\n",
       "    <tr>\n",
       "      <th>1</th>\n",
       "      <td>Запустить собственную службу доставки, что сократит срок доставки заказов</td>\n",
       "      <td>2</td>\n",
       "      <td>5</td>\n",
       "      <td>4</td>\n",
       "      <td>10</td>\n",
       "      <td>2.00</td>\n",
       "      <td>4.0</td>\n",
       "    </tr>\n",
       "    <tr>\n",
       "      <th>2</th>\n",
       "      <td>Добавить блоки рекомендаций товаров на сайт интернет магазина, чтобы повысить конверсию и средний чек заказа</td>\n",
       "      <td>8</td>\n",
       "      <td>3</td>\n",
       "      <td>7</td>\n",
       "      <td>3</td>\n",
       "      <td>7.00</td>\n",
       "      <td>56.0</td>\n",
       "    </tr>\n",
       "    <tr>\n",
       "      <th>3</th>\n",
       "      <td>Изменить структура категорий, что увеличит конверсию, т.к. пользователи быстрее найдут нужный товар</td>\n",
       "      <td>8</td>\n",
       "      <td>3</td>\n",
       "      <td>3</td>\n",
       "      <td>8</td>\n",
       "      <td>1.12</td>\n",
       "      <td>9.0</td>\n",
       "    </tr>\n",
       "    <tr>\n",
       "      <th>4</th>\n",
       "      <td>Изменить цвет фона главной страницы, чтобы увеличить вовлеченность пользователей</td>\n",
       "      <td>3</td>\n",
       "      <td>1</td>\n",
       "      <td>1</td>\n",
       "      <td>1</td>\n",
       "      <td>1.00</td>\n",
       "      <td>3.0</td>\n",
       "    </tr>\n",
       "    <tr>\n",
       "      <th>5</th>\n",
       "      <td>Добавить страницу отзывов клиентов о магазине, что позволит увеличить количество заказов</td>\n",
       "      <td>3</td>\n",
       "      <td>2</td>\n",
       "      <td>2</td>\n",
       "      <td>3</td>\n",
       "      <td>1.33</td>\n",
       "      <td>4.0</td>\n",
       "    </tr>\n",
       "    <tr>\n",
       "      <th>6</th>\n",
       "      <td>Показать на главной странице баннеры с актуальными акциями и распродажами, чтобы увеличить конверсию</td>\n",
       "      <td>5</td>\n",
       "      <td>3</td>\n",
       "      <td>8</td>\n",
       "      <td>3</td>\n",
       "      <td>8.00</td>\n",
       "      <td>40.0</td>\n",
       "    </tr>\n",
       "    <tr>\n",
       "      <th>7</th>\n",
       "      <td>Добавить форму подписки на все основные страницы, чтобы собрать базу клиентов для email-рассылок</td>\n",
       "      <td>10</td>\n",
       "      <td>7</td>\n",
       "      <td>8</td>\n",
       "      <td>5</td>\n",
       "      <td>11.20</td>\n",
       "      <td>112.0</td>\n",
       "    </tr>\n",
       "    <tr>\n",
       "      <th>8</th>\n",
       "      <td>Запустить акцию, дающую скидку на товар в день рождения</td>\n",
       "      <td>1</td>\n",
       "      <td>9</td>\n",
       "      <td>9</td>\n",
       "      <td>5</td>\n",
       "      <td>16.20</td>\n",
       "      <td>16.2</td>\n",
       "    </tr>\n",
       "  </tbody>\n",
       "</table>\n",
       "</div>"
      ],
      "text/plain": [
       "                                                                                                     Hypothesis  \\\n",
       "0  Добавить два новых канала привлечения трафика, что позволит привлекать на 30% больше пользователей             \n",
       "1  Запустить собственную службу доставки, что сократит срок доставки заказов                                      \n",
       "2  Добавить блоки рекомендаций товаров на сайт интернет магазина, чтобы повысить конверсию и средний чек заказа   \n",
       "3  Изменить структура категорий, что увеличит конверсию, т.к. пользователи быстрее найдут нужный товар            \n",
       "4  Изменить цвет фона главной страницы, чтобы увеличить вовлеченность пользователей                               \n",
       "5  Добавить страницу отзывов клиентов о магазине, что позволит увеличить количество заказов                       \n",
       "6  Показать на главной странице баннеры с актуальными акциями и распродажами, чтобы увеличить конверсию           \n",
       "7  Добавить форму подписки на все основные страницы, чтобы собрать базу клиентов для email-рассылок               \n",
       "8  Запустить акцию, дающую скидку на товар в день рождения                                                        \n",
       "\n",
       "   Reach  Impact  Confidence  Efforts    ICE   RICE  \n",
       "0  3      10      8           6        13.33  40.0   \n",
       "1  2      5       4           10       2.00   4.0    \n",
       "2  8      3       7           3        7.00   56.0   \n",
       "3  8      3       3           8        1.12   9.0    \n",
       "4  3      1       1           1        1.00   3.0    \n",
       "5  3      2       2           3        1.33   4.0    \n",
       "6  5      3       8           3        8.00   40.0   \n",
       "7  10     7       8           5        11.20  112.0  \n",
       "8  1      9       9           5        16.20  16.2   "
      ]
     },
     "execution_count": 12,
     "metadata": {},
     "output_type": "execute_result"
    }
   ],
   "source": [
    "hypothesis"
   ]
  },
  {
   "cell_type": "code",
   "execution_count": 13,
   "id": "567867b8",
   "metadata": {},
   "outputs": [
    {
     "data": {
      "text/html": [
       "<div>\n",
       "<style scoped>\n",
       "    .dataframe tbody tr th:only-of-type {\n",
       "        vertical-align: middle;\n",
       "    }\n",
       "\n",
       "    .dataframe tbody tr th {\n",
       "        vertical-align: top;\n",
       "    }\n",
       "\n",
       "    .dataframe thead th {\n",
       "        text-align: right;\n",
       "    }\n",
       "</style>\n",
       "<table border=\"1\" class=\"dataframe\">\n",
       "  <thead>\n",
       "    <tr style=\"text-align: right;\">\n",
       "      <th></th>\n",
       "      <th>Hypothesis</th>\n",
       "      <th>Reach</th>\n",
       "      <th>Impact</th>\n",
       "      <th>Confidence</th>\n",
       "      <th>Efforts</th>\n",
       "      <th>ICE</th>\n",
       "      <th>RICE</th>\n",
       "    </tr>\n",
       "  </thead>\n",
       "  <tbody>\n",
       "    <tr>\n",
       "      <th>8</th>\n",
       "      <td>Запустить акцию, дающую скидку на товар в день рождения</td>\n",
       "      <td>1</td>\n",
       "      <td>9</td>\n",
       "      <td>9</td>\n",
       "      <td>5</td>\n",
       "      <td>16.20</td>\n",
       "      <td>16.2</td>\n",
       "    </tr>\n",
       "    <tr>\n",
       "      <th>0</th>\n",
       "      <td>Добавить два новых канала привлечения трафика, что позволит привлекать на 30% больше пользователей</td>\n",
       "      <td>3</td>\n",
       "      <td>10</td>\n",
       "      <td>8</td>\n",
       "      <td>6</td>\n",
       "      <td>13.33</td>\n",
       "      <td>40.0</td>\n",
       "    </tr>\n",
       "    <tr>\n",
       "      <th>7</th>\n",
       "      <td>Добавить форму подписки на все основные страницы, чтобы собрать базу клиентов для email-рассылок</td>\n",
       "      <td>10</td>\n",
       "      <td>7</td>\n",
       "      <td>8</td>\n",
       "      <td>5</td>\n",
       "      <td>11.20</td>\n",
       "      <td>112.0</td>\n",
       "    </tr>\n",
       "    <tr>\n",
       "      <th>6</th>\n",
       "      <td>Показать на главной странице баннеры с актуальными акциями и распродажами, чтобы увеличить конверсию</td>\n",
       "      <td>5</td>\n",
       "      <td>3</td>\n",
       "      <td>8</td>\n",
       "      <td>3</td>\n",
       "      <td>8.00</td>\n",
       "      <td>40.0</td>\n",
       "    </tr>\n",
       "    <tr>\n",
       "      <th>2</th>\n",
       "      <td>Добавить блоки рекомендаций товаров на сайт интернет магазина, чтобы повысить конверсию и средний чек заказа</td>\n",
       "      <td>8</td>\n",
       "      <td>3</td>\n",
       "      <td>7</td>\n",
       "      <td>3</td>\n",
       "      <td>7.00</td>\n",
       "      <td>56.0</td>\n",
       "    </tr>\n",
       "    <tr>\n",
       "      <th>1</th>\n",
       "      <td>Запустить собственную службу доставки, что сократит срок доставки заказов</td>\n",
       "      <td>2</td>\n",
       "      <td>5</td>\n",
       "      <td>4</td>\n",
       "      <td>10</td>\n",
       "      <td>2.00</td>\n",
       "      <td>4.0</td>\n",
       "    </tr>\n",
       "    <tr>\n",
       "      <th>5</th>\n",
       "      <td>Добавить страницу отзывов клиентов о магазине, что позволит увеличить количество заказов</td>\n",
       "      <td>3</td>\n",
       "      <td>2</td>\n",
       "      <td>2</td>\n",
       "      <td>3</td>\n",
       "      <td>1.33</td>\n",
       "      <td>4.0</td>\n",
       "    </tr>\n",
       "    <tr>\n",
       "      <th>3</th>\n",
       "      <td>Изменить структура категорий, что увеличит конверсию, т.к. пользователи быстрее найдут нужный товар</td>\n",
       "      <td>8</td>\n",
       "      <td>3</td>\n",
       "      <td>3</td>\n",
       "      <td>8</td>\n",
       "      <td>1.12</td>\n",
       "      <td>9.0</td>\n",
       "    </tr>\n",
       "    <tr>\n",
       "      <th>4</th>\n",
       "      <td>Изменить цвет фона главной страницы, чтобы увеличить вовлеченность пользователей</td>\n",
       "      <td>3</td>\n",
       "      <td>1</td>\n",
       "      <td>1</td>\n",
       "      <td>1</td>\n",
       "      <td>1.00</td>\n",
       "      <td>3.0</td>\n",
       "    </tr>\n",
       "  </tbody>\n",
       "</table>\n",
       "</div>"
      ],
      "text/plain": [
       "                                                                                                     Hypothesis  \\\n",
       "8  Запустить акцию, дающую скидку на товар в день рождения                                                        \n",
       "0  Добавить два новых канала привлечения трафика, что позволит привлекать на 30% больше пользователей             \n",
       "7  Добавить форму подписки на все основные страницы, чтобы собрать базу клиентов для email-рассылок               \n",
       "6  Показать на главной странице баннеры с актуальными акциями и распродажами, чтобы увеличить конверсию           \n",
       "2  Добавить блоки рекомендаций товаров на сайт интернет магазина, чтобы повысить конверсию и средний чек заказа   \n",
       "1  Запустить собственную службу доставки, что сократит срок доставки заказов                                      \n",
       "5  Добавить страницу отзывов клиентов о магазине, что позволит увеличить количество заказов                       \n",
       "3  Изменить структура категорий, что увеличит конверсию, т.к. пользователи быстрее найдут нужный товар            \n",
       "4  Изменить цвет фона главной страницы, чтобы увеличить вовлеченность пользователей                               \n",
       "\n",
       "   Reach  Impact  Confidence  Efforts    ICE   RICE  \n",
       "8  1      9       9           5        16.20  16.2   \n",
       "0  3      10      8           6        13.33  40.0   \n",
       "7  10     7       8           5        11.20  112.0  \n",
       "6  5      3       8           3        8.00   40.0   \n",
       "2  8      3       7           3        7.00   56.0   \n",
       "1  2      5       4           10       2.00   4.0    \n",
       "5  3      2       2           3        1.33   4.0    \n",
       "3  8      3       3           8        1.12   9.0    \n",
       "4  3      1       1           1        1.00   3.0    "
      ]
     },
     "execution_count": 13,
     "metadata": {},
     "output_type": "execute_result"
    }
   ],
   "source": [
    "hypothesis.sort_values('ICE', ascending=False)"
   ]
  },
  {
   "cell_type": "code",
   "execution_count": 14,
   "id": "00d698ce",
   "metadata": {},
   "outputs": [
    {
     "data": {
      "text/html": [
       "<div>\n",
       "<style scoped>\n",
       "    .dataframe tbody tr th:only-of-type {\n",
       "        vertical-align: middle;\n",
       "    }\n",
       "\n",
       "    .dataframe tbody tr th {\n",
       "        vertical-align: top;\n",
       "    }\n",
       "\n",
       "    .dataframe thead th {\n",
       "        text-align: right;\n",
       "    }\n",
       "</style>\n",
       "<table border=\"1\" class=\"dataframe\">\n",
       "  <thead>\n",
       "    <tr style=\"text-align: right;\">\n",
       "      <th></th>\n",
       "      <th>Hypothesis</th>\n",
       "      <th>Reach</th>\n",
       "      <th>Impact</th>\n",
       "      <th>Confidence</th>\n",
       "      <th>Efforts</th>\n",
       "      <th>ICE</th>\n",
       "      <th>RICE</th>\n",
       "    </tr>\n",
       "  </thead>\n",
       "  <tbody>\n",
       "    <tr>\n",
       "      <th>7</th>\n",
       "      <td>Добавить форму подписки на все основные страницы, чтобы собрать базу клиентов для email-рассылок</td>\n",
       "      <td>10</td>\n",
       "      <td>7</td>\n",
       "      <td>8</td>\n",
       "      <td>5</td>\n",
       "      <td>11.20</td>\n",
       "      <td>112.0</td>\n",
       "    </tr>\n",
       "    <tr>\n",
       "      <th>2</th>\n",
       "      <td>Добавить блоки рекомендаций товаров на сайт интернет магазина, чтобы повысить конверсию и средний чек заказа</td>\n",
       "      <td>8</td>\n",
       "      <td>3</td>\n",
       "      <td>7</td>\n",
       "      <td>3</td>\n",
       "      <td>7.00</td>\n",
       "      <td>56.0</td>\n",
       "    </tr>\n",
       "    <tr>\n",
       "      <th>0</th>\n",
       "      <td>Добавить два новых канала привлечения трафика, что позволит привлекать на 30% больше пользователей</td>\n",
       "      <td>3</td>\n",
       "      <td>10</td>\n",
       "      <td>8</td>\n",
       "      <td>6</td>\n",
       "      <td>13.33</td>\n",
       "      <td>40.0</td>\n",
       "    </tr>\n",
       "    <tr>\n",
       "      <th>6</th>\n",
       "      <td>Показать на главной странице баннеры с актуальными акциями и распродажами, чтобы увеличить конверсию</td>\n",
       "      <td>5</td>\n",
       "      <td>3</td>\n",
       "      <td>8</td>\n",
       "      <td>3</td>\n",
       "      <td>8.00</td>\n",
       "      <td>40.0</td>\n",
       "    </tr>\n",
       "    <tr>\n",
       "      <th>8</th>\n",
       "      <td>Запустить акцию, дающую скидку на товар в день рождения</td>\n",
       "      <td>1</td>\n",
       "      <td>9</td>\n",
       "      <td>9</td>\n",
       "      <td>5</td>\n",
       "      <td>16.20</td>\n",
       "      <td>16.2</td>\n",
       "    </tr>\n",
       "    <tr>\n",
       "      <th>3</th>\n",
       "      <td>Изменить структура категорий, что увеличит конверсию, т.к. пользователи быстрее найдут нужный товар</td>\n",
       "      <td>8</td>\n",
       "      <td>3</td>\n",
       "      <td>3</td>\n",
       "      <td>8</td>\n",
       "      <td>1.12</td>\n",
       "      <td>9.0</td>\n",
       "    </tr>\n",
       "    <tr>\n",
       "      <th>1</th>\n",
       "      <td>Запустить собственную службу доставки, что сократит срок доставки заказов</td>\n",
       "      <td>2</td>\n",
       "      <td>5</td>\n",
       "      <td>4</td>\n",
       "      <td>10</td>\n",
       "      <td>2.00</td>\n",
       "      <td>4.0</td>\n",
       "    </tr>\n",
       "    <tr>\n",
       "      <th>5</th>\n",
       "      <td>Добавить страницу отзывов клиентов о магазине, что позволит увеличить количество заказов</td>\n",
       "      <td>3</td>\n",
       "      <td>2</td>\n",
       "      <td>2</td>\n",
       "      <td>3</td>\n",
       "      <td>1.33</td>\n",
       "      <td>4.0</td>\n",
       "    </tr>\n",
       "    <tr>\n",
       "      <th>4</th>\n",
       "      <td>Изменить цвет фона главной страницы, чтобы увеличить вовлеченность пользователей</td>\n",
       "      <td>3</td>\n",
       "      <td>1</td>\n",
       "      <td>1</td>\n",
       "      <td>1</td>\n",
       "      <td>1.00</td>\n",
       "      <td>3.0</td>\n",
       "    </tr>\n",
       "  </tbody>\n",
       "</table>\n",
       "</div>"
      ],
      "text/plain": [
       "                                                                                                     Hypothesis  \\\n",
       "7  Добавить форму подписки на все основные страницы, чтобы собрать базу клиентов для email-рассылок               \n",
       "2  Добавить блоки рекомендаций товаров на сайт интернет магазина, чтобы повысить конверсию и средний чек заказа   \n",
       "0  Добавить два новых канала привлечения трафика, что позволит привлекать на 30% больше пользователей             \n",
       "6  Показать на главной странице баннеры с актуальными акциями и распродажами, чтобы увеличить конверсию           \n",
       "8  Запустить акцию, дающую скидку на товар в день рождения                                                        \n",
       "3  Изменить структура категорий, что увеличит конверсию, т.к. пользователи быстрее найдут нужный товар            \n",
       "1  Запустить собственную службу доставки, что сократит срок доставки заказов                                      \n",
       "5  Добавить страницу отзывов клиентов о магазине, что позволит увеличить количество заказов                       \n",
       "4  Изменить цвет фона главной страницы, чтобы увеличить вовлеченность пользователей                               \n",
       "\n",
       "   Reach  Impact  Confidence  Efforts    ICE   RICE  \n",
       "7  10     7       8           5        11.20  112.0  \n",
       "2  8      3       7           3        7.00   56.0   \n",
       "0  3      10      8           6        13.33  40.0   \n",
       "6  5      3       8           3        8.00   40.0   \n",
       "8  1      9       9           5        16.20  16.2   \n",
       "3  8      3       3           8        1.12   9.0    \n",
       "1  2      5       4           10       2.00   4.0    \n",
       "5  3      2       2           3        1.33   4.0    \n",
       "4  3      1       1           1        1.00   3.0    "
      ]
     },
     "execution_count": 14,
     "metadata": {},
     "output_type": "execute_result"
    }
   ],
   "source": [
    "hypothesis.sort_values('RICE', ascending=False)"
   ]
  },
  {
   "cell_type": "markdown",
   "id": "ebe0c4cc",
   "metadata": {},
   "source": [
    "**Вывод:**\n",
    "- Тройка лидеров по ICE: гипотезы 8, 0, 7\n",
    "- Тройка лидеров по RICE: гипотезы 7, 2, 0\n",
    "\n",
    "Эта разница объясянется тем, что RICE, в отличие от ICE, включает в себя так же оценку количества пользователей, которых затронет изменение - в гипотезах 7 и 2 она достаточно высока, а в гипотезе 8 - минимальна. В конечном итоге, приорететными будут гипотезы 7, 2 и 0"
   ]
  },
  {
   "cell_type": "markdown",
   "id": "5540f55a",
   "metadata": {},
   "source": [
    "## Часть 2. Анализ A/B-теста"
   ]
  },
  {
   "cell_type": "code",
   "execution_count": 15,
   "id": "3d365166",
   "metadata": {},
   "outputs": [
    {
     "data": {
      "text/html": [
       "<div>\n",
       "<style scoped>\n",
       "    .dataframe tbody tr th:only-of-type {\n",
       "        vertical-align: middle;\n",
       "    }\n",
       "\n",
       "    .dataframe tbody tr th {\n",
       "        vertical-align: top;\n",
       "    }\n",
       "\n",
       "    .dataframe thead th {\n",
       "        text-align: right;\n",
       "    }\n",
       "</style>\n",
       "<table border=\"1\" class=\"dataframe\">\n",
       "  <thead>\n",
       "    <tr style=\"text-align: right;\">\n",
       "      <th></th>\n",
       "      <th>date</th>\n",
       "      <th>group</th>\n",
       "      <th>orders</th>\n",
       "      <th>buyers</th>\n",
       "      <th>revenue</th>\n",
       "      <th>visitors</th>\n",
       "    </tr>\n",
       "  </thead>\n",
       "  <tbody>\n",
       "    <tr>\n",
       "      <th>0</th>\n",
       "      <td>2019-08-01</td>\n",
       "      <td>A</td>\n",
       "      <td>24</td>\n",
       "      <td>20</td>\n",
       "      <td>148579</td>\n",
       "      <td>719</td>\n",
       "    </tr>\n",
       "    <tr>\n",
       "      <th>1</th>\n",
       "      <td>2019-08-01</td>\n",
       "      <td>B</td>\n",
       "      <td>21</td>\n",
       "      <td>20</td>\n",
       "      <td>101217</td>\n",
       "      <td>713</td>\n",
       "    </tr>\n",
       "    <tr>\n",
       "      <th>2</th>\n",
       "      <td>2019-08-02</td>\n",
       "      <td>A</td>\n",
       "      <td>44</td>\n",
       "      <td>38</td>\n",
       "      <td>242401</td>\n",
       "      <td>1338</td>\n",
       "    </tr>\n",
       "    <tr>\n",
       "      <th>3</th>\n",
       "      <td>2019-08-02</td>\n",
       "      <td>B</td>\n",
       "      <td>45</td>\n",
       "      <td>43</td>\n",
       "      <td>266748</td>\n",
       "      <td>1294</td>\n",
       "    </tr>\n",
       "    <tr>\n",
       "      <th>4</th>\n",
       "      <td>2019-08-03</td>\n",
       "      <td>A</td>\n",
       "      <td>68</td>\n",
       "      <td>62</td>\n",
       "      <td>354874</td>\n",
       "      <td>1845</td>\n",
       "    </tr>\n",
       "  </tbody>\n",
       "</table>\n",
       "</div>"
      ],
      "text/plain": [
       "        date group  orders  buyers  revenue  visitors\n",
       "0 2019-08-01  A     24      20      148579   719     \n",
       "1 2019-08-01  B     21      20      101217   713     \n",
       "2 2019-08-02  A     44      38      242401   1338    \n",
       "3 2019-08-02  B     45      43      266748   1294    \n",
       "4 2019-08-03  A     68      62      354874   1845    "
      ]
     },
     "execution_count": 15,
     "metadata": {},
     "output_type": "execute_result"
    }
   ],
   "source": [
    "#достаем уникальные значения дат и групп\n",
    "datesGroups = orders[['date','group']].drop_duplicates().sort_values(by=['date', 'group'])\n",
    "\n",
    "#выводим кумулятивные показатели из orders\n",
    "ordersAggregated = datesGroups.apply(lambda x: orders[np.logical_and(x['date'] >= orders['date'], x['group']==orders['group'])]\\\n",
    ".agg({'date':'max', 'group':'max', 'transactionId':'nunique', 'visitorId':'nunique', 'revenue':'sum'}), axis = 1)\n",
    "ordersAggregated.columns = ['date', 'group', 'orders', 'buyers', 'revenue']\n",
    "#выводим кумулятивные показатели из visitors\n",
    "visitorsAggregated = datesGroups.apply(lambda x: visitors[np.logical_and(x['date'] >= visitors['date'], x['group']==visitors['group'])]\\\n",
    ".agg({'date':'max', 'group':'max', 'visitors':'sum'}), axis = 1)\n",
    "#сводим все накопительные данные в одну таблицу\n",
    "cumulativeData = ordersAggregated.merge(visitorsAggregated, left_on=['date', 'group'], right_on=['date', 'group'])\n",
    "\n",
    "cumulativeData.head(5)"
   ]
  },
  {
   "cell_type": "markdown",
   "id": "60788bfe",
   "metadata": {},
   "source": [
    "### Построим графики кумулятивной выручки по дням и группам A/B-тестирования: "
   ]
  },
  {
   "cell_type": "code",
   "execution_count": 16,
   "id": "dabbd3f5",
   "metadata": {},
   "outputs": [
    {
     "data": {
      "image/png": "[encoded data removed]",
      "text/plain": [
       "<Figure size 1080x360 with 1 Axes>"
      ]
     },
     "metadata": {
      "needs_background": "light"
     },
     "output_type": "display_data"
    }
   ],
   "source": [
    "# датафрейм с кумулятивным количеством заказов и кумулятивной выручкой по дням в группе А\n",
    "cumulativeRevenueA = cumulativeData[cumulativeData['group']=='A'][['date','revenue', 'orders']]\n",
    "\n",
    "# датафрейм с кумулятивным количеством заказов и кумулятивной выручкой по дням в группе B\n",
    "cumulativeRevenueB = cumulativeData[cumulativeData['group']=='B'][['date','revenue', 'orders']]\n",
    "\n",
    "# Строим график выручки группы А\n",
    "plt.figure(figsize=(15,5))\n",
    "plt.plot(cumulativeRevenueA['date'], cumulativeRevenueA['revenue'], label='A')\n",
    "\n",
    "# Строим график выручки группы B\n",
    "plt.plot(cumulativeRevenueB['date'], cumulativeRevenueB['revenue'], label='B')\n",
    "plt.title('Графики кумулятивной выручки по группам A/B')\n",
    "plt.ylabel('Выручка')\n",
    "plt.xlabel('Дата')\n",
    "\n",
    "plt.legend() \n",
    "plt.show()"
   ]
  },
  {
   "cell_type": "markdown",
   "id": "235d1f1f",
   "metadata": {},
   "source": [
    "В первой половине месяца группа **В** показывает больший рост выручки, чем группа **А**. Во второй половине наблюдается сильный скачок выручки в группе **В** - скорее всего, на это повлияли крупные заказы."
   ]
  },
  {
   "cell_type": "markdown",
   "id": "48cbdb6d",
   "metadata": {},
   "source": [
    "### Построим графики кумулятивного среднего чека по группам "
   ]
  },
  {
   "cell_type": "code",
   "execution_count": 17,
   "id": "557d75fa",
   "metadata": {},
   "outputs": [
    {
     "data": {
      "text/plain": [
       "<matplotlib.legend.Legend at 0x7f0925bbe430>"
      ]
     },
     "execution_count": 17,
     "metadata": {},
     "output_type": "execute_result"
    },
    {
     "data": {
      "image/png": "[encoded data removed]",
      "text/plain": [
       "<Figure size 1080x360 with 1 Axes>"
      ]
     },
     "metadata": {
      "needs_background": "light"
     },
     "output_type": "display_data"
    }
   ],
   "source": [
    "plt.figure(figsize=(15,5))\n",
    "plt.plot(cumulativeRevenueA['date'], cumulativeRevenueA['revenue']/cumulativeRevenueA['orders'], label='A')\n",
    "plt.plot(cumulativeRevenueB['date'], cumulativeRevenueB['revenue']/cumulativeRevenueB['orders'], label='B')\n",
    "plt.title('Графики кумулятивного среднего чека по группам A/B')\n",
    "plt.ylabel('Средний чек')\n",
    "plt.xlabel('Дата')\n",
    "plt.legend()"
   ]
  },
  {
   "cell_type": "markdown",
   "id": "0f817d5a",
   "metadata": {},
   "source": [
    "Средний чек почти всё время выше, но вновь бросается в глаза резкое повышение в середине отслеживаемого периода."
   ]
  },
  {
   "cell_type": "markdown",
   "id": "76ea3f82",
   "metadata": {},
   "source": [
    "### Построим график относительного различия для среднего чека."
   ]
  },
  {
   "cell_type": "code",
   "execution_count": 18,
   "id": "515eab99",
   "metadata": {},
   "outputs": [
    {
     "data": {
      "text/plain": [
       "Text(0.5, 0, 'Дата')"
      ]
     },
     "execution_count": 18,
     "metadata": {},
     "output_type": "execute_result"
    },
    {
     "data": {
      "image/png": "[encoded data removed]",
      "text/plain": [
       "<Figure size 1080x360 with 1 Axes>"
      ]
     },
     "metadata": {
      "needs_background": "light"
     },
     "output_type": "display_data"
    }
   ],
   "source": [
    "# собираем данные в одном датафрейме\n",
    "mergedCumulativeRevenue = cumulativeRevenueA.merge(cumulativeRevenueB, left_on='date', right_on='date', how='left', suffixes=['A', 'B'])\n",
    "\n",
    "plt.figure(figsize=(15,5))\n",
    "# cтроим отношение средних чеков\n",
    "plt.plot(mergedCumulativeRevenue['date'], (mergedCumulativeRevenue['revenueB']/mergedCumulativeRevenue['ordersB'])/(mergedCumulativeRevenue['revenueA']/mergedCumulativeRevenue['ordersA'])-1)\n",
    "\n",
    "# добавляем ось X\n",
    "plt.axhline(y=0, color='black', linestyle='--')\n",
    "\n",
    "plt.title('График относительного изменения кумулятивного среднего чека группы B к группе A')\n",
    "plt.xlabel('Дата')"
   ]
  },
  {
   "cell_type": "markdown",
   "id": "fb2189b1",
   "metadata": {},
   "source": [
    "График различия между сегментами сильно скачет - опять же, нужно будет найти выбросы!"
   ]
  },
  {
   "cell_type": "markdown",
   "id": "dbb1139f",
   "metadata": {},
   "source": [
    "### Построим график кумулятивного среднего количества заказов на посетителя по группам."
   ]
  },
  {
   "cell_type": "code",
   "execution_count": 19,
   "id": "9a7c0175",
   "metadata": {},
   "outputs": [
    {
     "data": {
      "text/plain": [
       "<matplotlib.legend.Legend at 0x7f091d765940>"
      ]
     },
     "execution_count": 19,
     "metadata": {},
     "output_type": "execute_result"
    },
    {
     "data": {
      "image/png": "[encoded data removed]",
      "text/plain": [
       "<Figure size 1080x360 with 1 Axes>"
      ]
     },
     "metadata": {
      "needs_background": "light"
     },
     "output_type": "display_data"
    }
   ],
   "source": [
    "# считаем кумулятивную конверсию\n",
    "cumulativeData['conversion'] = cumulativeData['orders']/cumulativeData['visitors']\n",
    "\n",
    "# отделяем данные по группе A\n",
    "cumulativeDataA = cumulativeData[cumulativeData['group']=='A']\n",
    "\n",
    "# отделяем данные по группе B\n",
    "cumulativeDataB = cumulativeData[cumulativeData['group']=='B']\n",
    "\n",
    "plt.figure(figsize=(15,5))\n",
    "\n",
    "# строим графики\n",
    "plt.plot(cumulativeDataA['date'], cumulativeDataA['conversion'], label='A')\n",
    "plt.plot(cumulativeDataB['date'], cumulativeDataB['conversion'], label='B')\n",
    "plt.title('График кумулятивного среднего количества заказов на посетителя по группам')\n",
    "plt.legend()\n"
   ]
  },
  {
   "cell_type": "markdown",
   "id": "ae3519df",
   "metadata": {},
   "source": [
    "В начале месяца конверсия группы А была сильно выше, далее конверсия группы А снижалась, а у группы В - наоборот, росла. В общем и целом, мы видим, что с 6 августа конверсия группы В выше конверсии группы А после нестабильного периода в начале месяца."
   ]
  },
  {
   "cell_type": "markdown",
   "id": "3170fb8d",
   "metadata": {},
   "source": [
    "### Построим график относительного изменения кумулятивного среднего количества заказов на посетителя группы B к группе A."
   ]
  },
  {
   "cell_type": "code",
   "execution_count": 20,
   "id": "9e5f9d38",
   "metadata": {},
   "outputs": [
    {
     "data": {
      "text/plain": [
       "<matplotlib.lines.Line2D at 0x7f091d72ca60>"
      ]
     },
     "execution_count": 20,
     "metadata": {},
     "output_type": "execute_result"
    },
    {
     "data": {
      "image/png": "[encoded data removed]",
      "text/plain": [
       "<Figure size 1080x360 with 1 Axes>"
      ]
     },
     "metadata": {
      "needs_background": "light"
     },
     "output_type": "display_data"
    }
   ],
   "source": [
    "mergedCumulativeConversions = cumulativeDataA[['date','conversion']]\\\n",
    ".merge(cumulativeDataB[['date','conversion']], left_on='date', right_on='date', how='left', suffixes=['A', 'B'])\n",
    "plt.figure(figsize=(15,5))\n",
    "plt.plot(mergedCumulativeConversions['date'], mergedCumulativeConversions['conversionB'] / \n",
    "         mergedCumulativeConversions['conversionA']-1, label=\"Относительный прирост конверсии группы B относительно группы A\")\n",
    "plt.legend()\n",
    "plt.title('График относительного изменения кумулятивного среднего количества заказов на посетителя группы B к группе A.')\n",
    "plt.axhline(y=0, color='black', linestyle='--')\n",
    "plt.axhline(y=-0.1, color='grey', linestyle='--')"
   ]
  },
  {
   "cell_type": "markdown",
   "id": "97d2fc3f",
   "metadata": {},
   "source": [
    "Этот график дополняет предыдущий - конверсия группы B выше конверсии другой группы на 10% после стабилизации"
   ]
  },
  {
   "cell_type": "markdown",
   "id": "92409491",
   "metadata": {},
   "source": [
    "### Построим точечный график количества заказов по пользователям"
   ]
  },
  {
   "cell_type": "code",
   "execution_count": 21,
   "id": "664119fa",
   "metadata": {},
   "outputs": [
    {
     "data": {
      "text/plain": [
       "<matplotlib.collections.PathCollection at 0x7f091d5a2e80>"
      ]
     },
     "execution_count": 21,
     "metadata": {},
     "output_type": "execute_result"
    },
    {
     "data": {
      "image/png": "[encoded data removed]",
      "text/plain": [
       "<Figure size 1080x360 with 1 Axes>"
      ]
     },
     "metadata": {
      "needs_background": "light"
     },
     "output_type": "display_data"
    }
   ],
   "source": [
    "ordersByUsers = orders.drop(['group', 'revenue', 'date'], axis=1).groupby('visitorId', as_index=False). \\\n",
    "                                                                        agg({'transactionId' : pd.Series.nunique})\n",
    "ordersByUsers.columns = ['userId','orders']\n",
    "\n",
    "x_values = range(0, len(ordersByUsers))\n",
    "plt.figure(figsize=(15, 5))\n",
    "plt.title('График количества заказов по пользователям')\n",
    "plt.scatter(x_values, ordersByUsers['orders'])"
   ]
  },
  {
   "cell_type": "markdown",
   "id": "8853f747",
   "metadata": {},
   "source": [
    "Подавляющее большинство осуществило 1 заказ. Изучим перцентили количества заказов для более точных выводов."
   ]
  },
  {
   "cell_type": "markdown",
   "id": "7196a3e3",
   "metadata": {},
   "source": [
    "### Посчитаем 95-й и 99-й перцентили количества заказов на пользователя"
   ]
  },
  {
   "cell_type": "code",
   "execution_count": 22,
   "id": "11d935ca",
   "metadata": {},
   "outputs": [
    {
     "name": "stdout",
     "output_type": "stream",
     "text": [
      "[2. 4.]\n"
     ]
    }
   ],
   "source": [
    "print(np.percentile(ordersByUsers['orders'], [95, 99]))"
   ]
  },
  {
   "cell_type": "markdown",
   "id": "4704d508",
   "metadata": {},
   "source": [
    "95% пользователей совершили не более 2 заказов, а 99% - не более 4 заказов. Думаю, можно считать аномалиями количество заказов большее, чем 2."
   ]
  },
  {
   "cell_type": "markdown",
   "id": "0919dc0c",
   "metadata": {},
   "source": [
    "### Построим точечный график стоимостей заказов"
   ]
  },
  {
   "cell_type": "code",
   "execution_count": 23,
   "id": "6ffc7d46",
   "metadata": {},
   "outputs": [
    {
     "data": {
      "image/png": "[encoded data removed]",
      "text/plain": [
       "<Figure size 1080x360 with 1 Axes>"
      ]
     },
     "metadata": {
      "needs_background": "light"
     },
     "output_type": "display_data"
    }
   ],
   "source": [
    "x_values = range(0, len(orders['revenue']))\n",
    "plt.figure(figsize=(15,5))\n",
    "plt.title('График стоимостей заказов')\n",
    "plt.scatter(x_values, orders['revenue']);"
   ]
  },
  {
   "cell_type": "markdown",
   "id": "88db80bf",
   "metadata": {},
   "source": [
    "Четко виднеются 2 выброса посередине и в конце графика. Построим еще один график без явных выбросов"
   ]
  },
  {
   "cell_type": "code",
   "execution_count": 24,
   "id": "a6285f77",
   "metadata": {},
   "outputs": [
    {
     "data": {
      "image/png": "[encoded data removed]",
      "text/plain": [
       "<Figure size 1080x360 with 1 Axes>"
      ]
     },
     "metadata": {
      "needs_background": "light"
     },
     "output_type": "display_data"
    }
   ],
   "source": [
    "plt.figure(figsize=(15,5))\n",
    "plt.title('График стоимостей заказов')\n",
    "plt.axis([-50, 1250, 0, 200000])\n",
    "plt.scatter(x_values, orders['revenue']);"
   ]
  },
  {
   "cell_type": "markdown",
   "id": "3bd2819a",
   "metadata": {},
   "source": [
    "Видно, что основное скопление - это заказы со стоимостью <20000. Посчитаем перцентили."
   ]
  },
  {
   "cell_type": "markdown",
   "id": "1250dda6",
   "metadata": {},
   "source": [
    "### Посчитаем 95-й и 99-й перцентили стоимости заказов"
   ]
  },
  {
   "cell_type": "code",
   "execution_count": 25,
   "id": "66a8ea91",
   "metadata": {},
   "outputs": [
    {
     "name": "stdout",
     "output_type": "stream",
     "text": [
      "[28000.  58233.2]\n"
     ]
    }
   ],
   "source": [
    "print(np.percentile(orders['revenue'], [95, 99]))"
   ]
  },
  {
   "cell_type": "markdown",
   "id": "1b4fa5d8",
   "metadata": {},
   "source": [
    "99% заказов имели стоимость не более 58233.2 - возьмем это число за границу для определния аномалий."
   ]
  },
  {
   "cell_type": "markdown",
   "id": "bc3172b0",
   "metadata": {},
   "source": [
    "### Посчитаем статистическую значимость различий в среднем количестве заказов на посетителя между группами по «сырым» данным"
   ]
  },
  {
   "cell_type": "markdown",
   "id": "ca7fa80a",
   "metadata": {},
   "source": [
    "Соберем данные по заказам и визитам пользователей в одну таблицу"
   ]
  },
  {
   "cell_type": "code",
   "execution_count": 26,
   "id": "4f6a6967",
   "metadata": {},
   "outputs": [
    {
     "name": "stdout",
     "output_type": "stream",
     "text": [
      "        date  ordersPerDateA  revenuePerDateA  ordersPerDateB  \\\n",
      "0 2019-08-01  24              148579           21               \n",
      "1 2019-08-02  20              93822            24               \n",
      "2 2019-08-03  24              112473           16               \n",
      "3 2019-08-04  16              70825            17               \n",
      "4 2019-08-05  25              124218           23               \n",
      "\n",
      "   revenuePerDateB  ordersCummulativeA  revenueCummulativeA  \\\n",
      "0  101217           24                  148579                \n",
      "1  165531           44                  242401                \n",
      "2  114248           68                  354874                \n",
      "3  108571           84                  425699                \n",
      "4  92428            109                 549917                \n",
      "\n",
      "   ordersCummulativeB  revenueCummulativeB  visitorsPerDateA  \\\n",
      "0  21                  101217               719                \n",
      "1  45                  266748               619                \n",
      "2  61                  380996               507                \n",
      "3  78                  489567               717                \n",
      "4  101                 581995               756                \n",
      "\n",
      "   visitorsPerDateB  visitorsCummulativeA  visitorsCummulativeB  \n",
      "0  713               719                   713                   \n",
      "1  581               1338                  1294                  \n",
      "2  509               1845                  1803                  \n",
      "3  770               2562                  2573                  \n",
      "4  707               3318                  3280                  \n"
     ]
    }
   ],
   "source": [
    "visitorsADaily = visitors[visitors['group'] == 'A'][['date', 'visitors']]\n",
    "visitorsADaily.columns = ['date', 'visitorsPerDateA']\n",
    "\n",
    "visitorsACummulative = visitorsADaily.apply(\n",
    "    lambda x: visitorsADaily[visitorsADaily['date'] <= x['date']].agg(\n",
    "        {'date': 'max', 'visitorsPerDateA': 'sum'}\n",
    "    ),\n",
    "    axis=1,\n",
    ")\n",
    "visitorsACummulative.columns = ['date', 'visitorsCummulativeA']\n",
    "\n",
    "visitorsBDaily = visitors[visitors['group'] == 'B'][['date', 'visitors']]\n",
    "visitorsBDaily.columns = ['date', 'visitorsPerDateB']\n",
    "\n",
    "visitorsBCummulative = visitorsBDaily.apply(\n",
    "    lambda x: visitorsBDaily[visitorsBDaily['date'] <= x['date']].agg(\n",
    "        {'date': 'max', 'visitorsPerDateB': 'sum'}\n",
    "    ),\n",
    "    axis=1,\n",
    ")\n",
    "visitorsBCummulative.columns = ['date', 'visitorsCummulativeB']\n",
    "\n",
    "ordersADaily = (\n",
    "    orders[orders['group'] == 'A'][['date', 'transactionId', 'visitorId', 'revenue']]\n",
    "    .groupby('date', as_index=False)\n",
    "    .agg({'transactionId': pd.Series.nunique, 'revenue': 'sum'})\n",
    ")\n",
    "ordersADaily.columns = ['date', 'ordersPerDateA', 'revenuePerDateA']\n",
    "\n",
    "ordersACummulative = ordersADaily.apply(\n",
    "    lambda x: ordersADaily[ordersADaily['date'] <= x['date']].agg(\n",
    "        {'date': 'max', 'ordersPerDateA': 'sum', 'revenuePerDateA': 'sum'}\n",
    "    ),\n",
    "    axis=1,\n",
    ").sort_values(by=['date'])\n",
    "ordersACummulative.columns = [\n",
    "    'date',\n",
    "    'ordersCummulativeA',\n",
    "    'revenueCummulativeA',\n",
    "]\n",
    "\n",
    "ordersBDaily = (\n",
    "    orders[orders['group'] == 'B'][['date', 'transactionId', 'visitorId', 'revenue']]\n",
    "    .groupby('date', as_index=False)\n",
    "    .agg({'transactionId': pd.Series.nunique, 'revenue': 'sum'})\n",
    ")\n",
    "ordersBDaily.columns = ['date', 'ordersPerDateB', 'revenuePerDateB']\n",
    "\n",
    "ordersBCummulative = ordersBDaily.apply(\n",
    "    lambda x: ordersBDaily[ordersBDaily['date'] <= x['date']].agg(\n",
    "        {'date': 'max', 'ordersPerDateB': 'sum', 'revenuePerDateB': 'sum'}\n",
    "    ),\n",
    "    axis=1,\n",
    ").sort_values(by=['date'])\n",
    "ordersBCummulative.columns = [\n",
    "    'date',\n",
    "    'ordersCummulativeB',\n",
    "    'revenueCummulativeB',\n",
    "]\n",
    "\n",
    "data = (\n",
    "    ordersADaily.merge(\n",
    "        ordersBDaily, left_on='date', right_on='date', how='left'\n",
    "    )\n",
    "    .merge(ordersACummulative, left_on='date', right_on='date', how='left')\n",
    "    .merge(ordersBCummulative, left_on='date', right_on='date', how='left')\n",
    "    .merge(visitorsADaily, left_on='date', right_on='date', how='left')\n",
    "    .merge(visitorsBDaily, left_on='date', right_on='date', how='left')\n",
    "    .merge(visitorsACummulative, left_on='date', right_on='date', how='left')\n",
    "    .merge(visitorsBCummulative, left_on='date', right_on='date', how='left')\n",
    ")\n",
    "\n",
    "print(data.head(5)) "
   ]
  },
  {
   "cell_type": "markdown",
   "id": "de7a68a2",
   "metadata": {},
   "source": [
    "Применим критерий и отформатируем p-value.\n",
    "\n",
    "Выведем относительный прирост среднего числа заказов группы B: среднее число заказов группы B / среднее число заказов группы A - 1\n",
    "\n",
    "За нулевую гипотезу возьмём, что статистически значимых различий в конверсии между группами нет, тогда альтернативная гипотеза - статистически значимые различия есть.\n",
    "\n",
    "Примем уровень стат. значимости alpha = 0.05 и критерий Манна-Уитни для проверки."
   ]
  },
  {
   "cell_type": "code",
   "execution_count": 27,
   "id": "753ebed4",
   "metadata": {},
   "outputs": [
    {
     "name": "stdout",
     "output_type": "stream",
     "text": [
      "alpha = 0.05\n",
      "p-value = 0.017\n",
      "Относительный показатель 'B' и 'A' = 0.138\n"
     ]
    }
   ],
   "source": [
    "ordersByUsersA = orders[orders['group']=='A'].groupby('visitorId', as_index=False)\\\n",
    ".agg({'transactionId' : pd.Series.nunique})\n",
    "ordersByUsersA.columns = ['userId', 'orders']\n",
    "\n",
    "ordersByUsersB = orders[orders['group']=='B'].groupby('visitorId', as_index=False)\\\n",
    ".agg({'transactionId' : pd.Series.nunique})\n",
    "ordersByUsersB.columns = ['userId', 'orders']\n",
    "\n",
    "sampleA = pd.concat([ordersByUsersA['orders'], pd.Series(0, index=np.arange(data['visitorsPerDateA'].sum()\\\n",
    "        - len(ordersByUsersA['orders'])), name='orders')],axis=0)\n",
    "\n",
    "sampleB = pd.concat([ordersByUsersB['orders'],pd.Series(0, index=np.arange(data['visitorsPerDateB'].sum()\\\n",
    "        - len(ordersByUsersB['orders'])), name='orders')],axis=0)\n",
    "\n",
    "print(\"alpha =\",0.05)\n",
    "print(\"p-value = {0:.3f}\".format(stats.mannwhitneyu(sampleA, sampleB, alternative = 'two-sided')[1]))\n",
    "print(\"Относительный показатель 'B' и 'A' = {0:.3f}\".format(sampleB.mean()/sampleA.mean()-1)) "
   ]
  },
  {
   "cell_type": "markdown",
   "id": "3a764a2e",
   "metadata": {},
   "source": [
    "Разница стат. значима - отвергаем нулевую гипотезу, значит, по «сырым» данным различия в конверсиях групп A и B есть. \n",
    "\n",
    "Относительный выигрыш группы \"B\" над \"A\" равен 13.8% "
   ]
  },
  {
   "cell_type": "markdown",
   "id": "dca4ef84",
   "metadata": {},
   "source": [
    "### Посчитаем статистическую значимость различий в среднем чеке заказа между группами по «сырым» данным"
   ]
  },
  {
   "cell_type": "code",
   "execution_count": 28,
   "id": "3cf7a2d1",
   "metadata": {},
   "outputs": [
    {
     "name": "stdout",
     "output_type": "stream",
     "text": [
      "alpha = 0.05\n",
      "p-value = 0.729\n",
      "Относительный показатель 'B' и 'A' = 0.259\n"
     ]
    }
   ],
   "source": [
    "print(\"alpha =\", 0.05)\n",
    "print(\"p-value = {0:.3f}\".format(stats.mannwhitneyu(orders[orders['group']=='A']['revenue'], \n",
    "                                                    orders[orders['group']=='B']['revenue'], \n",
    "                                                    alternative = 'two-sided')[1]))\n",
    "print(\"Относительный показатель 'B' и 'A' = {0:.3f}\".format(orders[orders['group']=='B']['revenue'].mean()\n",
    "                                                            / orders[orders['group']=='A']['revenue'].mean() - 1)) "
   ]
  },
  {
   "cell_type": "markdown",
   "id": "e57ccf9c",
   "metadata": {},
   "source": [
    "p-value > alpha, мы принимаем нулевую гипотезу - средние чеки по \"сырым\" данным схожи. \n",
    "\n",
    "Средний чек группы B при этом выше, чем у группы А на 26%."
   ]
  },
  {
   "cell_type": "markdown",
   "id": "2f3b204a",
   "metadata": {},
   "source": [
    "### Посчитаем статистическую значимость различий в среднем количестве заказов на посетителя между группами по «очищенным» данным"
   ]
  },
  {
   "cell_type": "markdown",
   "id": "c1d9c581",
   "metadata": {},
   "source": [
    "Примем за аномальных пользователей тех, чьё кол-во заказов больше двух и чья сумма заказа больше 58233.2 и очистим данные."
   ]
  },
  {
   "cell_type": "code",
   "execution_count": 29,
   "id": "a07b88ab",
   "metadata": {},
   "outputs": [
    {
     "name": "stdout",
     "output_type": "stream",
     "text": [
      "1099    148427295\n",
      "18      199603092\n",
      "23      237748145\n",
      "37      249864742\n",
      "68      457167155\n",
      "dtype: int64\n",
      "31\n",
      "Всего пользователей = 31\n"
     ]
    }
   ],
   "source": [
    "usersWithManyOrders = pd.concat(\n",
    "    [\n",
    "        ordersByUsersA[ordersByUsersA['orders'] > int(np.percentile(ordersByUsers['orders'], [95]))]['userId'],\n",
    "        ordersByUsersB[ordersByUsersB['orders'] > int(np.percentile(ordersByUsers['orders'], [95]))]['userId'],\n",
    "    ],\n",
    "    axis=0,\n",
    ")\n",
    "usersWithExpensiveOrders = orders[orders['revenue'] > int(np.percentile(orders['revenue'], [99])) ]['visitorId']\n",
    "abnormalUsers = (\n",
    "    pd.concat([usersWithManyOrders, usersWithExpensiveOrders], axis=0)\n",
    "    .drop_duplicates()\n",
    "    .sort_values()\n",
    ")\n",
    "print(abnormalUsers.head(5))\n",
    "print(abnormalUsers.shape[0])\n",
    "print(\"Всего пользователей =\", abnormalUsers.shape[0]) "
   ]
  },
  {
   "cell_type": "code",
   "execution_count": 30,
   "id": "85b8c2b1",
   "metadata": {},
   "outputs": [
    {
     "name": "stdout",
     "output_type": "stream",
     "text": [
      "alpha = 0.05\n",
      "p-value = 0.010\n",
      "Относительный показатель 'B' и 'A' = 0.174\n"
     ]
    }
   ],
   "source": [
    "sampleAFiltered = pd.concat([ordersByUsersA[np.logical_not(ordersByUsersA['userId'].isin(abnormalUsers))]['orders'], \\\n",
    "                             pd.Series(0, index=np.arange(data['visitorsPerDateA'].sum() - len(ordersByUsersA['orders'])), \\\n",
    "                                       name='orders')],axis=0)\n",
    "\n",
    "sampleBFiltered = pd.concat([ordersByUsersB[np.logical_not(ordersByUsersB['userId'].isin(abnormalUsers))]['orders'], \\\n",
    "                             pd.Series(0, index=np.arange(data['visitorsPerDateB'].sum() - len(ordersByUsersB['orders'])), \\\n",
    "                                       name='orders')],axis=0) \n",
    "\n",
    "print(\"alpha =\",0.05)\n",
    "print(\"p-value = {0:.3f}\".format(stats.mannwhitneyu(sampleAFiltered, sampleBFiltered, alternative = 'two-sided')[1]))\n",
    "print(\"Относительный показатель 'B' и 'A' = {0:.3f}\".format(sampleBFiltered.mean()/sampleAFiltered.mean()-1)) "
   ]
  },
  {
   "cell_type": "markdown",
   "id": "b89c4f66",
   "metadata": {},
   "source": [
    "p-value меньше 0.05 - отвергаем гипотезу о том, что статистически значимых различий в конверсии между группами нет. Следовательно, и по «очищенным» данным различия в конверсии групп A и B есть, а относительный выигрыш группы \"B\" над \"A\" равен 17,4%"
   ]
  },
  {
   "cell_type": "markdown",
   "id": "81dc3a37",
   "metadata": {},
   "source": [
    "### Посчитаем статистическую значимость различий в среднем чеке заказа между группами по «очищенным» данным"
   ]
  },
  {
   "cell_type": "code",
   "execution_count": 31,
   "id": "c33d99aa",
   "metadata": {},
   "outputs": [
    {
     "name": "stdout",
     "output_type": "stream",
     "text": [
      "alpha = 0.05\n",
      "p-value = 0.798\n",
      "Относительный показатель 'B' и 'A' = -0.020\n"
     ]
    }
   ],
   "source": [
    "print(\"alpha =\",0.05)\n",
    "print(\"p-value = {0:.3f}\".format(stats.mannwhitneyu(\n",
    "    orders[np.logical_and(\n",
    "        orders['group']=='A',\n",
    "        np.logical_not(orders['visitorId'].isin(abnormalUsers)))]['revenue'],\n",
    "    orders[np.logical_and(\n",
    "        orders['group']=='B',\n",
    "        np.logical_not(orders['visitorId'].isin(abnormalUsers)))]['revenue'], alternative = 'two-sided')[1]))\n",
    "\n",
    "print(\"Относительный показатель 'B' и 'A' = {0:.3f}\".format(\n",
    "    orders[np.logical_and(orders['group']=='B',np.logical_not(orders['visitorId'].isin(abnormalUsers)))]['revenue'].mean()/\n",
    "    orders[np.logical_and(\n",
    "        orders['group']=='A',\n",
    "        np.logical_not(orders['visitorId'].isin(abnormalUsers)))]['revenue'].mean() - 1)) "
   ]
  },
  {
   "cell_type": "markdown",
   "id": "45444d89",
   "metadata": {},
   "source": [
    "p-value больше 0.05 - как и в случае с \"сырыми\" данными, причин отвергать нулевую гипотезу и считать, что в среднем чеке есть различия, нет. Однако, средний чек группы B оказался незначительно (на 2%) ниже среднего чека группы A, в то время как по \"сырым\" данным, он был больше на 26%, что объясняется выбросами."
   ]
  },
  {
   "cell_type": "markdown",
   "id": "80379af7",
   "metadata": {},
   "source": [
    "### Примем решение по результатам теста"
   ]
  },
  {
   "cell_type": "markdown",
   "id": "e66e94b9",
   "metadata": {},
   "source": [
    "По результатам тестирования было выявлено:\n",
    "\n",
    "- Как по \"сырым\", так и по \"очищенным\" данным различия в конверсии групп A и B есть, относительный выигрыш группы \"B\" над \"A\" равен 17,4% по \"очищенным\" и 13.8% по \"сырым\" данным.\n",
    "\n",
    "- Как по \"сырым\", так и по \"очищенным\" данным различия в средних чеках групп A и B отстутствуют, несмотря на то, что средний чек группы B оказался незначительно (на 2%) ниже среднего чека группы A по \"очищенным\" данным, в то время как по \"сырым\" данным, он был больше на 26% из-за аномальных заказов.\n",
    "\n",
    "\n",
    "Считаю, что можно остановить тестирование, признать его успешным и зафиксировать победу группы B - несмотря на небольшую разницу в среднем чеке с группой А, группа В показывает стабильно большую конверсию."
   ]
  },
  {
   "cell_type": "markdown",
   "id": "97b9a178",
   "metadata": {},
   "source": [
    "## Вывод\n",
    "\n",
    "В результате данного проекта мы загрузили и предобработали исходные данные, затем применили различные фреймворки для приоретизации гипотез и выбрали наиболее важные: 7, 2 и 0. \n",
    "\n",
    "Кроме того, мы провели анализ результатов A/B теста - построили графики, выявили и исключили аномалии, подготовили выборки и, с помощью критерия Манна-Уитни, проверили гипотезы о равенстве между выборками, и убедились в успешном проведении теста - конверсия группы В увеличилась на 17%, средний чек не изменился."
   ]
  }
 ],
 "metadata": {
  "ExecuteTimeLog": [
   {
    "duration": 1273,
    "start_time": "2023-04-15T16:48:28.470Z"
   },
   {
    "duration": 167,
    "start_time": "2023-04-15T16:48:29.749Z"
   },
   {
    "duration": 46,
    "start_time": "2023-04-15T16:48:29.918Z"
   },
   {
    "duration": 37,
    "start_time": "2023-04-15T16:48:29.966Z"
   },
   {
    "duration": 13,
    "start_time": "2023-04-15T16:48:30.006Z"
   },
   {
    "duration": 57,
    "start_time": "2023-04-15T16:48:30.022Z"
   },
   {
    "duration": 50,
    "start_time": "2023-04-15T16:48:30.081Z"
   },
   {
    "duration": 48,
    "start_time": "2023-04-15T16:48:30.133Z"
   },
   {
    "duration": 48,
    "start_time": "2023-04-15T16:48:30.183Z"
   },
   {
    "duration": 48,
    "start_time": "2023-04-15T16:48:30.233Z"
   },
   {
    "duration": 22,
    "start_time": "2023-04-15T16:48:30.283Z"
   },
   {
    "duration": 28,
    "start_time": "2023-04-15T16:48:30.307Z"
   },
   {
    "duration": 86,
    "start_time": "2023-04-15T16:48:30.337Z"
   },
   {
    "duration": 418,
    "start_time": "2023-04-15T16:48:30.427Z"
   },
   {
    "duration": 380,
    "start_time": "2023-04-15T16:48:30.848Z"
   },
   {
    "duration": 261,
    "start_time": "2023-04-15T16:48:31.230Z"
   },
   {
    "duration": 341,
    "start_time": "2023-04-15T16:48:31.494Z"
   },
   {
    "duration": 278,
    "start_time": "2023-04-15T16:48:31.836Z"
   },
   {
    "duration": 402,
    "start_time": "2023-04-15T16:48:32.116Z"
   },
   {
    "duration": 345,
    "start_time": "2023-04-15T16:48:32.520Z"
   },
   {
    "duration": 6,
    "start_time": "2023-04-15T16:48:32.871Z"
   },
   {
    "duration": 196,
    "start_time": "2023-04-15T16:48:32.879Z"
   },
   {
    "duration": 206,
    "start_time": "2023-04-15T16:48:33.077Z"
   },
   {
    "duration": 5,
    "start_time": "2023-04-15T16:48:33.286Z"
   },
   {
    "duration": 376,
    "start_time": "2023-04-15T16:48:33.293Z"
   },
   {
    "duration": 203,
    "start_time": "2023-04-15T16:48:33.671Z"
   },
   {
    "duration": 13,
    "start_time": "2023-04-15T16:48:33.876Z"
   },
   {
    "duration": 11,
    "start_time": "2023-04-15T16:48:33.890Z"
   },
   {
    "duration": 64,
    "start_time": "2023-04-15T16:48:33.903Z"
   },
   {
    "duration": 17,
    "start_time": "2023-04-15T16:48:33.969Z"
   },
   {
    "duration": 1312,
    "start_time": "2023-04-15T17:17:56.927Z"
   },
   {
    "duration": 177,
    "start_time": "2023-04-15T17:17:58.242Z"
   },
   {
    "duration": 32,
    "start_time": "2023-04-15T17:17:58.421Z"
   },
   {
    "duration": 116,
    "start_time": "2023-04-15T17:17:58.455Z"
   },
   {
    "duration": 10,
    "start_time": "2023-04-15T17:17:58.573Z"
   },
   {
    "duration": 20,
    "start_time": "2023-04-15T17:17:58.585Z"
   },
   {
    "duration": 23,
    "start_time": "2023-04-15T17:17:58.607Z"
   },
   {
    "duration": 20,
    "start_time": "2023-04-15T17:17:58.631Z"
   },
   {
    "duration": 22,
    "start_time": "2023-04-15T17:17:58.654Z"
   },
   {
    "duration": 9,
    "start_time": "2023-04-15T17:17:58.679Z"
   },
   {
    "duration": 23,
    "start_time": "2023-04-15T17:17:58.690Z"
   },
   {
    "duration": 21,
    "start_time": "2023-04-15T17:17:58.715Z"
   },
   {
    "duration": 30,
    "start_time": "2023-04-15T17:17:58.737Z"
   },
   {
    "duration": 313,
    "start_time": "2023-04-15T17:17:58.768Z"
   },
   {
    "duration": 339,
    "start_time": "2023-04-15T17:17:59.083Z"
   },
   {
    "duration": 250,
    "start_time": "2023-04-15T17:17:59.425Z"
   },
   {
    "duration": 325,
    "start_time": "2023-04-15T17:17:59.677Z"
   },
   {
    "duration": 271,
    "start_time": "2023-04-15T17:18:00.004Z"
   },
   {
    "duration": 350,
    "start_time": "2023-04-15T17:18:00.277Z"
   },
   {
    "duration": 334,
    "start_time": "2023-04-15T17:18:00.640Z"
   },
   {
    "duration": 4,
    "start_time": "2023-04-15T17:18:00.976Z"
   },
   {
    "duration": 210,
    "start_time": "2023-04-15T17:18:00.982Z"
   },
   {
    "duration": 195,
    "start_time": "2023-04-15T17:18:01.194Z"
   },
   {
    "duration": 5,
    "start_time": "2023-04-15T17:18:01.391Z"
   },
   {
    "duration": 360,
    "start_time": "2023-04-15T17:18:01.399Z"
   },
   {
    "duration": 177,
    "start_time": "2023-04-15T17:18:01.761Z"
   },
   {
    "duration": 13,
    "start_time": "2023-04-15T17:18:01.940Z"
   },
   {
    "duration": 117,
    "start_time": "2023-04-15T17:18:01.956Z"
   },
   {
    "duration": 278,
    "start_time": "2023-04-15T17:18:02.075Z"
   },
   {
    "duration": 97,
    "start_time": "2023-04-15T17:18:02.355Z"
   },
   {
    "duration": 1192,
    "start_time": "2023-04-15T17:18:58.276Z"
   },
   {
    "duration": 116,
    "start_time": "2023-04-15T17:18:59.470Z"
   },
   {
    "duration": 31,
    "start_time": "2023-04-15T17:18:59.588Z"
   },
   {
    "duration": 39,
    "start_time": "2023-04-15T17:18:59.621Z"
   },
   {
    "duration": 10,
    "start_time": "2023-04-15T17:18:59.662Z"
   },
   {
    "duration": 30,
    "start_time": "2023-04-15T17:18:59.674Z"
   },
   {
    "duration": 17,
    "start_time": "2023-04-15T17:18:59.706Z"
   },
   {
    "duration": 13,
    "start_time": "2023-04-15T17:18:59.725Z"
   },
   {
    "duration": 18,
    "start_time": "2023-04-15T17:18:59.740Z"
   },
   {
    "duration": 8,
    "start_time": "2023-04-15T17:18:59.760Z"
   },
   {
    "duration": 10,
    "start_time": "2023-04-15T17:18:59.770Z"
   },
   {
    "duration": 15,
    "start_time": "2023-04-15T17:18:59.782Z"
   },
   {
    "duration": 15,
    "start_time": "2023-04-15T17:18:59.799Z"
   },
   {
    "duration": 339,
    "start_time": "2023-04-15T17:18:59.817Z"
   },
   {
    "duration": 346,
    "start_time": "2023-04-15T17:19:00.158Z"
   },
   {
    "duration": 279,
    "start_time": "2023-04-15T17:19:00.506Z"
   },
   {
    "duration": 334,
    "start_time": "2023-04-15T17:19:00.787Z"
   },
   {
    "duration": 275,
    "start_time": "2023-04-15T17:19:01.123Z"
   },
   {
    "duration": 398,
    "start_time": "2023-04-15T17:19:01.400Z"
   },
   {
    "duration": 292,
    "start_time": "2023-04-15T17:19:01.800Z"
   },
   {
    "duration": 4,
    "start_time": "2023-04-15T17:19:02.094Z"
   },
   {
    "duration": 196,
    "start_time": "2023-04-15T17:19:02.100Z"
   },
   {
    "duration": 179,
    "start_time": "2023-04-15T17:19:02.298Z"
   },
   {
    "duration": 4,
    "start_time": "2023-04-15T17:19:02.480Z"
   },
   {
    "duration": 356,
    "start_time": "2023-04-15T17:19:02.486Z"
   },
   {
    "duration": 187,
    "start_time": "2023-04-15T17:19:02.844Z"
   },
   {
    "duration": 20,
    "start_time": "2023-04-15T17:19:03.032Z"
   },
   {
    "duration": 25,
    "start_time": "2023-04-15T17:19:03.054Z"
   },
   {
    "duration": 67,
    "start_time": "2023-04-15T17:19:03.081Z"
   },
   {
    "duration": 17,
    "start_time": "2023-04-15T17:19:03.150Z"
   },
   {
    "duration": 3,
    "start_time": "2023-04-15T17:33:07.130Z"
   },
   {
    "duration": 1262,
    "start_time": "2023-04-15T17:53:38.808Z"
   },
   {
    "duration": 3,
    "start_time": "2023-04-15T17:53:40.965Z"
   },
   {
    "duration": 118,
    "start_time": "2023-04-15T17:53:40.970Z"
   },
   {
    "duration": 24,
    "start_time": "2023-04-15T17:53:41.090Z"
   },
   {
    "duration": 39,
    "start_time": "2023-04-15T17:53:41.116Z"
   },
   {
    "duration": 7,
    "start_time": "2023-04-15T17:53:41.156Z"
   },
   {
    "duration": 15,
    "start_time": "2023-04-15T17:53:41.164Z"
   },
   {
    "duration": 16,
    "start_time": "2023-04-15T17:53:41.181Z"
   },
   {
    "duration": 13,
    "start_time": "2023-04-15T17:53:41.199Z"
   },
   {
    "duration": 8,
    "start_time": "2023-04-15T17:53:41.215Z"
   },
   {
    "duration": 20,
    "start_time": "2023-04-15T17:53:41.224Z"
   },
   {
    "duration": 24,
    "start_time": "2023-04-15T17:53:41.246Z"
   },
   {
    "duration": 17,
    "start_time": "2023-04-15T17:53:41.272Z"
   },
   {
    "duration": 29,
    "start_time": "2023-04-15T17:53:41.291Z"
   },
   {
    "duration": 266,
    "start_time": "2023-04-15T17:53:41.321Z"
   },
   {
    "duration": 286,
    "start_time": "2023-04-15T17:53:41.588Z"
   },
   {
    "duration": 212,
    "start_time": "2023-04-15T17:53:41.876Z"
   },
   {
    "duration": 339,
    "start_time": "2023-04-15T17:53:42.089Z"
   },
   {
    "duration": 216,
    "start_time": "2023-04-15T17:53:42.429Z"
   },
   {
    "duration": 315,
    "start_time": "2023-04-15T17:53:42.646Z"
   },
   {
    "duration": 261,
    "start_time": "2023-04-15T17:53:42.963Z"
   },
   {
    "duration": 8,
    "start_time": "2023-04-15T17:53:43.226Z"
   },
   {
    "duration": 150,
    "start_time": "2023-04-15T17:53:43.236Z"
   },
   {
    "duration": 159,
    "start_time": "2023-04-15T17:53:43.388Z"
   },
   {
    "duration": 4,
    "start_time": "2023-04-15T17:53:43.550Z"
   },
   {
    "duration": 285,
    "start_time": "2023-04-15T17:53:43.556Z"
   },
   {
    "duration": 147,
    "start_time": "2023-04-15T17:53:43.843Z"
   },
   {
    "duration": 9,
    "start_time": "2023-04-15T17:53:43.991Z"
   },
   {
    "duration": 7,
    "start_time": "2023-04-15T17:53:44.002Z"
   },
   {
    "duration": 41,
    "start_time": "2023-04-15T17:53:44.011Z"
   },
   {
    "duration": 12,
    "start_time": "2023-04-15T17:53:44.054Z"
   },
   {
    "duration": 13,
    "start_time": "2023-04-15T17:54:00.029Z"
   },
   {
    "duration": 11,
    "start_time": "2023-04-15T17:54:35.417Z"
   },
   {
    "duration": 7,
    "start_time": "2023-04-15T17:54:45.040Z"
   },
   {
    "duration": 7,
    "start_time": "2023-04-15T17:54:51.524Z"
   },
   {
    "duration": 92,
    "start_time": "2023-04-15T17:55:04.434Z"
   },
   {
    "duration": 8,
    "start_time": "2023-04-15T17:55:08.240Z"
   },
   {
    "duration": 3,
    "start_time": "2023-04-15T17:55:12.549Z"
   },
   {
    "duration": 12,
    "start_time": "2023-04-15T17:55:17.628Z"
   },
   {
    "duration": 5,
    "start_time": "2023-04-15T17:55:59.945Z"
   },
   {
    "duration": 7,
    "start_time": "2023-04-15T17:56:06.946Z"
   },
   {
    "duration": 12,
    "start_time": "2023-04-15T17:56:11.421Z"
   },
   {
    "duration": 12,
    "start_time": "2023-04-15T17:56:21.966Z"
   },
   {
    "duration": 1363,
    "start_time": "2023-04-15T17:56:30.321Z"
   },
   {
    "duration": 67,
    "start_time": "2023-04-15T17:56:34.554Z"
   },
   {
    "duration": 12,
    "start_time": "2023-04-15T17:56:36.224Z"
   },
   {
    "duration": 11,
    "start_time": "2023-04-15T17:56:41.769Z"
   },
   {
    "duration": 85,
    "start_time": "2023-04-15T17:56:57.881Z"
   },
   {
    "duration": 1477,
    "start_time": "2023-04-15T17:57:00.723Z"
   },
   {
    "duration": 11,
    "start_time": "2023-04-15T17:57:19.744Z"
   },
   {
    "duration": 652,
    "start_time": "2023-04-15T17:57:32.909Z"
   },
   {
    "duration": 68,
    "start_time": "2023-04-15T17:57:48.325Z"
   },
   {
    "duration": 10,
    "start_time": "2023-04-15T17:57:59.022Z"
   },
   {
    "duration": 10,
    "start_time": "2023-04-15T17:58:33.029Z"
   },
   {
    "duration": 15,
    "start_time": "2023-04-15T17:59:40.454Z"
   },
   {
    "duration": 79,
    "start_time": "2023-04-15T18:03:14.246Z"
   },
   {
    "duration": 197,
    "start_time": "2023-04-15T18:04:01.357Z"
   },
   {
    "duration": 5,
    "start_time": "2023-04-15T22:17:23.694Z"
   },
   {
    "duration": 11,
    "start_time": "2023-04-15T22:18:13.182Z"
   },
   {
    "duration": 10,
    "start_time": "2023-04-15T22:18:22.254Z"
   },
   {
    "duration": 13,
    "start_time": "2023-04-15T22:18:34.528Z"
   },
   {
    "duration": 13,
    "start_time": "2023-04-15T22:18:38.133Z"
   },
   {
    "duration": 10,
    "start_time": "2023-04-15T22:18:42.766Z"
   },
   {
    "duration": 10,
    "start_time": "2023-04-15T22:18:44.899Z"
   },
   {
    "duration": 10,
    "start_time": "2023-04-15T22:18:51.447Z"
   },
   {
    "duration": 30,
    "start_time": "2023-04-15T22:19:10.488Z"
   },
   {
    "duration": 1182,
    "start_time": "2023-04-15T23:16:00.326Z"
   },
   {
    "duration": 234,
    "start_time": "2023-04-15T23:16:01.510Z"
   },
   {
    "duration": 30,
    "start_time": "2023-04-15T23:16:01.745Z"
   },
   {
    "duration": 40,
    "start_time": "2023-04-15T23:16:01.777Z"
   },
   {
    "duration": 8,
    "start_time": "2023-04-15T23:16:01.819Z"
   },
   {
    "duration": 49,
    "start_time": "2023-04-15T23:16:01.829Z"
   },
   {
    "duration": 40,
    "start_time": "2023-04-15T23:16:01.880Z"
   },
   {
    "duration": 39,
    "start_time": "2023-04-15T23:16:01.922Z"
   },
   {
    "duration": 52,
    "start_time": "2023-04-15T23:16:01.963Z"
   },
   {
    "duration": 29,
    "start_time": "2023-04-15T23:16:02.019Z"
   },
   {
    "duration": 11,
    "start_time": "2023-04-15T23:16:02.049Z"
   },
   {
    "duration": 38,
    "start_time": "2023-04-15T23:16:02.061Z"
   },
   {
    "duration": 31,
    "start_time": "2023-04-15T23:16:02.101Z"
   },
   {
    "duration": 22,
    "start_time": "2023-04-15T23:16:02.133Z"
   },
   {
    "duration": 318,
    "start_time": "2023-04-15T23:16:02.157Z"
   },
   {
    "duration": 311,
    "start_time": "2023-04-15T23:16:02.477Z"
   },
   {
    "duration": 237,
    "start_time": "2023-04-15T23:16:02.790Z"
   },
   {
    "duration": 306,
    "start_time": "2023-04-15T23:16:03.029Z"
   },
   {
    "duration": 234,
    "start_time": "2023-04-15T23:16:03.336Z"
   },
   {
    "duration": 375,
    "start_time": "2023-04-15T23:16:03.572Z"
   },
   {
    "duration": 272,
    "start_time": "2023-04-15T23:16:03.948Z"
   },
   {
    "duration": 4,
    "start_time": "2023-04-15T23:16:04.222Z"
   },
   {
    "duration": 173,
    "start_time": "2023-04-15T23:16:04.227Z"
   },
   {
    "duration": 177,
    "start_time": "2023-04-15T23:16:04.402Z"
   },
   {
    "duration": 8,
    "start_time": "2023-04-15T23:16:04.581Z"
   },
   {
    "duration": 317,
    "start_time": "2023-04-15T23:16:04.591Z"
   },
   {
    "duration": 185,
    "start_time": "2023-04-15T23:16:04.910Z"
   },
   {
    "duration": 12,
    "start_time": "2023-04-15T23:16:05.098Z"
   },
   {
    "duration": 12,
    "start_time": "2023-04-15T23:16:05.111Z"
   },
   {
    "duration": 56,
    "start_time": "2023-04-15T23:16:05.125Z"
   },
   {
    "duration": 15,
    "start_time": "2023-04-15T23:16:05.183Z"
   },
   {
    "duration": 1207,
    "start_time": "2023-04-15T23:17:31.950Z"
   },
   {
    "duration": 126,
    "start_time": "2023-04-15T23:17:33.159Z"
   },
   {
    "duration": 26,
    "start_time": "2023-04-15T23:17:33.287Z"
   },
   {
    "duration": 37,
    "start_time": "2023-04-15T23:17:33.315Z"
   },
   {
    "duration": 8,
    "start_time": "2023-04-15T23:17:33.354Z"
   },
   {
    "duration": 30,
    "start_time": "2023-04-15T23:17:33.364Z"
   },
   {
    "duration": 24,
    "start_time": "2023-04-15T23:17:33.395Z"
   },
   {
    "duration": 18,
    "start_time": "2023-04-15T23:17:33.421Z"
   },
   {
    "duration": 22,
    "start_time": "2023-04-15T23:17:33.441Z"
   },
   {
    "duration": 25,
    "start_time": "2023-04-15T23:17:33.465Z"
   },
   {
    "duration": 23,
    "start_time": "2023-04-15T23:17:33.492Z"
   },
   {
    "duration": 27,
    "start_time": "2023-04-15T23:17:33.516Z"
   },
   {
    "duration": 22,
    "start_time": "2023-04-15T23:17:33.544Z"
   },
   {
    "duration": 15,
    "start_time": "2023-04-15T23:17:33.569Z"
   },
   {
    "duration": 287,
    "start_time": "2023-04-15T23:17:33.586Z"
   },
   {
    "duration": 298,
    "start_time": "2023-04-15T23:17:33.874Z"
   },
   {
    "duration": 216,
    "start_time": "2023-04-15T23:17:34.174Z"
   },
   {
    "duration": 319,
    "start_time": "2023-04-15T23:17:34.391Z"
   },
   {
    "duration": 243,
    "start_time": "2023-04-15T23:17:34.711Z"
   },
   {
    "duration": 351,
    "start_time": "2023-04-15T23:17:34.955Z"
   },
   {
    "duration": 282,
    "start_time": "2023-04-15T23:17:35.307Z"
   },
   {
    "duration": 4,
    "start_time": "2023-04-15T23:17:35.590Z"
   },
   {
    "duration": 161,
    "start_time": "2023-04-15T23:17:35.596Z"
   },
   {
    "duration": 170,
    "start_time": "2023-04-15T23:17:35.760Z"
   },
   {
    "duration": 5,
    "start_time": "2023-04-15T23:17:35.932Z"
   },
   {
    "duration": 314,
    "start_time": "2023-04-15T23:17:35.939Z"
   },
   {
    "duration": 158,
    "start_time": "2023-04-15T23:17:36.255Z"
   },
   {
    "duration": 10,
    "start_time": "2023-04-15T23:17:36.414Z"
   },
   {
    "duration": 21,
    "start_time": "2023-04-15T23:17:36.426Z"
   },
   {
    "duration": 50,
    "start_time": "2023-04-15T23:17:36.449Z"
   },
   {
    "duration": 16,
    "start_time": "2023-04-15T23:17:36.500Z"
   }
  ],
  "kernelspec": {
   "display_name": "Python 3",
   "language": "python",
   "name": "python3"
  },
  "language_info": {
   "codemirror_mode": {
    "name": "ipython",
    "version": 3
   },
   "file_extension": ".py",
   "mimetype": "text/x-python",
   "name": "python",
   "nbconvert_exporter": "python",
   "pygments_lexer": "ipython3",
   "version": "3.8.8"
  },
  "toc": {
   "base_numbering": 1,
   "nav_menu": {},
   "number_sections": true,
   "sideBar": true,
   "skip_h1_title": true,
   "title_cell": "Table of Contents",
   "title_sidebar": "Contents",
   "toc_cell": false,
   "toc_position": {},
   "toc_section_display": true,
   "toc_window_display": false
  }
 },
 "nbformat": 4,
 "nbformat_minor": 5
}
