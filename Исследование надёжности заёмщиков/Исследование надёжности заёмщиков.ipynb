{
 "cells": [
  {
   "cell_type": "markdown",
   "id": "9b1570a1",
   "metadata": {},
   "source": [
    "<div style=\"border:solid green 3px; padding: 20px\">\n",
    "\n",
    "<b>Привет!</b>\n",
    "\n",
    "Меня зовут Сороколетов Илья и я буду проверять твой проект. \n",
    "\n",
    "Предлагаю общаться на «**ты**», но если тебе будет комфортнее общаться на «**вы**», то сообщи об этом в комментариях)\n",
    "\n",
    "\n",
    "Для твоего удобства, я буду выделять свои комментарии следующим образом:\n",
    "\n",
    "<div class=\"alert alert-danger\">\n",
    "<b>❌ Комментарий ревьюера v1:</b> Самые важные замечания. Они указывают на ключевые моменты, которые влияют на конечный результат проекта. </div>\n",
    "\n",
    "<div class=\"alert alert-warning\">\n",
    "<b>⚠️ Комментарий ревьюера v1:</b> Советы или замечания, которые помогут сделать твою работу лучше, но необязательны к выполнению.\n",
    "\n",
    "</div>\n",
    "\n",
    "<div class=\"alert alert-success\">\n",
    "<b>✔️ Комментарий ревьюера v1:</b> Так я выделяю все остальные комментарии.</div>\n",
    "\n",
    "\n",
    "Пометками <b>v1-v2-v3-...</b> я буду отмечать версию проверки. Так ты сможешь быстро найти мои новые комментарии.\n",
    "\n",
    "Давай работать над проектом в диалоге: если ты что-то меняешь в проекте по моим рекомендациям — пиши об этом. Выбери для своих комментариев какой-то заметный цвет, так мне будет легче отследить изменения, например вот так:\n",
    "    \n",
    "<div class=\"alert alert-info\">\n",
    "<b>Комментарий студента:</b>\n",
    "<br>\n",
    "</div>\n",
    "\n",
    "<b>Пожалуйста, не перемещай, не изменяй и не удаляй мои комментарии.</b> Если ты оставляешь свои комментарии, то делай это под моими, чтобы сообщения были расположены в хронологическом порядке. Всё это поможет выполнить повторную проверку твоего проекта быстрее. \n",
    "\n",
    "\n",
    "Перед отправкой работы я рекомендую нажимать Kernel -> Restart & Run All. Это перезапустит ядро и по очереди выполнит все ячейки. Так ты сможешь проверить, что всё работает корректно. Кнопка Kernel находится в панели сверху\n",
    "\n",
    "Обязательно задавай вопросы если они возникнут, а я перехожу к проверке)\n",
    "\n",
    "P.S. На всякий случай, я оставлю пустой шаблон для твоих комментариев ниже. Кликни два раза на мой комментарий, скопируй последние четыре строчки кода и вставляй их в пустую ячейку там, где ты хочешь оставить комментарий. Не забудь только перед этим сменить тип ячейки на Markdown. Быстро это можно сделать так: кликнуть на ячейку - нажать ESC - нажать M. \n",
    "    \n",
    "    \n",
    "<div class=\"alert alert-info\">\n",
    "<b>Комментарий студента:</b>\n",
    "<br>Место для твоего комментария\n",
    "</div>"
   ]
  },
  {
   "cell_type": "markdown",
   "id": "873ee139",
   "metadata": {},
   "source": [
    "<div class=\"alert alert-info\">\n",
    "<b>Комментарий студента:</b>\n",
    "<br>Привет!\n",
    "<br>Согласен общаться на ты, по организационной части вопросов никаких нет :)\n",
    "</div>"
   ]
  },
  {
   "cell_type": "markdown",
   "id": "c81daeeb",
   "metadata": {
    "deletable": false,
    "editable": false,
    "id": "c81daeeb"
   },
   "source": [
    "# Исследование надежности заемщиков\n"
   ]
  },
  {
   "cell_type": "markdown",
   "id": "827c20bf",
   "metadata": {
    "deletable": false,
    "editable": false,
    "id": "827c20bf"
   },
   "source": [
    "Во второй части проекта вы выполните шаги 3 и 4. Их вручную проверит ревьюер.\n",
    "Чтобы вам не пришлось писать код заново для шагов 1 и 2, мы добавили авторские решения в ячейки с кодом. \n",
    "\n"
   ]
  },
  {
   "cell_type": "markdown",
   "id": "744d7639",
   "metadata": {
    "deletable": false,
    "editable": false,
    "id": "744d7639"
   },
   "source": [
    "## Откройте таблицу и изучите общую информацию о данных"
   ]
  },
  {
   "cell_type": "markdown",
   "id": "e7a14c31",
   "metadata": {
    "deletable": false,
    "editable": false,
    "id": "e7a14c31"
   },
   "source": [
    "**Задание 1. Импортируйте библиотеку pandas. Считайте данные из csv-файла в датафрейм и сохраните в переменную `data`. Путь к файлу:**\n",
    "\n",
    "`/datasets/data.csv`"
   ]
  },
  {
   "cell_type": "code",
   "execution_count": 1,
   "id": "7bcf75c9",
   "metadata": {
    "deletable": false,
    "id": "7bcf75c9"
   },
   "outputs": [],
   "source": [
    "import pandas as pd\n",
    "\n",
    "try:\n",
    "    data = pd.read_csv('/datasets/data.csv')\n",
    "except:\n",
    "    data = pd.read_csv('https://code.s3.yandex.net/datasets/data.csv')"
   ]
  },
  {
   "cell_type": "markdown",
   "id": "b8038fe3",
   "metadata": {
    "deletable": false,
    "editable": false,
    "id": "b8038fe3"
   },
   "source": [
    "**Задание 2. Выведите первые 20 строчек датафрейма `data` на экран.**"
   ]
  },
  {
   "cell_type": "code",
   "execution_count": 2,
   "id": "2a7cab99",
   "metadata": {
    "deletable": false,
    "id": "2a7cab99",
    "outputId": "1a8f3ef2-d323-4ec2-ddf7-89670b5944c4"
   },
   "outputs": [
    {
     "data": {
      "text/html": [
       "<div>\n",
       "<style scoped>\n",
       "    .dataframe tbody tr th:only-of-type {\n",
       "        vertical-align: middle;\n",
       "    }\n",
       "\n",
       "    .dataframe tbody tr th {\n",
       "        vertical-align: top;\n",
       "    }\n",
       "\n",
       "    .dataframe thead th {\n",
       "        text-align: right;\n",
       "    }\n",
       "</style>\n",
       "<table border=\"1\" class=\"dataframe\">\n",
       "  <thead>\n",
       "    <tr style=\"text-align: right;\">\n",
       "      <th></th>\n",
       "      <th>children</th>\n",
       "      <th>days_employed</th>\n",
       "      <th>dob_years</th>\n",
       "      <th>education</th>\n",
       "      <th>education_id</th>\n",
       "      <th>family_status</th>\n",
       "      <th>family_status_id</th>\n",
       "      <th>gender</th>\n",
       "      <th>income_type</th>\n",
       "      <th>debt</th>\n",
       "      <th>total_income</th>\n",
       "      <th>purpose</th>\n",
       "    </tr>\n",
       "  </thead>\n",
       "  <tbody>\n",
       "    <tr>\n",
       "      <th>0</th>\n",
       "      <td>1</td>\n",
       "      <td>-8437.673028</td>\n",
       "      <td>42</td>\n",
       "      <td>высшее</td>\n",
       "      <td>0</td>\n",
       "      <td>женат / замужем</td>\n",
       "      <td>0</td>\n",
       "      <td>F</td>\n",
       "      <td>сотрудник</td>\n",
       "      <td>0</td>\n",
       "      <td>253875.639453</td>\n",
       "      <td>покупка жилья</td>\n",
       "    </tr>\n",
       "    <tr>\n",
       "      <th>1</th>\n",
       "      <td>1</td>\n",
       "      <td>-4024.803754</td>\n",
       "      <td>36</td>\n",
       "      <td>среднее</td>\n",
       "      <td>1</td>\n",
       "      <td>женат / замужем</td>\n",
       "      <td>0</td>\n",
       "      <td>F</td>\n",
       "      <td>сотрудник</td>\n",
       "      <td>0</td>\n",
       "      <td>112080.014102</td>\n",
       "      <td>приобретение автомобиля</td>\n",
       "    </tr>\n",
       "    <tr>\n",
       "      <th>2</th>\n",
       "      <td>0</td>\n",
       "      <td>-5623.422610</td>\n",
       "      <td>33</td>\n",
       "      <td>Среднее</td>\n",
       "      <td>1</td>\n",
       "      <td>женат / замужем</td>\n",
       "      <td>0</td>\n",
       "      <td>M</td>\n",
       "      <td>сотрудник</td>\n",
       "      <td>0</td>\n",
       "      <td>145885.952297</td>\n",
       "      <td>покупка жилья</td>\n",
       "    </tr>\n",
       "    <tr>\n",
       "      <th>3</th>\n",
       "      <td>3</td>\n",
       "      <td>-4124.747207</td>\n",
       "      <td>32</td>\n",
       "      <td>среднее</td>\n",
       "      <td>1</td>\n",
       "      <td>женат / замужем</td>\n",
       "      <td>0</td>\n",
       "      <td>M</td>\n",
       "      <td>сотрудник</td>\n",
       "      <td>0</td>\n",
       "      <td>267628.550329</td>\n",
       "      <td>дополнительное образование</td>\n",
       "    </tr>\n",
       "    <tr>\n",
       "      <th>4</th>\n",
       "      <td>0</td>\n",
       "      <td>340266.072047</td>\n",
       "      <td>53</td>\n",
       "      <td>среднее</td>\n",
       "      <td>1</td>\n",
       "      <td>гражданский брак</td>\n",
       "      <td>1</td>\n",
       "      <td>F</td>\n",
       "      <td>пенсионер</td>\n",
       "      <td>0</td>\n",
       "      <td>158616.077870</td>\n",
       "      <td>сыграть свадьбу</td>\n",
       "    </tr>\n",
       "    <tr>\n",
       "      <th>5</th>\n",
       "      <td>0</td>\n",
       "      <td>-926.185831</td>\n",
       "      <td>27</td>\n",
       "      <td>высшее</td>\n",
       "      <td>0</td>\n",
       "      <td>гражданский брак</td>\n",
       "      <td>1</td>\n",
       "      <td>M</td>\n",
       "      <td>компаньон</td>\n",
       "      <td>0</td>\n",
       "      <td>255763.565419</td>\n",
       "      <td>покупка жилья</td>\n",
       "    </tr>\n",
       "    <tr>\n",
       "      <th>6</th>\n",
       "      <td>0</td>\n",
       "      <td>-2879.202052</td>\n",
       "      <td>43</td>\n",
       "      <td>высшее</td>\n",
       "      <td>0</td>\n",
       "      <td>женат / замужем</td>\n",
       "      <td>0</td>\n",
       "      <td>F</td>\n",
       "      <td>компаньон</td>\n",
       "      <td>0</td>\n",
       "      <td>240525.971920</td>\n",
       "      <td>операции с жильем</td>\n",
       "    </tr>\n",
       "    <tr>\n",
       "      <th>7</th>\n",
       "      <td>0</td>\n",
       "      <td>-152.779569</td>\n",
       "      <td>50</td>\n",
       "      <td>СРЕДНЕЕ</td>\n",
       "      <td>1</td>\n",
       "      <td>женат / замужем</td>\n",
       "      <td>0</td>\n",
       "      <td>M</td>\n",
       "      <td>сотрудник</td>\n",
       "      <td>0</td>\n",
       "      <td>135823.934197</td>\n",
       "      <td>образование</td>\n",
       "    </tr>\n",
       "    <tr>\n",
       "      <th>8</th>\n",
       "      <td>2</td>\n",
       "      <td>-6929.865299</td>\n",
       "      <td>35</td>\n",
       "      <td>ВЫСШЕЕ</td>\n",
       "      <td>0</td>\n",
       "      <td>гражданский брак</td>\n",
       "      <td>1</td>\n",
       "      <td>F</td>\n",
       "      <td>сотрудник</td>\n",
       "      <td>0</td>\n",
       "      <td>95856.832424</td>\n",
       "      <td>на проведение свадьбы</td>\n",
       "    </tr>\n",
       "    <tr>\n",
       "      <th>9</th>\n",
       "      <td>0</td>\n",
       "      <td>-2188.756445</td>\n",
       "      <td>41</td>\n",
       "      <td>среднее</td>\n",
       "      <td>1</td>\n",
       "      <td>женат / замужем</td>\n",
       "      <td>0</td>\n",
       "      <td>M</td>\n",
       "      <td>сотрудник</td>\n",
       "      <td>0</td>\n",
       "      <td>144425.938277</td>\n",
       "      <td>покупка жилья для семьи</td>\n",
       "    </tr>\n",
       "    <tr>\n",
       "      <th>10</th>\n",
       "      <td>2</td>\n",
       "      <td>-4171.483647</td>\n",
       "      <td>36</td>\n",
       "      <td>высшее</td>\n",
       "      <td>0</td>\n",
       "      <td>женат / замужем</td>\n",
       "      <td>0</td>\n",
       "      <td>M</td>\n",
       "      <td>компаньон</td>\n",
       "      <td>0</td>\n",
       "      <td>113943.491460</td>\n",
       "      <td>покупка недвижимости</td>\n",
       "    </tr>\n",
       "    <tr>\n",
       "      <th>11</th>\n",
       "      <td>0</td>\n",
       "      <td>-792.701887</td>\n",
       "      <td>40</td>\n",
       "      <td>среднее</td>\n",
       "      <td>1</td>\n",
       "      <td>женат / замужем</td>\n",
       "      <td>0</td>\n",
       "      <td>F</td>\n",
       "      <td>сотрудник</td>\n",
       "      <td>0</td>\n",
       "      <td>77069.234271</td>\n",
       "      <td>покупка коммерческой недвижимости</td>\n",
       "    </tr>\n",
       "    <tr>\n",
       "      <th>12</th>\n",
       "      <td>0</td>\n",
       "      <td>NaN</td>\n",
       "      <td>65</td>\n",
       "      <td>среднее</td>\n",
       "      <td>1</td>\n",
       "      <td>гражданский брак</td>\n",
       "      <td>1</td>\n",
       "      <td>M</td>\n",
       "      <td>пенсионер</td>\n",
       "      <td>0</td>\n",
       "      <td>NaN</td>\n",
       "      <td>сыграть свадьбу</td>\n",
       "    </tr>\n",
       "    <tr>\n",
       "      <th>13</th>\n",
       "      <td>0</td>\n",
       "      <td>-1846.641941</td>\n",
       "      <td>54</td>\n",
       "      <td>неоконченное высшее</td>\n",
       "      <td>2</td>\n",
       "      <td>женат / замужем</td>\n",
       "      <td>0</td>\n",
       "      <td>F</td>\n",
       "      <td>сотрудник</td>\n",
       "      <td>0</td>\n",
       "      <td>130458.228857</td>\n",
       "      <td>приобретение автомобиля</td>\n",
       "    </tr>\n",
       "    <tr>\n",
       "      <th>14</th>\n",
       "      <td>0</td>\n",
       "      <td>-1844.956182</td>\n",
       "      <td>56</td>\n",
       "      <td>высшее</td>\n",
       "      <td>0</td>\n",
       "      <td>гражданский брак</td>\n",
       "      <td>1</td>\n",
       "      <td>F</td>\n",
       "      <td>компаньон</td>\n",
       "      <td>1</td>\n",
       "      <td>165127.911772</td>\n",
       "      <td>покупка жилой недвижимости</td>\n",
       "    </tr>\n",
       "    <tr>\n",
       "      <th>15</th>\n",
       "      <td>1</td>\n",
       "      <td>-972.364419</td>\n",
       "      <td>26</td>\n",
       "      <td>среднее</td>\n",
       "      <td>1</td>\n",
       "      <td>женат / замужем</td>\n",
       "      <td>0</td>\n",
       "      <td>F</td>\n",
       "      <td>сотрудник</td>\n",
       "      <td>0</td>\n",
       "      <td>116820.904450</td>\n",
       "      <td>строительство собственной недвижимости</td>\n",
       "    </tr>\n",
       "    <tr>\n",
       "      <th>16</th>\n",
       "      <td>0</td>\n",
       "      <td>-1719.934226</td>\n",
       "      <td>35</td>\n",
       "      <td>среднее</td>\n",
       "      <td>1</td>\n",
       "      <td>женат / замужем</td>\n",
       "      <td>0</td>\n",
       "      <td>F</td>\n",
       "      <td>сотрудник</td>\n",
       "      <td>0</td>\n",
       "      <td>289202.704229</td>\n",
       "      <td>недвижимость</td>\n",
       "    </tr>\n",
       "    <tr>\n",
       "      <th>17</th>\n",
       "      <td>0</td>\n",
       "      <td>-2369.999720</td>\n",
       "      <td>33</td>\n",
       "      <td>высшее</td>\n",
       "      <td>0</td>\n",
       "      <td>гражданский брак</td>\n",
       "      <td>1</td>\n",
       "      <td>M</td>\n",
       "      <td>сотрудник</td>\n",
       "      <td>0</td>\n",
       "      <td>90410.586745</td>\n",
       "      <td>строительство недвижимости</td>\n",
       "    </tr>\n",
       "    <tr>\n",
       "      <th>18</th>\n",
       "      <td>0</td>\n",
       "      <td>400281.136913</td>\n",
       "      <td>53</td>\n",
       "      <td>среднее</td>\n",
       "      <td>1</td>\n",
       "      <td>вдовец / вдова</td>\n",
       "      <td>2</td>\n",
       "      <td>F</td>\n",
       "      <td>пенсионер</td>\n",
       "      <td>0</td>\n",
       "      <td>56823.777243</td>\n",
       "      <td>на покупку подержанного автомобиля</td>\n",
       "    </tr>\n",
       "    <tr>\n",
       "      <th>19</th>\n",
       "      <td>0</td>\n",
       "      <td>-10038.818549</td>\n",
       "      <td>48</td>\n",
       "      <td>СРЕДНЕЕ</td>\n",
       "      <td>1</td>\n",
       "      <td>в разводе</td>\n",
       "      <td>3</td>\n",
       "      <td>F</td>\n",
       "      <td>сотрудник</td>\n",
       "      <td>0</td>\n",
       "      <td>242831.107982</td>\n",
       "      <td>на покупку своего автомобиля</td>\n",
       "    </tr>\n",
       "  </tbody>\n",
       "</table>\n",
       "</div>"
      ],
      "text/plain": [
       "    children  days_employed  dob_years            education  education_id  \\\n",
       "0          1   -8437.673028         42               высшее             0   \n",
       "1          1   -4024.803754         36              среднее             1   \n",
       "2          0   -5623.422610         33              Среднее             1   \n",
       "3          3   -4124.747207         32              среднее             1   \n",
       "4          0  340266.072047         53              среднее             1   \n",
       "5          0    -926.185831         27               высшее             0   \n",
       "6          0   -2879.202052         43               высшее             0   \n",
       "7          0    -152.779569         50              СРЕДНЕЕ             1   \n",
       "8          2   -6929.865299         35               ВЫСШЕЕ             0   \n",
       "9          0   -2188.756445         41              среднее             1   \n",
       "10         2   -4171.483647         36               высшее             0   \n",
       "11         0    -792.701887         40              среднее             1   \n",
       "12         0            NaN         65              среднее             1   \n",
       "13         0   -1846.641941         54  неоконченное высшее             2   \n",
       "14         0   -1844.956182         56               высшее             0   \n",
       "15         1    -972.364419         26              среднее             1   \n",
       "16         0   -1719.934226         35              среднее             1   \n",
       "17         0   -2369.999720         33               высшее             0   \n",
       "18         0  400281.136913         53              среднее             1   \n",
       "19         0  -10038.818549         48              СРЕДНЕЕ             1   \n",
       "\n",
       "       family_status  family_status_id gender income_type  debt  \\\n",
       "0    женат / замужем                 0      F   сотрудник     0   \n",
       "1    женат / замужем                 0      F   сотрудник     0   \n",
       "2    женат / замужем                 0      M   сотрудник     0   \n",
       "3    женат / замужем                 0      M   сотрудник     0   \n",
       "4   гражданский брак                 1      F   пенсионер     0   \n",
       "5   гражданский брак                 1      M   компаньон     0   \n",
       "6    женат / замужем                 0      F   компаньон     0   \n",
       "7    женат / замужем                 0      M   сотрудник     0   \n",
       "8   гражданский брак                 1      F   сотрудник     0   \n",
       "9    женат / замужем                 0      M   сотрудник     0   \n",
       "10   женат / замужем                 0      M   компаньон     0   \n",
       "11   женат / замужем                 0      F   сотрудник     0   \n",
       "12  гражданский брак                 1      M   пенсионер     0   \n",
       "13   женат / замужем                 0      F   сотрудник     0   \n",
       "14  гражданский брак                 1      F   компаньон     1   \n",
       "15   женат / замужем                 0      F   сотрудник     0   \n",
       "16   женат / замужем                 0      F   сотрудник     0   \n",
       "17  гражданский брак                 1      M   сотрудник     0   \n",
       "18    вдовец / вдова                 2      F   пенсионер     0   \n",
       "19         в разводе                 3      F   сотрудник     0   \n",
       "\n",
       "     total_income                                 purpose  \n",
       "0   253875.639453                           покупка жилья  \n",
       "1   112080.014102                 приобретение автомобиля  \n",
       "2   145885.952297                           покупка жилья  \n",
       "3   267628.550329              дополнительное образование  \n",
       "4   158616.077870                         сыграть свадьбу  \n",
       "5   255763.565419                           покупка жилья  \n",
       "6   240525.971920                       операции с жильем  \n",
       "7   135823.934197                             образование  \n",
       "8    95856.832424                   на проведение свадьбы  \n",
       "9   144425.938277                 покупка жилья для семьи  \n",
       "10  113943.491460                    покупка недвижимости  \n",
       "11   77069.234271       покупка коммерческой недвижимости  \n",
       "12            NaN                         сыграть свадьбу  \n",
       "13  130458.228857                 приобретение автомобиля  \n",
       "14  165127.911772              покупка жилой недвижимости  \n",
       "15  116820.904450  строительство собственной недвижимости  \n",
       "16  289202.704229                            недвижимость  \n",
       "17   90410.586745              строительство недвижимости  \n",
       "18   56823.777243      на покупку подержанного автомобиля  \n",
       "19  242831.107982            на покупку своего автомобиля  "
      ]
     },
     "execution_count": 2,
     "metadata": {},
     "output_type": "execute_result"
    }
   ],
   "source": [
    "data.head(20)"
   ]
  },
  {
   "cell_type": "markdown",
   "id": "1c12e233",
   "metadata": {
    "deletable": false,
    "editable": false,
    "id": "1c12e233"
   },
   "source": [
    "**Задание 3. Выведите основную информацию о датафрейме с помощью метода `info()`.**"
   ]
  },
  {
   "cell_type": "code",
   "execution_count": 3,
   "id": "2b757bca",
   "metadata": {
    "deletable": false,
    "id": "2b757bca",
    "outputId": "15376089-8dad-46c9-b520-c05248d43158"
   },
   "outputs": [
    {
     "name": "stdout",
     "output_type": "stream",
     "text": [
      "<class 'pandas.core.frame.DataFrame'>\n",
      "RangeIndex: 21525 entries, 0 to 21524\n",
      "Data columns (total 12 columns):\n",
      " #   Column            Non-Null Count  Dtype  \n",
      "---  ------            --------------  -----  \n",
      " 0   children          21525 non-null  int64  \n",
      " 1   days_employed     19351 non-null  float64\n",
      " 2   dob_years         21525 non-null  int64  \n",
      " 3   education         21525 non-null  object \n",
      " 4   education_id      21525 non-null  int64  \n",
      " 5   family_status     21525 non-null  object \n",
      " 6   family_status_id  21525 non-null  int64  \n",
      " 7   gender            21525 non-null  object \n",
      " 8   income_type       21525 non-null  object \n",
      " 9   debt              21525 non-null  int64  \n",
      " 10  total_income      19351 non-null  float64\n",
      " 11  purpose           21525 non-null  object \n",
      "dtypes: float64(2), int64(5), object(5)\n",
      "memory usage: 2.0+ MB\n"
     ]
    }
   ],
   "source": [
    "data.info()"
   ]
  },
  {
   "cell_type": "markdown",
   "id": "333ec665",
   "metadata": {
    "deletable": false,
    "editable": false,
    "id": "333ec665"
   },
   "source": [
    "## Предобработка данных"
   ]
  },
  {
   "cell_type": "markdown",
   "id": "02d92d53",
   "metadata": {
    "deletable": false,
    "editable": false,
    "id": "02d92d53"
   },
   "source": [
    "### Удаление пропусков"
   ]
  },
  {
   "cell_type": "markdown",
   "id": "cd84967c",
   "metadata": {
    "deletable": false,
    "editable": false,
    "id": "cd84967c"
   },
   "source": [
    "**Задание 4. Выведите количество пропущенных значений для каждого столбца. Используйте комбинацию двух методов.**"
   ]
  },
  {
   "cell_type": "code",
   "execution_count": 4,
   "id": "7f9b2309",
   "metadata": {
    "deletable": false,
    "id": "7f9b2309",
    "outputId": "81f4d817-781c-465c-ed15-91ce4446810d"
   },
   "outputs": [
    {
     "data": {
      "text/plain": [
       "children               0\n",
       "days_employed       2174\n",
       "dob_years              0\n",
       "education              0\n",
       "education_id           0\n",
       "family_status          0\n",
       "family_status_id       0\n",
       "gender                 0\n",
       "income_type            0\n",
       "debt                   0\n",
       "total_income        2174\n",
       "purpose                0\n",
       "dtype: int64"
      ]
     },
     "execution_count": 4,
     "metadata": {},
     "output_type": "execute_result"
    }
   ],
   "source": [
    "data.isna().sum()"
   ]
  },
  {
   "cell_type": "markdown",
   "id": "db86e27b",
   "metadata": {
    "deletable": false,
    "editable": false,
    "id": "db86e27b"
   },
   "source": [
    "**Задание 5. В двух столбцах есть пропущенные значения. Один из них — `days_employed`. Пропуски в этом столбце вы обработаете на следующем этапе. Другой столбец с пропущенными значениями — `total_income` — хранит данные о доходах. На сумму дохода сильнее всего влияет тип занятости, поэтому заполнить пропуски в этом столбце нужно медианным значением по каждому типу из столбца `income_type`. Например, у человека с типом занятости `сотрудник` пропуск в столбце `total_income` должен быть заполнен медианным доходом среди всех записей с тем же типом.**"
   ]
  },
  {
   "cell_type": "code",
   "execution_count": 5,
   "id": "42006a93",
   "metadata": {
    "deletable": false,
    "id": "42006a93"
   },
   "outputs": [],
   "source": [
    "for t in data['income_type'].unique():\n",
    "    data.loc[(data['income_type'] == t) & (data['total_income'].isna()), 'total_income'] = \\\n",
    "    data.loc[(data['income_type'] == t), 'total_income'].median()"
   ]
  },
  {
   "cell_type": "markdown",
   "id": "89da5ece",
   "metadata": {
    "deletable": false,
    "editable": false,
    "id": "89da5ece"
   },
   "source": [
    "### Обработка аномальных значений"
   ]
  },
  {
   "cell_type": "markdown",
   "id": "57964554",
   "metadata": {
    "deletable": false,
    "editable": false,
    "id": "57964554"
   },
   "source": [
    "**Задание 6. В данных могут встречаться артефакты (аномалии) — значения, которые не отражают действительность и появились по какой-то ошибке. таким артефактом будет отрицательное количество дней трудового стажа в столбце `days_employed`. Для реальных данных это нормально. Обработайте значения в этом столбце: замените все отрицательные значения положительными с помощью метода `abs()`.**"
   ]
  },
  {
   "cell_type": "code",
   "execution_count": 6,
   "id": "f6f055bf",
   "metadata": {
    "deletable": false,
    "id": "f6f055bf"
   },
   "outputs": [],
   "source": [
    "data['days_employed'] = data['days_employed'].abs()"
   ]
  },
  {
   "cell_type": "markdown",
   "id": "6107dd2f",
   "metadata": {
    "deletable": false,
    "editable": false,
    "id": "6107dd2f"
   },
   "source": [
    "**Задание 7. Для каждого типа занятости выведите медианное значение трудового стажа `days_employed` в днях.**"
   ]
  },
  {
   "cell_type": "code",
   "execution_count": 7,
   "id": "85a5faf6",
   "metadata": {
    "deletable": false,
    "id": "85a5faf6",
    "outputId": "801ef80e-522b-4668-f34e-565af7432bcf"
   },
   "outputs": [
    {
     "data": {
      "text/plain": [
       "income_type\n",
       "безработный        366413.652744\n",
       "в декрете            3296.759962\n",
       "госслужащий          2689.368353\n",
       "компаньон            1547.382223\n",
       "пенсионер          365213.306266\n",
       "предприниматель       520.848083\n",
       "сотрудник            1574.202821\n",
       "студент               578.751554\n",
       "Name: days_employed, dtype: float64"
      ]
     },
     "execution_count": 7,
     "metadata": {},
     "output_type": "execute_result"
    }
   ],
   "source": [
    "data.groupby('income_type')['days_employed'].agg('median')"
   ]
  },
  {
   "cell_type": "markdown",
   "id": "38d1a030",
   "metadata": {
    "deletable": false,
    "editable": false,
    "id": "38d1a030"
   },
   "source": [
    "У двух типов (безработные и пенсионеры) получатся аномально большие значения. Исправить такие значения сложно, поэтому оставьте их как есть. Тем более этот столбец не понадобится вам для исследования."
   ]
  },
  {
   "cell_type": "markdown",
   "id": "d8a9f147",
   "metadata": {
    "deletable": false,
    "editable": false,
    "id": "d8a9f147"
   },
   "source": [
    "**Задание 8. Выведите перечень уникальных значений столбца `children`.**"
   ]
  },
  {
   "cell_type": "code",
   "execution_count": 8,
   "id": "ef5056eb",
   "metadata": {
    "deletable": false,
    "id": "ef5056eb",
    "outputId": "6975b15c-7f95-4697-d16d-a0c79b657b03"
   },
   "outputs": [
    {
     "data": {
      "text/plain": [
       "array([ 1,  0,  3,  2, -1,  4, 20,  5])"
      ]
     },
     "execution_count": 8,
     "metadata": {},
     "output_type": "execute_result"
    }
   ],
   "source": [
    "data['children'].unique()"
   ]
  },
  {
   "cell_type": "markdown",
   "id": "40b9ebf2",
   "metadata": {
    "deletable": false,
    "editable": false,
    "id": "40b9ebf2"
   },
   "source": [
    "**Задание 9. В столбце `children` есть два аномальных значения. Удалите строки, в которых встречаются такие аномальные значения из датафрейма `data`.**"
   ]
  },
  {
   "cell_type": "code",
   "execution_count": 9,
   "id": "3ff9801d",
   "metadata": {
    "deletable": false,
    "id": "3ff9801d"
   },
   "outputs": [],
   "source": [
    "data = data[(data['children'] != -1) & (data['children'] != 20)]"
   ]
  },
  {
   "cell_type": "markdown",
   "id": "bbc4d0ce",
   "metadata": {
    "deletable": false,
    "editable": false,
    "id": "bbc4d0ce"
   },
   "source": [
    "**Задание 10. Ещё раз выведите перечень уникальных значений столбца `children`, чтобы убедиться, что артефакты удалены.**"
   ]
  },
  {
   "cell_type": "code",
   "execution_count": 10,
   "id": "ad4fa8b7",
   "metadata": {
    "deletable": false,
    "id": "ad4fa8b7",
    "outputId": "b2097101-d49d-44d9-901b-32a65c9463d1"
   },
   "outputs": [
    {
     "data": {
      "text/plain": [
       "array([1, 0, 3, 2, 4, 5])"
      ]
     },
     "execution_count": 10,
     "metadata": {},
     "output_type": "execute_result"
    }
   ],
   "source": [
    "data['children'].unique()"
   ]
  },
  {
   "cell_type": "markdown",
   "id": "75440b63",
   "metadata": {
    "deletable": false,
    "editable": false,
    "id": "75440b63"
   },
   "source": [
    "### Удаление пропусков (продолжение)"
   ]
  },
  {
   "cell_type": "markdown",
   "id": "f4ea573f",
   "metadata": {
    "deletable": false,
    "editable": false,
    "id": "f4ea573f"
   },
   "source": [
    "**Задание 11. Заполните пропуски в столбце `days_employed` медианными значениями по каждого типа занятости `income_type`.**"
   ]
  },
  {
   "cell_type": "code",
   "execution_count": 11,
   "id": "af6b1a7e",
   "metadata": {
    "deletable": false,
    "id": "af6b1a7e"
   },
   "outputs": [],
   "source": [
    "for t in data['income_type'].unique():\n",
    "    data.loc[(data['income_type'] == t) & (data['days_employed'].isna()), 'days_employed'] = \\\n",
    "    data.loc[(data['income_type'] == t), 'days_employed'].median()"
   ]
  },
  {
   "cell_type": "markdown",
   "id": "2753f40d",
   "metadata": {
    "deletable": false,
    "editable": false,
    "id": "2753f40d"
   },
   "source": [
    "**Задание 12. Убедитесь, что все пропуски заполнены. Проверьте себя и ещё раз выведите количество пропущенных значений для каждого столбца с помощью двух методов.**"
   ]
  },
  {
   "cell_type": "code",
   "execution_count": 12,
   "id": "55f78bc2",
   "metadata": {
    "deletable": false,
    "id": "55f78bc2",
    "outputId": "8da1e4e1-358e-4e87-98c9-f261bce0a7b2"
   },
   "outputs": [
    {
     "data": {
      "text/plain": [
       "children            0\n",
       "days_employed       0\n",
       "dob_years           0\n",
       "education           0\n",
       "education_id        0\n",
       "family_status       0\n",
       "family_status_id    0\n",
       "gender              0\n",
       "income_type         0\n",
       "debt                0\n",
       "total_income        0\n",
       "purpose             0\n",
       "dtype: int64"
      ]
     },
     "execution_count": 12,
     "metadata": {},
     "output_type": "execute_result"
    }
   ],
   "source": [
    "data.isna().sum()"
   ]
  },
  {
   "cell_type": "markdown",
   "id": "ddc81e43",
   "metadata": {
    "deletable": false,
    "editable": false,
    "id": "ddc81e43"
   },
   "source": [
    "### Изменение типов данных"
   ]
  },
  {
   "cell_type": "markdown",
   "id": "42d19d24",
   "metadata": {
    "deletable": false,
    "editable": false,
    "id": "42d19d24"
   },
   "source": [
    "**Задание 13. Замените вещественный тип данных в столбце `total_income` на целочисленный с помощью метода `astype()`.**"
   ]
  },
  {
   "cell_type": "code",
   "execution_count": 13,
   "id": "920b65ad",
   "metadata": {
    "deletable": false,
    "id": "920b65ad"
   },
   "outputs": [],
   "source": [
    "data['total_income'] = data['total_income'].astype(int)"
   ]
  },
  {
   "cell_type": "markdown",
   "id": "80c420ba",
   "metadata": {
    "deletable": false,
    "editable": false,
    "id": "80c420ba"
   },
   "source": [
    "### Обработка дубликатов"
   ]
  },
  {
   "cell_type": "markdown",
   "id": "b7eb215a",
   "metadata": {
    "deletable": false,
    "editable": false
   },
   "source": [
    "**Задание 14. Обработайте неявные дубликаты в столбце `education`. В этом столбце есть одни и те же значения, но записанные по-разному: с использованием заглавных и строчных букв. Приведите их к нижнему регистру. Проверьте остальные столбцы.**"
   ]
  },
  {
   "cell_type": "code",
   "execution_count": 14,
   "id": "2c470ebd",
   "metadata": {
    "deletable": false
   },
   "outputs": [],
   "source": [
    "data['education'] = data['education'].str.lower()"
   ]
  },
  {
   "cell_type": "markdown",
   "id": "dc587695",
   "metadata": {
    "deletable": false,
    "editable": false,
    "id": "dc587695"
   },
   "source": [
    "**Задание 15. Выведите на экран количество строк-дубликатов в данных. Если такие строки присутствуют, удалите их.**"
   ]
  },
  {
   "cell_type": "code",
   "execution_count": 15,
   "id": "3ee445e4",
   "metadata": {
    "deletable": false,
    "id": "3ee445e4",
    "outputId": "9684deba-1934-42d1-99e1-cda61740f822"
   },
   "outputs": [
    {
     "data": {
      "text/plain": [
       "71"
      ]
     },
     "execution_count": 15,
     "metadata": {},
     "output_type": "execute_result"
    }
   ],
   "source": [
    "data.duplicated().sum()"
   ]
  },
  {
   "cell_type": "code",
   "execution_count": 16,
   "id": "8575fe05",
   "metadata": {
    "deletable": false,
    "id": "8575fe05"
   },
   "outputs": [],
   "source": [
    "data = data.drop_duplicates()"
   ]
  },
  {
   "cell_type": "markdown",
   "id": "9904cf55",
   "metadata": {
    "deletable": false,
    "editable": false,
    "id": "9904cf55"
   },
   "source": [
    "### Категоризация данных"
   ]
  },
  {
   "cell_type": "markdown",
   "id": "72fcc8a2",
   "metadata": {
    "deletable": false,
    "editable": false,
    "id": "72fcc8a2"
   },
   "source": [
    "**Задание 16. На основании диапазонов, указанных ниже, создайте в датафрейме `data` столбец `total_income_category` с категориями:**\n",
    "\n",
    "- 0–30000 — `'E'`;\n",
    "- 30001–50000 — `'D'`;\n",
    "- 50001–200000 — `'C'`;\n",
    "- 200001–1000000 — `'B'`;\n",
    "- 1000001 и выше — `'A'`.\n",
    "\n",
    "\n",
    "**Например, кредитополучателю с доходом 25000 нужно назначить категорию `'E'`, а клиенту, получающему 235000, — `'B'`. Используйте собственную функцию с именем `categorize_income()` и метод `apply()`.**"
   ]
  },
  {
   "cell_type": "code",
   "execution_count": 17,
   "id": "e1771346",
   "metadata": {
    "deletable": false,
    "id": "e1771346"
   },
   "outputs": [],
   "source": [
    "def categorize_income(income):\n",
    "    try:\n",
    "        if 0 <= income <= 30000:\n",
    "            return 'E'\n",
    "        elif 30001 <= income <= 50000:\n",
    "            return 'D'\n",
    "        elif 50001 <= income <= 200000:\n",
    "            return 'C'\n",
    "        elif 200001 <= income <= 1000000:\n",
    "            return 'B'\n",
    "        elif income >= 1000001:\n",
    "            return 'A'\n",
    "    except:\n",
    "        pass"
   ]
  },
  {
   "cell_type": "code",
   "execution_count": 18,
   "id": "d5f3586d",
   "metadata": {
    "deletable": false,
    "id": "d5f3586d"
   },
   "outputs": [],
   "source": [
    "data['total_income_category'] = data['total_income'].apply(categorize_income)"
   ]
  },
  {
   "cell_type": "markdown",
   "id": "dde49b5c",
   "metadata": {
    "deletable": false,
    "editable": false,
    "id": "dde49b5c"
   },
   "source": [
    "**Задание 17. Выведите на экран перечень уникальных целей взятия кредита из столбца `purpose`.**"
   ]
  },
  {
   "cell_type": "code",
   "execution_count": 19,
   "id": "f67ce9b3",
   "metadata": {
    "deletable": false,
    "id": "f67ce9b3",
    "outputId": "673c12d9-7d7e-4ae0-9812-c622c89dd244"
   },
   "outputs": [
    {
     "data": {
      "text/plain": [
       "array(['покупка жилья', 'приобретение автомобиля',\n",
       "       'дополнительное образование', 'сыграть свадьбу',\n",
       "       'операции с жильем', 'образование', 'на проведение свадьбы',\n",
       "       'покупка жилья для семьи', 'покупка недвижимости',\n",
       "       'покупка коммерческой недвижимости', 'покупка жилой недвижимости',\n",
       "       'строительство собственной недвижимости', 'недвижимость',\n",
       "       'строительство недвижимости', 'на покупку подержанного автомобиля',\n",
       "       'на покупку своего автомобиля',\n",
       "       'операции с коммерческой недвижимостью',\n",
       "       'строительство жилой недвижимости', 'жилье',\n",
       "       'операции со своей недвижимостью', 'автомобили',\n",
       "       'заняться образованием', 'сделка с подержанным автомобилем',\n",
       "       'получение образования', 'автомобиль', 'свадьба',\n",
       "       'получение дополнительного образования', 'покупка своего жилья',\n",
       "       'операции с недвижимостью', 'получение высшего образования',\n",
       "       'свой автомобиль', 'сделка с автомобилем',\n",
       "       'профильное образование', 'высшее образование',\n",
       "       'покупка жилья для сдачи', 'на покупку автомобиля', 'ремонт жилью',\n",
       "       'заняться высшим образованием'], dtype=object)"
      ]
     },
     "execution_count": 19,
     "metadata": {},
     "output_type": "execute_result"
    }
   ],
   "source": [
    "data['purpose'].unique()"
   ]
  },
  {
   "cell_type": "markdown",
   "id": "85d0aef0",
   "metadata": {
    "deletable": false,
    "editable": false,
    "id": "85d0aef0"
   },
   "source": [
    "**Задание 18. Создайте функцию, которая на основании данных из столбца `purpose` сформирует новый столбец `purpose_category`, в который войдут следующие категории:**\n",
    "\n",
    "- `'операции с автомобилем'`,\n",
    "- `'операции с недвижимостью'`,\n",
    "- `'проведение свадьбы'`,\n",
    "- `'получение образования'`.\n",
    "\n",
    "**Например, если в столбце `purpose` находится подстрока `'на покупку автомобиля'`, то в столбце `purpose_category` должна появиться строка `'операции с автомобилем'`.**\n",
    "\n",
    "**Используйте собственную функцию с именем `categorize_purpose()` и метод `apply()`. Изучите данные в столбце `purpose` и определите, какие подстроки помогут вам правильно определить категорию.**"
   ]
  },
  {
   "cell_type": "code",
   "execution_count": 20,
   "id": "e149fab4",
   "metadata": {
    "deletable": false,
    "id": "e149fab4"
   },
   "outputs": [],
   "source": [
    "def categorize_purpose(row):\n",
    "    try:\n",
    "        if 'автом' in row:\n",
    "            return 'операции с автомобилем'\n",
    "        elif 'жил' in row or 'недвиж' in row:\n",
    "            return 'операции с недвижимостью'\n",
    "        elif 'свад' in row:\n",
    "            return 'проведение свадьбы'\n",
    "        elif 'образов' in row:\n",
    "            return 'получение образования'\n",
    "    except:\n",
    "        return 'нет категории'"
   ]
  },
  {
   "cell_type": "code",
   "execution_count": 21,
   "id": "bf36e69b",
   "metadata": {
    "deletable": false,
    "id": "bf36e69b"
   },
   "outputs": [],
   "source": [
    "data['purpose_category'] = data['purpose'].apply(categorize_purpose)"
   ]
  },
  {
   "cell_type": "markdown",
   "id": "09b242bf",
   "metadata": {
    "deletable": false,
    "editable": false,
    "id": "09b242bf"
   },
   "source": [
    "### Шаг 3. Исследуйте данные и ответьте на вопросы"
   ]
  },
  {
   "cell_type": "markdown",
   "id": "710d6afa",
   "metadata": {},
   "source": [
    "**P.S. Выполняю задание в Jupyter hub на сайте практикума, и почему-то не могу писать в ячейках для ответов, которые уже были созданы, поэтому создал свои.**"
   ]
  },
  {
   "cell_type": "markdown",
   "id": "8518cff5",
   "metadata": {},
   "source": [
    "<div class=\"alert alert-danger\">\n",
    "<b>❌ Комментарий ревьюера v1:</b> \n",
    "<br>Во всех четырёх вопросах тебе нужно поправить расчеты:\n",
    "    \n",
    "    количество клиентов без детей и с долгом / (количество клиентов без детей и с долгом + количество клиентов без детей и без долга)\n",
    "<br>Выводы это не изменит, но сами доли должников внутри группы чуть-чуть уменьшатся   \n",
    "</div>"
   ]
  },
  {
   "cell_type": "markdown",
   "id": "c1e69ff6",
   "metadata": {},
   "source": [
    "<div class=\"alert alert-info\">\n",
    "<b>Комментарий студента:</b>\n",
    "<br> Понял, сейчас всё пересчитаем)\n",
    "</div>"
   ]
  },
  {
   "cell_type": "markdown",
   "id": "2456f1af",
   "metadata": {},
   "source": [
    "<div class=\"alert alert-success\">\n",
    "<b>✔️ Комментарий ревьюера v2:</b>\n",
    "<br>Отлично! Теперь всё верно)\n",
    "</div>"
   ]
  },
  {
   "cell_type": "markdown",
   "id": "c5d66278",
   "metadata": {
    "deletable": false,
    "editable": false,
    "id": "c5d66278"
   },
   "source": [
    "#### 3.1 Есть ли зависимость между количеством детей и возвратом кредита в срок?"
   ]
  },
  {
   "cell_type": "markdown",
   "id": "87713eec",
   "metadata": {},
   "source": [
    "Для того, чтобы установить, существует ли такая зависимость, можно посчитать соотношение людей, имевших и не имевших задолженностей по возврату кредитов, при разном количестве детей в семье.\n"
   ]
  },
  {
   "cell_type": "code",
   "execution_count": 22,
   "id": "2f5242f8",
   "metadata": {},
   "outputs": [
    {
     "data": {
      "text/plain": [
       "0    14091\n",
       "1     4808\n",
       "2     2052\n",
       "3      330\n",
       "4       41\n",
       "5        9\n",
       "Name: children, dtype: int64"
      ]
     },
     "execution_count": 22,
     "metadata": {},
     "output_type": "execute_result"
    }
   ],
   "source": [
    "# Общее количество\n",
    "children = data['children'].value_counts()\n",
    "children"
   ]
  },
  {
   "cell_type": "code",
   "execution_count": 23,
   "id": "2cacfc4a",
   "metadata": {
    "deletable": false,
    "id": "2cacfc4a"
   },
   "outputs": [
    {
     "data": {
      "text/plain": [
       "children\n",
       "0    1063\n",
       "1     444\n",
       "2     194\n",
       "3      27\n",
       "4       4\n",
       "Name: debt, dtype: int64"
      ]
     },
     "execution_count": 23,
     "metadata": {},
     "output_type": "execute_result"
    }
   ],
   "source": [
    "# Количество должников\n",
    "children_debtors = data[data['debt'] == 1].groupby('children')['debt'].count()\n",
    "children_debtors"
   ]
  },
  {
   "cell_type": "code",
   "execution_count": 24,
   "id": "334fc2d5",
   "metadata": {},
   "outputs": [
    {
     "data": {
      "text/plain": [
       "children\n",
       "0    13028\n",
       "1     4364\n",
       "2     1858\n",
       "3      303\n",
       "4       37\n",
       "5        9\n",
       "Name: debt, dtype: int64"
      ]
     },
     "execution_count": 24,
     "metadata": {},
     "output_type": "execute_result"
    }
   ],
   "source": [
    "# Количество людей без долгов\n",
    "children_not_a_debtors = data[data['debt'] == 0].groupby('children')['debt'].count()\n",
    "children_not_a_debtors"
   ]
  },
  {
   "cell_type": "code",
   "execution_count": 25,
   "id": "6e309370",
   "metadata": {},
   "outputs": [
    {
     "data": {
      "text/plain": [
       "0    0.075438\n",
       "1    0.092346\n",
       "2    0.094542\n",
       "3    0.081818\n",
       "4    0.097561\n",
       "dtype: float64"
      ]
     },
     "execution_count": 25,
     "metadata": {},
     "output_type": "execute_result"
    }
   ],
   "source": [
    "# Соотношение людей с долгами ко всей группе (должники + не должники) при разном количестве детей\n",
    "ratio = children_debtors / children\n",
    "ratio = ratio.dropna() # Должников с 5 детьми нет\n",
    "ratio"
   ]
  },
  {
   "cell_type": "markdown",
   "id": "5ce91056",
   "metadata": {},
   "source": [
    "**Вывод:** по полученным соотношениям нельзя чётко сказать, что есть прямая (линейная) зависимость между количеством детей и возвратом кредита в срок. Однако, справедливо утверждение, что люди без детей чаще остальных отдают кредит в срок."
   ]
  },
  {
   "cell_type": "markdown",
   "id": "63e33224",
   "metadata": {},
   "source": [
    "<div class=\"alert alert-success\">\n",
    "<b>✔️ Комментарий ревьюера v1:</b> \n",
    "<br>Верно! \n",
    "</div>"
   ]
  },
  {
   "cell_type": "markdown",
   "id": "3a6b99ec",
   "metadata": {
    "deletable": false,
    "editable": false,
    "id": "3a6b99ec"
   },
   "source": [
    "**Вывод:** "
   ]
  },
  {
   "cell_type": "markdown",
   "id": "97be82ca",
   "metadata": {
    "deletable": false,
    "editable": false,
    "id": "97be82ca"
   },
   "source": [
    "#### 3.2 Есть ли зависимость между семейным положением и возвратом кредита в срок?"
   ]
  },
  {
   "cell_type": "markdown",
   "id": "70af8298",
   "metadata": {},
   "source": [
    "Для того, чтобы установить, существует ли такая зависимость, так же можно посчитать соотношение, аналогично заданию выше\n"
   ]
  },
  {
   "cell_type": "code",
   "execution_count": 26,
   "id": "dc3f7ee8",
   "metadata": {
    "deletable": false,
    "id": "dc3f7ee8"
   },
   "outputs": [
    {
     "data": {
      "text/plain": [
       "женат / замужем          12261\n",
       "гражданский брак          4134\n",
       "Не женат / не замужем     2796\n",
       "в разводе                 1189\n",
       "вдовец / вдова             951\n",
       "Name: family_status, dtype: int64"
      ]
     },
     "execution_count": 26,
     "metadata": {},
     "output_type": "execute_result"
    }
   ],
   "source": [
    "# Общее количество\n",
    "status = data['family_status'].value_counts()\n",
    "status"
   ]
  },
  {
   "cell_type": "code",
   "execution_count": 27,
   "id": "4db18314",
   "metadata": {},
   "outputs": [
    {
     "data": {
      "text/plain": [
       "family_status\n",
       "Не женат / не замужем    273\n",
       "в разводе                 84\n",
       "вдовец / вдова            63\n",
       "гражданский брак         385\n",
       "женат / замужем          927\n",
       "Name: debt, dtype: int64"
      ]
     },
     "execution_count": 27,
     "metadata": {},
     "output_type": "execute_result"
    }
   ],
   "source": [
    "# Количество должников\n",
    "status_debtors = data[data['debt'] == 1].groupby('family_status')['debt'].count()\n",
    "status_debtors"
   ]
  },
  {
   "cell_type": "code",
   "execution_count": 28,
   "id": "6d933cfc",
   "metadata": {},
   "outputs": [
    {
     "data": {
      "text/plain": [
       "family_status\n",
       "Не женат / не замужем     2523\n",
       "в разводе                 1105\n",
       "вдовец / вдова             888\n",
       "гражданский брак          3749\n",
       "женат / замужем          11334\n",
       "Name: debt, dtype: int64"
      ]
     },
     "execution_count": 28,
     "metadata": {},
     "output_type": "execute_result"
    }
   ],
   "source": [
    "# Количество людей без долгов\n",
    "status_not_a_debtors = data[data['debt'] == 0].groupby('family_status')['debt'].count()\n",
    "status_not_a_debtors"
   ]
  },
  {
   "cell_type": "code",
   "execution_count": 29,
   "id": "12c92795",
   "metadata": {},
   "outputs": [
    {
     "data": {
      "text/plain": [
       "Не женат / не замужем    0.097639\n",
       "гражданский брак         0.093130\n",
       "женат / замужем          0.075606\n",
       "в разводе                0.070648\n",
       "вдовец / вдова           0.066246\n",
       "dtype: float64"
      ]
     },
     "execution_count": 29,
     "metadata": {},
     "output_type": "execute_result"
    }
   ],
   "source": [
    "# Соотношение людей с долгами ко всей группе (должники + не должники) при разном статусе\n",
    "ratio = status_debtors / status\n",
    "ratio.sort_values(ascending=False)"
   ]
  },
  {
   "cell_type": "markdown",
   "id": "b89975b6",
   "metadata": {},
   "source": [
    "**Вывод:** чаще всего долги имеют люди со статусами 'Не женат / не замужем', 'гражданский брак', реже всего - люди со статусами 'в разводе', 'вдовец/вдова'. Между ними по уровню возвратности кредитов расположились люди со статусом 'женат / замужем'.\n",
    "\n",
    "Обобщая - зависимость между семейным положением и возвратом кредита в срок зависимость есть. Люди, которые состоят/состояли в браке чаще возвращают долг вовремя."
   ]
  },
  {
   "cell_type": "markdown",
   "id": "4ac50d91",
   "metadata": {},
   "source": [
    "<div class=\"alert alert-success\">\n",
    "<b>✔️ Комментарий ревьюера v1:</b> \n",
    "<br>Тут всё правильно\n",
    "</div>"
   ]
  },
  {
   "cell_type": "markdown",
   "id": "1cef7837",
   "metadata": {
    "deletable": false,
    "editable": false,
    "id": "1cef7837"
   },
   "source": [
    "**Вывод:** "
   ]
  },
  {
   "cell_type": "markdown",
   "id": "1e8b2fca",
   "metadata": {
    "deletable": false,
    "editable": false,
    "id": "1e8b2fca"
   },
   "source": [
    "#### 3.3 Есть ли зависимость между уровнем дохода и возвратом кредита в срок?"
   ]
  },
  {
   "cell_type": "markdown",
   "id": "94b5e2dd",
   "metadata": {},
   "source": [
    "Аналогично заданиям выше, посчитаем соотношения"
   ]
  },
  {
   "cell_type": "code",
   "execution_count": 30,
   "id": "cd7e3720",
   "metadata": {
    "deletable": false,
    "id": "cd7e3720"
   },
   "outputs": [
    {
     "data": {
      "text/plain": [
       "A       25\n",
       "B     5014\n",
       "C    15921\n",
       "D      349\n",
       "E       22\n",
       "Name: total_income_category, dtype: int64"
      ]
     },
     "execution_count": 30,
     "metadata": {},
     "output_type": "execute_result"
    }
   ],
   "source": [
    "# Общее количество\n",
    "total_income = data['total_income_category'].value_counts().sort_index()\n",
    "total_income"
   ]
  },
  {
   "cell_type": "code",
   "execution_count": 31,
   "id": "b7f0ad23",
   "metadata": {},
   "outputs": [
    {
     "data": {
      "text/plain": [
       "total_income_category\n",
       "A       2\n",
       "B     354\n",
       "C    1353\n",
       "D      21\n",
       "E       2\n",
       "Name: debt, dtype: int64"
      ]
     },
     "execution_count": 31,
     "metadata": {},
     "output_type": "execute_result"
    }
   ],
   "source": [
    "# Количество должников\n",
    "income_debtors = data[data['debt'] == 1].groupby('total_income_category')['debt'].count()\n",
    "income_debtors"
   ]
  },
  {
   "cell_type": "code",
   "execution_count": 32,
   "id": "70dd03e0",
   "metadata": {},
   "outputs": [
    {
     "data": {
      "text/plain": [
       "total_income_category\n",
       "A       23\n",
       "B     4660\n",
       "C    14568\n",
       "D      328\n",
       "E       20\n",
       "Name: debt, dtype: int64"
      ]
     },
     "execution_count": 32,
     "metadata": {},
     "output_type": "execute_result"
    }
   ],
   "source": [
    "# Количество людей без долгов\n",
    "income_not_a_debtors = data[data['debt'] == 0].groupby('total_income_category')['debt'].count()\n",
    "income_not_a_debtors"
   ]
  },
  {
   "cell_type": "code",
   "execution_count": 33,
   "id": "a14edf79",
   "metadata": {},
   "outputs": [
    {
     "data": {
      "text/plain": [
       "total_income_category\n",
       "A    0.080000\n",
       "B    0.070602\n",
       "C    0.084982\n",
       "D    0.060172\n",
       "E    0.090909\n",
       "dtype: float64"
      ]
     },
     "execution_count": 33,
     "metadata": {},
     "output_type": "execute_result"
    }
   ],
   "source": [
    "# Соотношение людей с долгами ко всей группе (должники + не должники) при разном уровне дохода\n",
    "ratio = income_debtors / total_income\n",
    "ratio.sort_values(ascending=False).sort_index()"
   ]
  },
  {
   "cell_type": "code",
   "execution_count": 34,
   "id": "4eae12d0",
   "metadata": {},
   "outputs": [
    {
     "data": {
      "text/plain": [
       "<AxesSubplot:xlabel='total_income_category'>"
      ]
     },
     "execution_count": 34,
     "metadata": {},
     "output_type": "execute_result"
    },
    {
     "data": {
      "image/png": "[encoded data removed]",
      "text/plain": [
       "<Figure size 432x288 with 1 Axes>"
      ]
     },
     "metadata": {
      "needs_background": "light"
     },
     "output_type": "display_data"
    }
   ],
   "source": [
    "ratio.sort_values(ascending=False).sort_index().plot()"
   ]
  },
  {
   "cell_type": "markdown",
   "id": "71400bcd",
   "metadata": {},
   "source": [
    "**Вывод:** прямой (линейной) зависимости между ровнем дохода и возвратом кредита в срок нет. \n",
    "\n",
    "Интересно, что близкие друг к другу категории D и E принимают минимальное и максимальные соотношения между лицами с долгами и без соответственно. Хотя, в генеральной совокупости всего 22 человека относятся к категории Е. Тоже самое можно сказать и про людей категории A, их всего 25 на весь датасет. Это может говорить нам о том, что выборка людей этих категорий нерепрезентативна или что имеет смысл осуществить категоризацию данных иначе.\n",
    "\n",
    "При этом количество людей в остальных категориях позволяет сказать нам, что люди в категориях В и D чаще остальных возвращают кредит вовремя, в то же время лица из самой многочисленной категории C - реже остальных."
   ]
  },
  {
   "cell_type": "markdown",
   "id": "394ec5f0",
   "metadata": {},
   "source": [
    "<div class=\"alert alert-success\">\n",
    "<b>✔️ Комментарий ревьюера v1:</b> \n",
    "<br>Согласен! Идём дальше)\n",
    "</div>"
   ]
  },
  {
   "cell_type": "markdown",
   "id": "e8593def",
   "metadata": {
    "deletable": false,
    "editable": false,
    "id": "e8593def"
   },
   "source": [
    "**Вывод:** "
   ]
  },
  {
   "cell_type": "markdown",
   "id": "99ecbd1f",
   "metadata": {
    "deletable": false,
    "editable": false,
    "id": "99ecbd1f"
   },
   "source": [
    "#### 3.4 Как разные цели кредита влияют на его возврат в срок?"
   ]
  },
  {
   "cell_type": "markdown",
   "id": "476885d8",
   "metadata": {},
   "source": [
    "Найдём соотношение людей, вовремя и не вовремя вернувших долг, группируя их по разным целям."
   ]
  },
  {
   "cell_type": "code",
   "execution_count": 35,
   "id": "2b687290",
   "metadata": {
    "deletable": false,
    "id": "2b687290"
   },
   "outputs": [
    {
     "data": {
      "text/plain": [
       "операции с автомобилем       4279\n",
       "операции с недвижимостью    10751\n",
       "получение образования        3988\n",
       "проведение свадьбы           2313\n",
       "Name: purpose_category, dtype: int64"
      ]
     },
     "execution_count": 35,
     "metadata": {},
     "output_type": "execute_result"
    }
   ],
   "source": [
    "# Общее количество\n",
    "purpose = data['purpose_category'].value_counts().sort_index()\n",
    "purpose"
   ]
  },
  {
   "cell_type": "code",
   "execution_count": 36,
   "id": "c5ffb8c3",
   "metadata": {},
   "outputs": [
    {
     "data": {
      "text/plain": [
       "purpose_category\n",
       "операции с автомобилем      400\n",
       "операции с недвижимостью    780\n",
       "получение образования       369\n",
       "проведение свадьбы          183\n",
       "Name: debt, dtype: int64"
      ]
     },
     "execution_count": 36,
     "metadata": {},
     "output_type": "execute_result"
    }
   ],
   "source": [
    "# Количество должников\n",
    "purpose_debtors = data[data['debt'] == 1].groupby('purpose_category')['debt'].count()\n",
    "purpose_debtors"
   ]
  },
  {
   "cell_type": "code",
   "execution_count": 37,
   "id": "e0535569",
   "metadata": {},
   "outputs": [
    {
     "data": {
      "text/plain": [
       "purpose_category\n",
       "операции с автомобилем      3879\n",
       "операции с недвижимостью    9971\n",
       "получение образования       3619\n",
       "проведение свадьбы          2130\n",
       "Name: debt, dtype: int64"
      ]
     },
     "execution_count": 37,
     "metadata": {},
     "output_type": "execute_result"
    }
   ],
   "source": [
    "# Количество людей без долгов\n",
    "purpose_not_a_debtors = data[data['debt'] == 0].groupby('purpose_category')['debt'].count()\n",
    "purpose_not_a_debtors"
   ]
  },
  {
   "cell_type": "code",
   "execution_count": 38,
   "id": "7f52a217",
   "metadata": {},
   "outputs": [
    {
     "data": {
      "text/plain": [
       "purpose_category\n",
       "операции с автомобилем      0.093480\n",
       "получение образования       0.092528\n",
       "проведение свадьбы          0.079118\n",
       "операции с недвижимостью    0.072551\n",
       "dtype: float64"
      ]
     },
     "execution_count": 38,
     "metadata": {},
     "output_type": "execute_result"
    }
   ],
   "source": [
    "# Соотношение людей с долгами ко всей группе (должники + не должники) при разных целях кредита\n",
    "ratio = purpose_debtors / purpose\n",
    "ratio.sort_values(ascending=False)"
   ]
  },
  {
   "cell_type": "markdown",
   "id": "5cce7510",
   "metadata": {},
   "source": [
    "**Вывод:** Кредиты не возвращают в срок чаще всего при операциях с автомобилями и получении образования и реже при проведении свадеб и операциях с недвижимостью."
   ]
  },
  {
   "cell_type": "markdown",
   "id": "77d172cf",
   "metadata": {},
   "source": [
    "<div class=\"alert alert-success\">\n",
    "<b>✔️ Комментарий ревьюера v1:</b>\n",
    "<br>Абсолютно верно!\n",
    "</div>"
   ]
  },
  {
   "cell_type": "markdown",
   "id": "b4bb2ce6",
   "metadata": {
    "deletable": false,
    "editable": false,
    "id": "b4bb2ce6"
   },
   "source": [
    "**Вывод:** "
   ]
  },
  {
   "cell_type": "markdown",
   "id": "09c3ac4c",
   "metadata": {
    "deletable": false,
    "editable": false,
    "id": "09c3ac4c"
   },
   "source": [
    "#### 3.5 Приведите возможные причины появления пропусков в исходных данных."
   ]
  },
  {
   "cell_type": "markdown",
   "id": "9da2ceda",
   "metadata": {
    "deletable": false,
    "editable": false,
    "id": "9da2ceda"
   },
   "source": [
    "*Ответ:* "
   ]
  },
  {
   "cell_type": "markdown",
   "id": "dd5513dc",
   "metadata": {},
   "source": [
    "*Ответ:* пропуски возможны из-за ошибок при сборе данных или их обработке, или из-за отсутствия информации в целом при сборе данных (например, нежелание человека отвечать на какой-то вопрос при анкетировании)."
   ]
  },
  {
   "cell_type": "markdown",
   "id": "304cd8d6",
   "metadata": {},
   "source": [
    "<div class=\"alert alert-success\">\n",
    "<b>✔️ Комментарий ревьюера v1:</b> \n",
    "<br>Верно!\n",
    "</div>"
   ]
  },
  {
   "cell_type": "markdown",
   "id": "7b0487d6",
   "metadata": {
    "deletable": false,
    "editable": false,
    "id": "7b0487d6"
   },
   "source": [
    "#### 3.6 Объясните, почему заполнить пропуски медианным значением — лучшее решение для количественных переменных."
   ]
  },
  {
   "cell_type": "markdown",
   "id": "7ecf2b8e",
   "metadata": {
    "deletable": false,
    "editable": false,
    "id": "7ecf2b8e"
   },
   "source": [
    "*Ответ:* "
   ]
  },
  {
   "cell_type": "markdown",
   "id": "c12e1bd0",
   "metadata": {},
   "source": [
    "*Ответ:* Среднее значение некорректно характеризует данные, когда некоторые значения сильно выделяются среди большинства. Например, если в коллективе из 4 человек пришёл директор с зарплатой 600.000, а у четырёх сотрудников зарплата 100.000, то, посчитав среднее до и после прихода директора, можно сделать ~~удобный для отчитывающихся перед руководством лиц~~ ̶вывод, что средняя зарплата отдела выросла в два раза, что, естественно, не является объективной информацией о зарплате. Медиана при этом останется прежней - 100.000 рублей."
   ]
  },
  {
   "cell_type": "markdown",
   "id": "40aa0419",
   "metadata": {},
   "source": [
    "<div class=\"alert alert-success\">\n",
    "<b>✔️ Комментарий ревьюера v1:</b> \n",
    "<br>Точно! Здорово, что ты помнишь об этом различии между средним и медианой\n",
    "</div>"
   ]
  },
  {
   "cell_type": "markdown",
   "id": "6db5255a",
   "metadata": {
    "deletable": false,
    "editable": false,
    "id": "6db5255a"
   },
   "source": [
    "### Шаг 4: общий вывод."
   ]
  },
  {
   "cell_type": "markdown",
   "id": "bad65432",
   "metadata": {
    "deletable": false,
    "editable": false,
    "id": "bad65432"
   },
   "source": [
    "Напишите ваш общий вывод."
   ]
  },
  {
   "cell_type": "markdown",
   "id": "db8544a3",
   "metadata": {},
   "source": [
    "Мы провели исследование надёжности заёмщиков по их социологическим данным, осуществив перед этим предобработку: избавились от дубликатов, пропусков, аномальных значений, преобразовали типы данных и категоризовали количественные переменные.\n",
    "\n",
    "\n",
    "В результате исследования мы можем составить портреты наиболее и наименее надёжных заёмщиков.\n",
    "\n",
    "---\n",
    "**Наиболее надёжный заёмщик:**\n",
    "- Не имеет детей\n",
    "- Состоит/состоял в браке\n",
    "- Зарабатывает от 30001 до 50000 рублей\n",
    "- Берет в долг на недвижимость\n",
    "---\n",
    "**Наименее надёжный заёмщик:**\n",
    "- Имеет хотя бы одного ребенка\n",
    "- Никогда не состоял в браке\n",
    "- Зарабатывает от 50001 до 200000 рублей\n",
    "- Берет в долг на автомобиль\n",
    "---"
   ]
  },
  {
   "cell_type": "markdown",
   "id": "232617ff",
   "metadata": {},
   "source": [
    "<div class=\"alert alert-success\">\n",
    "<b>✔️ Комментарий ревьюера v1:</b> \n",
    "<br>Отличный общий вывод 👏🏻👏🏻👏🏻\n",
    "</div>"
   ]
  },
  {
   "cell_type": "markdown",
   "id": "21acb548",
   "metadata": {},
   "source": [
    "<div class=\"alert alert-success\">\n",
    "<b>✔️ Итоговый комментарий ревьюера v1:</b>\n",
    "<br>Я бы мог принять твою работу с первого раза, но хочу дать тебе возможность задать мне вопросы) Если вопросов нет, то я с радостью приму проект)\n",
    "</div>\n"
   ]
  },
  {
   "cell_type": "markdown",
   "id": "b83866f5",
   "metadata": {},
   "source": [
    "<div class=\"alert alert-info\">\n",
    "<b>Комментарий студента:</b>\n",
    "<br> Вопросов нет, всё круто, спасибо большое за ревью! (͡° ͜ʖ ͡°)\n",
    "</div>"
   ]
  },
  {
   "cell_type": "markdown",
   "id": "8108491e",
   "metadata": {},
   "source": [
    "<div class=\"alert alert-success\">\n",
    "<b>✔️ Итоговый комментарий ревьюера v2:</b>\n",
    "<br>Тогда мне ничего не остаётся, кроме как принять твой проект)\n",
    "<br>Рад был поработать над проверкой твоего проекта) Желаю удачи в дальнейшем обучении! 😉\n",
    "</div>"
   ]
  }
 ],
 "metadata": {
  "ExecuteTimeLog": [
   {
    "duration": 51,
    "start_time": "2022-08-05T18:53:28.251Z"
   },
   {
    "duration": 454,
    "start_time": "2022-08-05T18:53:33.846Z"
   },
   {
    "duration": 23,
    "start_time": "2022-08-05T18:53:34.302Z"
   },
   {
    "duration": 16,
    "start_time": "2022-08-05T18:53:34.327Z"
   },
   {
    "duration": 11,
    "start_time": "2022-08-05T18:53:34.345Z"
   },
   {
    "duration": 61,
    "start_time": "2022-08-05T18:53:34.358Z"
   },
   {
    "duration": 4,
    "start_time": "2022-08-05T18:53:34.420Z"
   },
   {
    "duration": 22,
    "start_time": "2022-08-05T18:53:34.426Z"
   },
   {
    "duration": 14,
    "start_time": "2022-08-05T18:53:34.449Z"
   },
   {
    "duration": 15,
    "start_time": "2022-08-05T18:53:34.465Z"
   },
   {
    "duration": 11,
    "start_time": "2022-08-05T18:53:34.484Z"
   },
   {
    "duration": 41,
    "start_time": "2022-08-05T18:53:34.497Z"
   },
   {
    "duration": 11,
    "start_time": "2022-08-05T18:53:34.540Z"
   },
   {
    "duration": 8,
    "start_time": "2022-08-05T18:53:34.552Z"
   },
   {
    "duration": 29,
    "start_time": "2022-08-05T18:53:34.562Z"
   },
   {
    "duration": 22,
    "start_time": "2022-08-05T18:53:34.593Z"
   },
   {
    "duration": 19,
    "start_time": "2022-08-05T18:53:34.616Z"
   },
   {
    "duration": 4,
    "start_time": "2022-08-05T18:53:34.637Z"
   },
   {
    "duration": 19,
    "start_time": "2022-08-05T18:53:34.643Z"
   },
   {
    "duration": 29,
    "start_time": "2022-08-05T18:53:34.664Z"
   },
   {
    "duration": 13,
    "start_time": "2022-08-05T18:53:34.695Z"
   },
   {
    "duration": 18,
    "start_time": "2022-08-05T18:53:34.710Z"
   },
   {
    "duration": 6,
    "start_time": "2022-08-05T18:53:37.731Z"
   },
   {
    "duration": 7,
    "start_time": "2022-08-05T18:55:59.149Z"
   },
   {
    "duration": 34,
    "start_time": "2022-08-05T18:57:26.437Z"
   },
   {
    "duration": 10,
    "start_time": "2022-08-05T18:57:32.089Z"
   },
   {
    "duration": 5,
    "start_time": "2022-08-05T18:57:34.456Z"
   },
   {
    "duration": 1146,
    "start_time": "2022-08-05T18:58:36.816Z"
   },
   {
    "duration": 19,
    "start_time": "2022-08-05T18:58:54.327Z"
   },
   {
    "duration": 11,
    "start_time": "2022-08-05T18:59:16.222Z"
   },
   {
    "duration": 8,
    "start_time": "2022-08-05T19:01:06.670Z"
   },
   {
    "duration": 6,
    "start_time": "2022-08-05T19:01:12.936Z"
   },
   {
    "duration": 6,
    "start_time": "2022-08-05T19:03:03.418Z"
   },
   {
    "duration": 8,
    "start_time": "2022-08-05T19:03:12.935Z"
   },
   {
    "duration": 7,
    "start_time": "2022-08-05T19:03:23.901Z"
   },
   {
    "duration": 8,
    "start_time": "2022-08-05T19:03:28.321Z"
   },
   {
    "duration": 7,
    "start_time": "2022-08-05T19:03:28.788Z"
   },
   {
    "duration": 8,
    "start_time": "2022-08-05T19:03:29.587Z"
   },
   {
    "duration": 78,
    "start_time": "2022-08-05T19:03:33.347Z"
   },
   {
    "duration": 18,
    "start_time": "2022-08-05T19:03:33.427Z"
   },
   {
    "duration": 29,
    "start_time": "2022-08-05T19:03:33.447Z"
   },
   {
    "duration": 26,
    "start_time": "2022-08-05T19:03:33.479Z"
   },
   {
    "duration": 48,
    "start_time": "2022-08-05T19:03:33.507Z"
   },
   {
    "duration": 4,
    "start_time": "2022-08-05T19:03:33.558Z"
   },
   {
    "duration": 33,
    "start_time": "2022-08-05T19:03:33.564Z"
   },
   {
    "duration": 6,
    "start_time": "2022-08-05T19:03:33.600Z"
   },
   {
    "duration": 12,
    "start_time": "2022-08-05T19:03:33.608Z"
   },
   {
    "duration": 9,
    "start_time": "2022-08-05T19:03:33.623Z"
   },
   {
    "duration": 82,
    "start_time": "2022-08-05T19:03:33.634Z"
   },
   {
    "duration": 16,
    "start_time": "2022-08-05T19:03:33.719Z"
   },
   {
    "duration": 5,
    "start_time": "2022-08-05T19:03:33.738Z"
   },
   {
    "duration": 27,
    "start_time": "2022-08-05T19:03:33.745Z"
   },
   {
    "duration": 25,
    "start_time": "2022-08-05T19:03:33.793Z"
   },
   {
    "duration": 20,
    "start_time": "2022-08-05T19:03:33.819Z"
   },
   {
    "duration": 6,
    "start_time": "2022-08-05T19:03:33.841Z"
   },
   {
    "duration": 43,
    "start_time": "2022-08-05T19:03:33.849Z"
   },
   {
    "duration": 13,
    "start_time": "2022-08-05T19:03:33.894Z"
   },
   {
    "duration": 6,
    "start_time": "2022-08-05T19:03:33.909Z"
   },
   {
    "duration": 30,
    "start_time": "2022-08-05T19:03:33.917Z"
   },
   {
    "duration": 9,
    "start_time": "2022-08-05T19:03:33.951Z"
   },
   {
    "duration": 37,
    "start_time": "2022-08-05T19:03:33.963Z"
   },
   {
    "duration": 16,
    "start_time": "2022-08-05T19:03:34.003Z"
   },
   {
    "duration": 9,
    "start_time": "2022-08-05T19:03:34.021Z"
   },
   {
    "duration": 10,
    "start_time": "2022-08-05T19:03:34.032Z"
   },
   {
    "duration": 8,
    "start_time": "2022-08-05T19:03:34.044Z"
   },
   {
    "duration": 3,
    "start_time": "2022-08-05T19:03:34.057Z"
   },
   {
    "duration": 9,
    "start_time": "2022-08-05T19:03:39.929Z"
   },
   {
    "duration": 12,
    "start_time": "2022-08-05T19:03:54.095Z"
   },
   {
    "duration": 8,
    "start_time": "2022-08-05T19:04:19.609Z"
   },
   {
    "duration": 72,
    "start_time": "2022-08-05T19:09:23.538Z"
   },
   {
    "duration": 16,
    "start_time": "2022-08-05T19:09:23.611Z"
   },
   {
    "duration": 24,
    "start_time": "2022-08-05T19:09:23.629Z"
   },
   {
    "duration": 16,
    "start_time": "2022-08-05T19:09:23.655Z"
   },
   {
    "duration": 47,
    "start_time": "2022-08-05T19:09:23.693Z"
   },
   {
    "duration": 3,
    "start_time": "2022-08-05T19:09:23.742Z"
   },
   {
    "duration": 14,
    "start_time": "2022-08-05T19:09:23.747Z"
   },
   {
    "duration": 10,
    "start_time": "2022-08-05T19:09:23.763Z"
   },
   {
    "duration": 12,
    "start_time": "2022-08-05T19:09:23.792Z"
   },
   {
    "duration": 4,
    "start_time": "2022-08-05T19:09:23.807Z"
   },
   {
    "duration": 38,
    "start_time": "2022-08-05T19:09:23.813Z"
   },
   {
    "duration": 11,
    "start_time": "2022-08-05T19:09:23.853Z"
   },
   {
    "duration": 27,
    "start_time": "2022-08-05T19:09:23.865Z"
   },
   {
    "duration": 12,
    "start_time": "2022-08-05T19:09:23.893Z"
   },
   {
    "duration": 21,
    "start_time": "2022-08-05T19:09:23.907Z"
   },
   {
    "duration": 19,
    "start_time": "2022-08-05T19:09:23.930Z"
   },
   {
    "duration": 4,
    "start_time": "2022-08-05T19:09:23.951Z"
   },
   {
    "duration": 36,
    "start_time": "2022-08-05T19:09:23.957Z"
   },
   {
    "duration": 9,
    "start_time": "2022-08-05T19:09:23.995Z"
   },
   {
    "duration": 4,
    "start_time": "2022-08-05T19:09:24.006Z"
   },
   {
    "duration": 15,
    "start_time": "2022-08-05T19:09:24.012Z"
   },
   {
    "duration": 5,
    "start_time": "2022-08-05T19:09:24.029Z"
   },
   {
    "duration": 11,
    "start_time": "2022-08-05T19:09:24.036Z"
   },
   {
    "duration": 43,
    "start_time": "2022-08-05T19:09:24.049Z"
   },
   {
    "duration": 6,
    "start_time": "2022-08-05T19:09:24.093Z"
   },
   {
    "duration": 6,
    "start_time": "2022-08-05T19:09:24.101Z"
   },
   {
    "duration": 4,
    "start_time": "2022-08-05T19:09:24.109Z"
   },
   {
    "duration": 5,
    "start_time": "2022-08-05T19:09:24.116Z"
   },
   {
    "duration": 18,
    "start_time": "2022-08-05T19:09:53.361Z"
   },
   {
    "duration": 6,
    "start_time": "2022-08-05T19:10:22.514Z"
   },
   {
    "duration": 9,
    "start_time": "2022-08-05T19:10:22.935Z"
   },
   {
    "duration": 10,
    "start_time": "2022-08-05T19:10:23.363Z"
   },
   {
    "duration": 5,
    "start_time": "2022-08-05T19:10:46.278Z"
   },
   {
    "duration": 2,
    "start_time": "2022-08-05T19:10:49.591Z"
   },
   {
    "duration": 6,
    "start_time": "2022-08-05T19:11:52.350Z"
   },
   {
    "duration": 3,
    "start_time": "2022-08-05T19:11:52.762Z"
   },
   {
    "duration": 10,
    "start_time": "2022-08-05T19:11:53.121Z"
   },
   {
    "duration": 10,
    "start_time": "2022-08-05T19:11:53.533Z"
   },
   {
    "duration": 6,
    "start_time": "2022-08-05T19:12:09.001Z"
   },
   {
    "duration": 33,
    "start_time": "2022-08-05T19:12:42.784Z"
   },
   {
    "duration": 9,
    "start_time": "2022-08-05T19:12:44.983Z"
   },
   {
    "duration": 9,
    "start_time": "2022-08-05T19:13:03.974Z"
   },
   {
    "duration": 7,
    "start_time": "2022-08-05T19:13:05.882Z"
   },
   {
    "duration": 9,
    "start_time": "2022-08-05T19:13:08.333Z"
   },
   {
    "duration": 10,
    "start_time": "2022-08-05T19:13:18.614Z"
   },
   {
    "duration": 10,
    "start_time": "2022-08-05T19:13:21.511Z"
   },
   {
    "duration": 7,
    "start_time": "2022-08-05T19:13:29.151Z"
   },
   {
    "duration": 5,
    "start_time": "2022-08-05T19:13:38.874Z"
   },
   {
    "duration": 17,
    "start_time": "2022-08-05T19:14:00.898Z"
   },
   {
    "duration": 4,
    "start_time": "2022-08-05T19:14:50.183Z"
   },
   {
    "duration": 6,
    "start_time": "2022-08-05T19:15:05.367Z"
   },
   {
    "duration": 6,
    "start_time": "2022-08-05T19:15:15.277Z"
   },
   {
    "duration": 7,
    "start_time": "2022-08-05T19:16:29.980Z"
   },
   {
    "duration": 6,
    "start_time": "2022-08-05T19:16:52.251Z"
   },
   {
    "duration": 7,
    "start_time": "2022-08-05T19:18:13.571Z"
   },
   {
    "duration": 6,
    "start_time": "2022-08-05T19:18:21.172Z"
   },
   {
    "duration": 9,
    "start_time": "2022-08-05T19:19:05.112Z"
   },
   {
    "duration": 12,
    "start_time": "2022-08-05T19:19:40.081Z"
   },
   {
    "duration": 5,
    "start_time": "2022-08-05T19:20:10.698Z"
   },
   {
    "duration": 8,
    "start_time": "2022-08-05T19:22:58.897Z"
   },
   {
    "duration": 6,
    "start_time": "2022-08-05T19:23:43.534Z"
   },
   {
    "duration": 129,
    "start_time": "2022-08-05T19:29:38.442Z"
   },
   {
    "duration": 10,
    "start_time": "2022-08-05T19:31:57.460Z"
   },
   {
    "duration": 10,
    "start_time": "2022-08-05T19:32:09.675Z"
   },
   {
    "duration": 10,
    "start_time": "2022-08-05T19:32:35.496Z"
   },
   {
    "duration": 9,
    "start_time": "2022-08-05T19:33:08.387Z"
   },
   {
    "duration": 11,
    "start_time": "2022-08-05T19:33:32.605Z"
   },
   {
    "duration": 6,
    "start_time": "2022-08-05T19:33:57.224Z"
   },
   {
    "duration": 7,
    "start_time": "2022-08-05T19:37:18.115Z"
   },
   {
    "duration": 594,
    "start_time": "2022-08-05T19:37:30.601Z"
   },
   {
    "duration": 7,
    "start_time": "2022-08-05T19:38:11.312Z"
   },
   {
    "duration": 6,
    "start_time": "2022-08-05T19:41:57.974Z"
   },
   {
    "duration": 88,
    "start_time": "2022-08-05T19:42:08.755Z"
   },
   {
    "duration": 16,
    "start_time": "2022-08-05T19:42:08.845Z"
   },
   {
    "duration": 37,
    "start_time": "2022-08-05T19:42:08.863Z"
   },
   {
    "duration": 15,
    "start_time": "2022-08-05T19:42:08.903Z"
   },
   {
    "duration": 74,
    "start_time": "2022-08-05T19:42:08.920Z"
   },
   {
    "duration": 5,
    "start_time": "2022-08-05T19:42:08.996Z"
   },
   {
    "duration": 14,
    "start_time": "2022-08-05T19:42:09.003Z"
   },
   {
    "duration": 6,
    "start_time": "2022-08-05T19:42:09.019Z"
   },
   {
    "duration": 8,
    "start_time": "2022-08-05T19:42:09.027Z"
   },
   {
    "duration": 5,
    "start_time": "2022-08-05T19:42:09.039Z"
   },
   {
    "duration": 72,
    "start_time": "2022-08-05T19:42:09.047Z"
   },
   {
    "duration": 11,
    "start_time": "2022-08-05T19:42:09.121Z"
   },
   {
    "duration": 6,
    "start_time": "2022-08-05T19:42:09.134Z"
   },
   {
    "duration": 19,
    "start_time": "2022-08-05T19:42:09.142Z"
   },
   {
    "duration": 31,
    "start_time": "2022-08-05T19:42:09.163Z"
   },
   {
    "duration": 19,
    "start_time": "2022-08-05T19:42:09.196Z"
   },
   {
    "duration": 5,
    "start_time": "2022-08-05T19:42:09.217Z"
   },
   {
    "duration": 12,
    "start_time": "2022-08-05T19:42:09.224Z"
   },
   {
    "duration": 11,
    "start_time": "2022-08-05T19:42:09.238Z"
   },
   {
    "duration": 6,
    "start_time": "2022-08-05T19:42:09.251Z"
   },
   {
    "duration": 38,
    "start_time": "2022-08-05T19:42:09.259Z"
   },
   {
    "duration": 9,
    "start_time": "2022-08-05T19:42:09.299Z"
   },
   {
    "duration": 15,
    "start_time": "2022-08-05T19:42:09.310Z"
   },
   {
    "duration": 12,
    "start_time": "2022-08-05T19:42:09.326Z"
   },
   {
    "duration": 9,
    "start_time": "2022-08-05T19:42:09.340Z"
   },
   {
    "duration": 13,
    "start_time": "2022-08-05T19:42:09.351Z"
   },
   {
    "duration": 34,
    "start_time": "2022-08-05T19:42:09.366Z"
   },
   {
    "duration": 13,
    "start_time": "2022-08-05T19:42:09.404Z"
   },
   {
    "duration": 9,
    "start_time": "2022-08-05T19:42:09.419Z"
   },
   {
    "duration": 15,
    "start_time": "2022-08-05T19:42:09.430Z"
   },
   {
    "duration": 15,
    "start_time": "2022-08-05T19:42:09.447Z"
   },
   {
    "duration": 10,
    "start_time": "2022-08-05T19:42:09.493Z"
   },
   {
    "duration": 6,
    "start_time": "2022-08-05T19:42:09.505Z"
   },
   {
    "duration": 12,
    "start_time": "2022-08-05T19:42:09.513Z"
   },
   {
    "duration": 9,
    "start_time": "2022-08-05T19:42:09.526Z"
   },
   {
    "duration": 122,
    "start_time": "2022-08-05T19:42:15.646Z"
   },
   {
    "duration": 8,
    "start_time": "2022-08-05T19:44:40.496Z"
   },
   {
    "duration": 9,
    "start_time": "2022-08-05T19:45:05.427Z"
   },
   {
    "duration": 70,
    "start_time": "2022-08-05T19:46:18.103Z"
   },
   {
    "duration": 15,
    "start_time": "2022-08-05T19:46:18.175Z"
   },
   {
    "duration": 21,
    "start_time": "2022-08-05T19:46:18.192Z"
   },
   {
    "duration": 14,
    "start_time": "2022-08-05T19:46:18.216Z"
   },
   {
    "duration": 62,
    "start_time": "2022-08-05T19:46:18.232Z"
   },
   {
    "duration": 4,
    "start_time": "2022-08-05T19:46:18.296Z"
   },
   {
    "duration": 10,
    "start_time": "2022-08-05T19:46:18.302Z"
   },
   {
    "duration": 6,
    "start_time": "2022-08-05T19:46:18.314Z"
   },
   {
    "duration": 6,
    "start_time": "2022-08-05T19:46:18.322Z"
   },
   {
    "duration": 5,
    "start_time": "2022-08-05T19:46:18.331Z"
   },
   {
    "duration": 81,
    "start_time": "2022-08-05T19:46:18.338Z"
   },
   {
    "duration": 12,
    "start_time": "2022-08-05T19:46:18.421Z"
   },
   {
    "duration": 7,
    "start_time": "2022-08-05T19:46:18.435Z"
   },
   {
    "duration": 19,
    "start_time": "2022-08-05T19:46:18.444Z"
   },
   {
    "duration": 50,
    "start_time": "2022-08-05T19:46:18.465Z"
   },
   {
    "duration": 18,
    "start_time": "2022-08-05T19:46:18.517Z"
   },
   {
    "duration": 4,
    "start_time": "2022-08-05T19:46:18.537Z"
   },
   {
    "duration": 12,
    "start_time": "2022-08-05T19:46:18.542Z"
   },
   {
    "duration": 8,
    "start_time": "2022-08-05T19:46:18.555Z"
   },
   {
    "duration": 26,
    "start_time": "2022-08-05T19:46:18.565Z"
   },
   {
    "duration": 13,
    "start_time": "2022-08-05T19:46:18.593Z"
   },
   {
    "duration": 7,
    "start_time": "2022-08-05T19:46:18.607Z"
   },
   {
    "duration": 14,
    "start_time": "2022-08-05T19:46:18.615Z"
   },
   {
    "duration": 8,
    "start_time": "2022-08-05T19:46:18.630Z"
   },
   {
    "duration": 6,
    "start_time": "2022-08-05T19:46:18.640Z"
   },
   {
    "duration": 9,
    "start_time": "2022-08-05T19:46:18.647Z"
   },
   {
    "duration": 34,
    "start_time": "2022-08-05T19:46:18.658Z"
   },
   {
    "duration": 11,
    "start_time": "2022-08-05T19:46:18.695Z"
   },
   {
    "duration": 5,
    "start_time": "2022-08-05T19:46:18.708Z"
   },
   {
    "duration": 8,
    "start_time": "2022-08-05T19:46:18.715Z"
   },
   {
    "duration": 11,
    "start_time": "2022-08-05T19:46:18.725Z"
   },
   {
    "duration": 13,
    "start_time": "2022-08-05T19:46:18.738Z"
   },
   {
    "duration": 6,
    "start_time": "2022-08-05T19:46:18.753Z"
   },
   {
    "duration": 168,
    "start_time": "2022-08-05T19:46:18.760Z"
   },
   {
    "duration": 8,
    "start_time": "2022-08-05T19:46:18.930Z"
   },
   {
    "duration": 13,
    "start_time": "2022-08-05T19:46:18.939Z"
   },
   {
    "duration": 11,
    "start_time": "2022-08-05T19:46:18.954Z"
   },
   {
    "duration": 7,
    "start_time": "2022-08-05T19:48:39.003Z"
   },
   {
    "duration": 130,
    "start_time": "2022-08-05T19:51:54.672Z"
   },
   {
    "duration": 8,
    "start_time": "2022-08-05T19:52:01.467Z"
   },
   {
    "duration": 11,
    "start_time": "2022-08-05T19:52:01.836Z"
   },
   {
    "duration": 11,
    "start_time": "2022-08-05T19:52:02.216Z"
   },
   {
    "duration": 7,
    "start_time": "2022-08-05T19:52:06.667Z"
   },
   {
    "duration": 184,
    "start_time": "2022-08-05T19:52:07.112Z"
   },
   {
    "duration": 179,
    "start_time": "2022-08-05T19:52:59.391Z"
   },
   {
    "duration": 180,
    "start_time": "2022-08-05T19:53:15.305Z"
   },
   {
    "duration": 6,
    "start_time": "2022-08-05T19:53:29.210Z"
   },
   {
    "duration": 654,
    "start_time": "2022-08-06T10:43:31.838Z"
   },
   {
    "duration": 21,
    "start_time": "2022-08-06T10:43:32.494Z"
   },
   {
    "duration": 16,
    "start_time": "2022-08-06T10:43:32.517Z"
   },
   {
    "duration": 10,
    "start_time": "2022-08-06T10:43:32.536Z"
   },
   {
    "duration": 45,
    "start_time": "2022-08-06T10:43:32.548Z"
   },
   {
    "duration": 14,
    "start_time": "2022-08-06T10:43:32.595Z"
   },
   {
    "duration": 9,
    "start_time": "2022-08-06T10:43:32.611Z"
   },
   {
    "duration": 10,
    "start_time": "2022-08-06T10:43:32.621Z"
   },
   {
    "duration": 8,
    "start_time": "2022-08-06T10:43:32.633Z"
   },
   {
    "duration": 4,
    "start_time": "2022-08-06T10:43:32.644Z"
   },
   {
    "duration": 59,
    "start_time": "2022-08-06T10:43:32.650Z"
   },
   {
    "duration": 10,
    "start_time": "2022-08-06T10:43:32.711Z"
   },
   {
    "duration": 4,
    "start_time": "2022-08-06T10:43:32.722Z"
   },
   {
    "duration": 12,
    "start_time": "2022-08-06T10:43:32.728Z"
   },
   {
    "duration": 23,
    "start_time": "2022-08-06T10:43:32.742Z"
   },
   {
    "duration": 49,
    "start_time": "2022-08-06T10:43:32.767Z"
   },
   {
    "duration": 3,
    "start_time": "2022-08-06T10:43:32.818Z"
   },
   {
    "duration": 12,
    "start_time": "2022-08-06T10:43:32.823Z"
   },
   {
    "duration": 7,
    "start_time": "2022-08-06T10:43:32.837Z"
   },
   {
    "duration": 6,
    "start_time": "2022-08-06T10:43:32.846Z"
   },
   {
    "duration": 14,
    "start_time": "2022-08-06T10:43:32.853Z"
   },
   {
    "duration": 5,
    "start_time": "2022-08-06T10:43:32.869Z"
   },
   {
    "duration": 37,
    "start_time": "2022-08-06T10:43:32.875Z"
   },
   {
    "duration": 7,
    "start_time": "2022-08-06T10:43:32.914Z"
   },
   {
    "duration": 9,
    "start_time": "2022-08-06T10:43:32.923Z"
   },
   {
    "duration": 8,
    "start_time": "2022-08-06T10:43:32.934Z"
   },
   {
    "duration": 8,
    "start_time": "2022-08-06T10:43:32.944Z"
   },
   {
    "duration": 10,
    "start_time": "2022-08-06T10:43:32.955Z"
   },
   {
    "duration": 5,
    "start_time": "2022-08-06T10:43:32.966Z"
   },
   {
    "duration": 42,
    "start_time": "2022-08-06T10:43:32.973Z"
   },
   {
    "duration": 10,
    "start_time": "2022-08-06T10:43:33.016Z"
   },
   {
    "duration": 11,
    "start_time": "2022-08-06T10:43:33.027Z"
   },
   {
    "duration": 6,
    "start_time": "2022-08-06T10:43:33.039Z"
   },
   {
    "duration": 538,
    "start_time": "2022-08-06T10:43:33.047Z"
   },
   {
    "duration": 8,
    "start_time": "2022-08-06T10:43:33.586Z"
   },
   {
    "duration": 20,
    "start_time": "2022-08-06T10:43:33.595Z"
   },
   {
    "duration": 10,
    "start_time": "2022-08-06T10:43:33.617Z"
   },
   {
    "duration": 5,
    "start_time": "2022-08-06T10:43:33.629Z"
   },
   {
    "duration": 687,
    "start_time": "2022-08-06T12:09:54.473Z"
   },
   {
    "duration": 20,
    "start_time": "2022-08-06T12:09:55.162Z"
   },
   {
    "duration": 13,
    "start_time": "2022-08-06T12:09:55.183Z"
   },
   {
    "duration": 9,
    "start_time": "2022-08-06T12:09:55.198Z"
   },
   {
    "duration": 33,
    "start_time": "2022-08-06T12:09:55.208Z"
   },
   {
    "duration": 3,
    "start_time": "2022-08-06T12:09:55.243Z"
   },
   {
    "duration": 11,
    "start_time": "2022-08-06T12:09:55.247Z"
   },
   {
    "duration": 5,
    "start_time": "2022-08-06T12:09:55.260Z"
   },
   {
    "duration": 8,
    "start_time": "2022-08-06T12:09:55.266Z"
   },
   {
    "duration": 6,
    "start_time": "2022-08-06T12:09:55.278Z"
   },
   {
    "duration": 50,
    "start_time": "2022-08-06T12:09:55.285Z"
   },
   {
    "duration": 9,
    "start_time": "2022-08-06T12:09:55.337Z"
   },
   {
    "duration": 3,
    "start_time": "2022-08-06T12:09:55.348Z"
   },
   {
    "duration": 13,
    "start_time": "2022-08-06T12:09:55.353Z"
   },
   {
    "duration": 23,
    "start_time": "2022-08-06T12:09:55.367Z"
   },
   {
    "duration": 21,
    "start_time": "2022-08-06T12:09:55.411Z"
   },
   {
    "duration": 4,
    "start_time": "2022-08-06T12:09:55.433Z"
   },
   {
    "duration": 13,
    "start_time": "2022-08-06T12:09:55.438Z"
   },
   {
    "duration": 10,
    "start_time": "2022-08-06T12:09:55.453Z"
   },
   {
    "duration": 4,
    "start_time": "2022-08-06T12:09:55.464Z"
   },
   {
    "duration": 11,
    "start_time": "2022-08-06T12:09:55.470Z"
   },
   {
    "duration": 30,
    "start_time": "2022-08-06T12:09:55.483Z"
   },
   {
    "duration": 11,
    "start_time": "2022-08-06T12:09:55.514Z"
   },
   {
    "duration": 7,
    "start_time": "2022-08-06T12:09:55.526Z"
   },
   {
    "duration": 6,
    "start_time": "2022-08-06T12:09:55.535Z"
   },
   {
    "duration": 14,
    "start_time": "2022-08-06T12:09:55.542Z"
   },
   {
    "duration": 9,
    "start_time": "2022-08-06T12:09:55.557Z"
   },
   {
    "duration": 9,
    "start_time": "2022-08-06T12:09:55.569Z"
   },
   {
    "duration": 33,
    "start_time": "2022-08-06T12:09:55.579Z"
   },
   {
    "duration": 14,
    "start_time": "2022-08-06T12:09:55.614Z"
   },
   {
    "duration": 7,
    "start_time": "2022-08-06T12:09:55.630Z"
   },
   {
    "duration": 11,
    "start_time": "2022-08-06T12:09:55.639Z"
   },
   {
    "duration": 14,
    "start_time": "2022-08-06T12:09:55.651Z"
   },
   {
    "duration": 528,
    "start_time": "2022-08-06T12:09:55.666Z"
   },
   {
    "duration": 16,
    "start_time": "2022-08-06T12:09:56.196Z"
   },
   {
    "duration": 16,
    "start_time": "2022-08-06T12:09:56.214Z"
   },
   {
    "duration": 13,
    "start_time": "2022-08-06T12:09:56.232Z"
   },
   {
    "duration": 18,
    "start_time": "2022-08-06T12:09:56.246Z"
   },
   {
    "duration": 51,
    "start_time": "2022-08-06T13:02:01.250Z"
   },
   {
    "duration": 620,
    "start_time": "2022-08-06T13:02:41.589Z"
   },
   {
    "duration": 22,
    "start_time": "2022-08-06T13:02:42.211Z"
   },
   {
    "duration": 16,
    "start_time": "2022-08-06T13:02:42.235Z"
   },
   {
    "duration": 10,
    "start_time": "2022-08-06T13:02:42.253Z"
   },
   {
    "duration": 47,
    "start_time": "2022-08-06T13:02:42.265Z"
   },
   {
    "duration": 4,
    "start_time": "2022-08-06T13:02:42.313Z"
   },
   {
    "duration": 10,
    "start_time": "2022-08-06T13:02:42.320Z"
   },
   {
    "duration": 5,
    "start_time": "2022-08-06T13:02:42.332Z"
   },
   {
    "duration": 9,
    "start_time": "2022-08-06T13:02:42.339Z"
   },
   {
    "duration": 4,
    "start_time": "2022-08-06T13:02:42.352Z"
   },
   {
    "duration": 71,
    "start_time": "2022-08-06T13:02:42.357Z"
   },
   {
    "duration": 11,
    "start_time": "2022-08-06T13:02:42.429Z"
   },
   {
    "duration": 3,
    "start_time": "2022-08-06T13:02:42.442Z"
   },
   {
    "duration": 13,
    "start_time": "2022-08-06T13:02:42.447Z"
   },
   {
    "duration": 44,
    "start_time": "2022-08-06T13:02:42.462Z"
   },
   {
    "duration": 22,
    "start_time": "2022-08-06T13:02:42.508Z"
   },
   {
    "duration": 4,
    "start_time": "2022-08-06T13:02:42.531Z"
   },
   {
    "duration": 12,
    "start_time": "2022-08-06T13:02:42.537Z"
   },
   {
    "duration": 7,
    "start_time": "2022-08-06T13:02:42.551Z"
   },
   {
    "duration": 34,
    "start_time": "2022-08-06T13:02:42.560Z"
   },
   {
    "duration": 13,
    "start_time": "2022-08-06T13:02:42.595Z"
   },
   {
    "duration": 4,
    "start_time": "2022-08-06T13:02:42.609Z"
   },
   {
    "duration": 13,
    "start_time": "2022-08-06T13:02:42.614Z"
   },
   {
    "duration": 8,
    "start_time": "2022-08-06T13:02:42.629Z"
   },
   {
    "duration": 6,
    "start_time": "2022-08-06T13:02:42.638Z"
   },
   {
    "duration": 9,
    "start_time": "2022-08-06T13:02:42.646Z"
   },
   {
    "duration": 43,
    "start_time": "2022-08-06T13:02:42.657Z"
   },
   {
    "duration": 9,
    "start_time": "2022-08-06T13:02:42.705Z"
   },
   {
    "duration": 5,
    "start_time": "2022-08-06T13:02:42.716Z"
   },
   {
    "duration": 11,
    "start_time": "2022-08-06T13:02:42.722Z"
   },
   {
    "duration": 8,
    "start_time": "2022-08-06T13:02:42.735Z"
   },
   {
    "duration": 10,
    "start_time": "2022-08-06T13:02:42.745Z"
   },
   {
    "duration": 38,
    "start_time": "2022-08-06T13:02:42.757Z"
   },
   {
    "duration": 529,
    "start_time": "2022-08-06T13:02:42.797Z"
   },
   {
    "duration": 7,
    "start_time": "2022-08-06T13:02:43.328Z"
   },
   {
    "duration": 16,
    "start_time": "2022-08-06T13:02:43.337Z"
   },
   {
    "duration": 12,
    "start_time": "2022-08-06T13:02:43.355Z"
   },
   {
    "duration": 23,
    "start_time": "2022-08-06T13:02:43.369Z"
   },
   {
    "duration": 5,
    "start_time": "2022-08-06T13:03:47.075Z"
   },
   {
    "duration": 7,
    "start_time": "2022-08-06T13:03:47.640Z"
   },
   {
    "duration": 13,
    "start_time": "2022-08-06T13:03:48.147Z"
   },
   {
    "duration": 7,
    "start_time": "2022-08-06T13:03:54.062Z"
   },
   {
    "duration": 9,
    "start_time": "2022-08-06T13:03:55.053Z"
   },
   {
    "duration": 13,
    "start_time": "2022-08-06T13:03:56.634Z"
   },
   {
    "duration": 7,
    "start_time": "2022-08-06T13:03:57.027Z"
   },
   {
    "duration": 4,
    "start_time": "2022-08-06T13:04:02.179Z"
   },
   {
    "duration": 8,
    "start_time": "2022-08-06T13:04:02.651Z"
   },
   {
    "duration": 10,
    "start_time": "2022-08-06T13:04:04.633Z"
   },
   {
    "duration": 7,
    "start_time": "2022-08-06T13:04:05.159Z"
   },
   {
    "duration": 8,
    "start_time": "2022-08-06T13:04:08.166Z"
   },
   {
    "duration": 10,
    "start_time": "2022-08-06T13:04:08.693Z"
   },
   {
    "duration": 9,
    "start_time": "2022-08-06T13:04:08.896Z"
   },
   {
    "duration": 8,
    "start_time": "2022-08-06T13:04:09.256Z"
   },
   {
    "duration": 8,
    "start_time": "2022-08-06T13:04:35.834Z"
   },
   {
    "duration": 7,
    "start_time": "2022-08-06T13:04:39.254Z"
   },
   {
    "duration": 12,
    "start_time": "2022-08-06T13:04:39.889Z"
   },
   {
    "duration": 8,
    "start_time": "2022-08-06T13:04:42.031Z"
   },
   {
    "duration": 7,
    "start_time": "2022-08-06T13:04:48.539Z"
   },
   {
    "duration": 135,
    "start_time": "2022-08-06T13:04:53.947Z"
   },
   {
    "duration": 9,
    "start_time": "2022-08-06T13:05:25.065Z"
   },
   {
    "duration": 9,
    "start_time": "2022-08-06T13:05:26.624Z"
   },
   {
    "duration": 13,
    "start_time": "2022-08-06T13:05:26.995Z"
   },
   {
    "duration": 6,
    "start_time": "2022-08-06T13:05:28.703Z"
   },
   {
    "duration": 6,
    "start_time": "2022-08-06T13:05:35.626Z"
   },
   {
    "duration": 100,
    "start_time": "2022-08-06T13:05:41.853Z"
   },
   {
    "duration": 44,
    "start_time": "2022-08-06T13:05:41.956Z"
   },
   {
    "duration": 32,
    "start_time": "2022-08-06T13:05:42.002Z"
   },
   {
    "duration": 14,
    "start_time": "2022-08-06T13:05:42.036Z"
   },
   {
    "duration": 82,
    "start_time": "2022-08-06T13:05:42.052Z"
   },
   {
    "duration": 5,
    "start_time": "2022-08-06T13:05:42.136Z"
   },
   {
    "duration": 13,
    "start_time": "2022-08-06T13:05:42.143Z"
   },
   {
    "duration": 5,
    "start_time": "2022-08-06T13:05:42.158Z"
   },
   {
    "duration": 30,
    "start_time": "2022-08-06T13:05:42.166Z"
   },
   {
    "duration": 9,
    "start_time": "2022-08-06T13:05:42.200Z"
   },
   {
    "duration": 39,
    "start_time": "2022-08-06T13:05:42.211Z"
   },
   {
    "duration": 10,
    "start_time": "2022-08-06T13:05:42.252Z"
   },
   {
    "duration": 28,
    "start_time": "2022-08-06T13:05:42.264Z"
   },
   {
    "duration": 15,
    "start_time": "2022-08-06T13:05:42.294Z"
   },
   {
    "duration": 25,
    "start_time": "2022-08-06T13:05:42.311Z"
   },
   {
    "duration": 19,
    "start_time": "2022-08-06T13:05:42.338Z"
   },
   {
    "duration": 4,
    "start_time": "2022-08-06T13:05:42.359Z"
   },
   {
    "duration": 31,
    "start_time": "2022-08-06T13:05:42.365Z"
   },
   {
    "duration": 36,
    "start_time": "2022-08-06T13:05:42.398Z"
   },
   {
    "duration": 27,
    "start_time": "2022-08-06T13:05:42.436Z"
   },
   {
    "duration": 40,
    "start_time": "2022-08-06T13:05:42.466Z"
   },
   {
    "duration": 28,
    "start_time": "2022-08-06T13:05:42.508Z"
   },
   {
    "duration": 33,
    "start_time": "2022-08-06T13:05:42.538Z"
   },
   {
    "duration": 12,
    "start_time": "2022-08-06T13:05:42.574Z"
   },
   {
    "duration": 8,
    "start_time": "2022-08-06T13:05:42.589Z"
   },
   {
    "duration": 14,
    "start_time": "2022-08-06T13:05:42.599Z"
   },
   {
    "duration": 24,
    "start_time": "2022-08-06T13:05:42.614Z"
   },
   {
    "duration": 15,
    "start_time": "2022-08-06T13:05:42.642Z"
   },
   {
    "duration": 13,
    "start_time": "2022-08-06T13:05:42.658Z"
   },
   {
    "duration": 10,
    "start_time": "2022-08-06T13:05:42.673Z"
   },
   {
    "duration": 10,
    "start_time": "2022-08-06T13:05:42.685Z"
   },
   {
    "duration": 13,
    "start_time": "2022-08-06T13:05:42.696Z"
   },
   {
    "duration": 7,
    "start_time": "2022-08-06T13:05:42.711Z"
   },
   {
    "duration": 191,
    "start_time": "2022-08-06T13:05:42.719Z"
   },
   {
    "duration": 14,
    "start_time": "2022-08-06T13:05:42.912Z"
   },
   {
    "duration": 11,
    "start_time": "2022-08-06T13:05:42.931Z"
   },
   {
    "duration": 13,
    "start_time": "2022-08-06T13:05:42.944Z"
   },
   {
    "duration": 5,
    "start_time": "2022-08-06T13:05:42.959Z"
   },
   {
    "duration": 74,
    "start_time": "2022-08-06T13:09:35.638Z"
   },
   {
    "duration": 16,
    "start_time": "2022-08-06T13:09:35.714Z"
   },
   {
    "duration": 22,
    "start_time": "2022-08-06T13:09:35.732Z"
   },
   {
    "duration": 10,
    "start_time": "2022-08-06T13:09:35.756Z"
   },
   {
    "duration": 37,
    "start_time": "2022-08-06T13:09:35.792Z"
   },
   {
    "duration": 3,
    "start_time": "2022-08-06T13:09:35.831Z"
   },
   {
    "duration": 11,
    "start_time": "2022-08-06T13:09:35.835Z"
   },
   {
    "duration": 5,
    "start_time": "2022-08-06T13:09:35.848Z"
   },
   {
    "duration": 7,
    "start_time": "2022-08-06T13:09:35.854Z"
   },
   {
    "duration": 39,
    "start_time": "2022-08-06T13:09:35.864Z"
   },
   {
    "duration": 44,
    "start_time": "2022-08-06T13:09:35.904Z"
   },
   {
    "duration": 12,
    "start_time": "2022-08-06T13:09:35.951Z"
   },
   {
    "duration": 18,
    "start_time": "2022-08-06T13:09:35.965Z"
   },
   {
    "duration": 20,
    "start_time": "2022-08-06T13:09:35.985Z"
   },
   {
    "duration": 33,
    "start_time": "2022-08-06T13:09:36.007Z"
   },
   {
    "duration": 20,
    "start_time": "2022-08-06T13:09:36.042Z"
   },
   {
    "duration": 4,
    "start_time": "2022-08-06T13:09:36.064Z"
   },
   {
    "duration": 25,
    "start_time": "2022-08-06T13:09:36.069Z"
   },
   {
    "duration": 6,
    "start_time": "2022-08-06T13:09:36.096Z"
   },
   {
    "duration": 7,
    "start_time": "2022-08-06T13:09:36.104Z"
   },
   {
    "duration": 14,
    "start_time": "2022-08-06T13:09:36.112Z"
   },
   {
    "duration": 10,
    "start_time": "2022-08-06T13:09:36.127Z"
   },
   {
    "duration": 14,
    "start_time": "2022-08-06T13:09:36.139Z"
   },
   {
    "duration": 10,
    "start_time": "2022-08-06T13:09:36.154Z"
   },
   {
    "duration": 7,
    "start_time": "2022-08-06T13:09:36.191Z"
   },
   {
    "duration": 9,
    "start_time": "2022-08-06T13:09:36.200Z"
   },
   {
    "duration": 13,
    "start_time": "2022-08-06T13:09:36.211Z"
   },
   {
    "duration": 11,
    "start_time": "2022-08-06T13:09:36.227Z"
   },
   {
    "duration": 8,
    "start_time": "2022-08-06T13:09:36.240Z"
   },
   {
    "duration": 9,
    "start_time": "2022-08-06T13:09:36.250Z"
   },
   {
    "duration": 39,
    "start_time": "2022-08-06T13:09:36.261Z"
   },
   {
    "duration": 11,
    "start_time": "2022-08-06T13:09:36.302Z"
   },
   {
    "duration": 6,
    "start_time": "2022-08-06T13:09:36.315Z"
   },
   {
    "duration": 162,
    "start_time": "2022-08-06T13:09:36.323Z"
   },
   {
    "duration": 7,
    "start_time": "2022-08-06T13:09:36.492Z"
   },
   {
    "duration": 10,
    "start_time": "2022-08-06T13:09:36.501Z"
   },
   {
    "duration": 11,
    "start_time": "2022-08-06T13:09:36.513Z"
   },
   {
    "duration": 6,
    "start_time": "2022-08-06T13:09:36.525Z"
   },
   {
    "duration": 465,
    "start_time": "2022-08-06T18:39:05.823Z"
   },
   {
    "duration": 23,
    "start_time": "2022-08-06T18:39:06.290Z"
   },
   {
    "duration": 15,
    "start_time": "2022-08-06T18:39:06.315Z"
   },
   {
    "duration": 10,
    "start_time": "2022-08-06T18:39:06.332Z"
   },
   {
    "duration": 57,
    "start_time": "2022-08-06T18:39:06.343Z"
   },
   {
    "duration": 4,
    "start_time": "2022-08-06T18:39:06.402Z"
   },
   {
    "duration": 11,
    "start_time": "2022-08-06T18:39:06.407Z"
   },
   {
    "duration": 11,
    "start_time": "2022-08-06T18:39:06.420Z"
   },
   {
    "duration": 15,
    "start_time": "2022-08-06T18:39:06.432Z"
   },
   {
    "duration": 4,
    "start_time": "2022-08-06T18:39:06.450Z"
   },
   {
    "duration": 43,
    "start_time": "2022-08-06T18:39:06.455Z"
   },
   {
    "duration": 8,
    "start_time": "2022-08-06T18:39:06.500Z"
   },
   {
    "duration": 4,
    "start_time": "2022-08-06T18:39:06.510Z"
   },
   {
    "duration": 12,
    "start_time": "2022-08-06T18:39:06.515Z"
   },
   {
    "duration": 20,
    "start_time": "2022-08-06T18:39:06.529Z"
   },
   {
    "duration": 19,
    "start_time": "2022-08-06T18:39:06.550Z"
   },
   {
    "duration": 3,
    "start_time": "2022-08-06T18:39:06.599Z"
   },
   {
    "duration": 16,
    "start_time": "2022-08-06T18:39:06.604Z"
   },
   {
    "duration": 8,
    "start_time": "2022-08-06T18:39:06.622Z"
   },
   {
    "duration": 4,
    "start_time": "2022-08-06T18:39:06.632Z"
   },
   {
    "duration": 13,
    "start_time": "2022-08-06T18:39:06.637Z"
   },
   {
    "duration": 7,
    "start_time": "2022-08-06T18:39:06.652Z"
   },
   {
    "duration": 11,
    "start_time": "2022-08-06T18:39:06.661Z"
   },
   {
    "duration": 30,
    "start_time": "2022-08-06T18:39:06.674Z"
   },
   {
    "duration": 8,
    "start_time": "2022-08-06T18:39:06.705Z"
   },
   {
    "duration": 8,
    "start_time": "2022-08-06T18:39:06.714Z"
   },
   {
    "duration": 8,
    "start_time": "2022-08-06T18:39:06.724Z"
   },
   {
    "duration": 9,
    "start_time": "2022-08-06T18:39:06.736Z"
   },
   {
    "duration": 6,
    "start_time": "2022-08-06T18:39:06.747Z"
   },
   {
    "duration": 48,
    "start_time": "2022-08-06T18:39:06.754Z"
   },
   {
    "duration": 13,
    "start_time": "2022-08-06T18:39:06.804Z"
   },
   {
    "duration": 10,
    "start_time": "2022-08-06T18:39:06.818Z"
   },
   {
    "duration": 6,
    "start_time": "2022-08-06T18:39:06.830Z"
   },
   {
    "duration": 383,
    "start_time": "2022-08-06T18:39:06.838Z"
   },
   {
    "duration": 8,
    "start_time": "2022-08-06T18:39:07.223Z"
   },
   {
    "duration": 14,
    "start_time": "2022-08-06T18:39:07.233Z"
   },
   {
    "duration": 10,
    "start_time": "2022-08-06T18:39:07.249Z"
   },
   {
    "duration": 5,
    "start_time": "2022-08-06T18:39:07.260Z"
   }
  ],
  "colab": {
   "name": "dpp_template_part2.ipynb",
   "provenance": []
  },
  "kernelspec": {
   "display_name": "Python 3 (ipykernel)",
   "language": "python",
   "name": "python3"
  },
  "language_info": {
   "codemirror_mode": {
    "name": "ipython",
    "version": 3
   },
   "file_extension": ".py",
   "mimetype": "text/x-python",
   "name": "python",
   "nbconvert_exporter": "python",
   "pygments_lexer": "ipython3",
   "version": "3.9.5"
  },
  "toc": {
   "base_numbering": 1,
   "nav_menu": {},
   "number_sections": true,
   "sideBar": true,
   "skip_h1_title": true,
   "title_cell": "Table of Contents",
   "title_sidebar": "Contents",
   "toc_cell": false,
   "toc_position": {},
   "toc_section_display": true,
   "toc_window_display": false
  }
 },
 "nbformat": 4,
 "nbformat_minor": 5
}
