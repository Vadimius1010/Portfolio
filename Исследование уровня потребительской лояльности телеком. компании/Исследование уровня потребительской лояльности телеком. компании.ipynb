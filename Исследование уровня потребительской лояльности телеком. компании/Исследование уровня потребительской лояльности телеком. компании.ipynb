{
 "cells": [
  {
   "cell_type": "code",
   "execution_count": 2,
   "id": "c43fa10c",
   "metadata": {
    "tags": [
     "aa81075c-062f-4de0-b5fe-14c73dc7468e"
    ]
   },
   "outputs": [],
   "source": [
    "import pandas as pd\n",
    "import numpy as np\n",
    "\n",
    "from sqlalchemy import create_engine"
   ]
  },
  {
   "cell_type": "code",
   "execution_count": 3,
   "id": "1c73db85",
   "metadata": {},
   "outputs": [],
   "source": [
    "path_to_db = '/datasets/telecomm_csi.db'\n",
    "engine = create_engine(f'sqlite:///{path_to_db}', echo = False)"
   ]
  },
  {
   "cell_type": "code",
   "execution_count": 4,
   "id": "abf8fe97",
   "metadata": {},
   "outputs": [],
   "source": [
    "query = \"\"\"\n",
    "select user_id, lt_day,\n",
    "    case when lt_day <= 365 then 'новый'\n",
    "        else 'старый' end as is_new, \n",
    "age, \n",
    "case when gender_segment = 1 then 'женщина'\n",
    "     when gender_segment = 0 then 'мужчина' end as gender_segment,\n",
    "os_name, cpe_type_name, country, city, title_age as age_segment, title_tr as traffic_segment, title_lt as lifetime_segment, \n",
    "nps_score, \n",
    "case when nps_score between 9 and 10 then 'сторонники'\n",
    "     when nps_score between 7 and 8 then 'нейтралы'\n",
    "     else 'критики' end as nps_group\n",
    "FROM user as u\n",
    "\n",
    "\n",
    "left join location as l on u.location_id = l.location_id\n",
    "left join (select age_gr_id, bucket_min as bucket_min_age, bucket_max as bucket_max_age, title as title_age \n",
    "           from age_segment) as a on a.age_gr_id = u.age_gr_id\n",
    "left join (select tr_gr_id, bucket_min as bucket_min_tr, bucket_max as bucket_max_tr, title as title_tr \n",
    "           from traffic_segment) as t on t.tr_gr_id = u.tr_gr_id\n",
    "left join (select lt_gr_id, bucket_min as bucket_min_lt, bucket_max as bucket_max_lt, title as title_lt \n",
    "           from lifetime_segment) as l on l.lt_gr_id = u.lt_gr_id\n",
    "\"\"\""
   ]
  },
  {
   "cell_type": "code",
   "execution_count": 7,
   "id": "d8dde131",
   "metadata": {},
   "outputs": [
    {
     "data": {
      "text/html": [
       "<div>\n",
       "<style scoped>\n",
       "    .dataframe tbody tr th:only-of-type {\n",
       "        vertical-align: middle;\n",
       "    }\n",
       "\n",
       "    .dataframe tbody tr th {\n",
       "        vertical-align: top;\n",
       "    }\n",
       "\n",
       "    .dataframe thead th {\n",
       "        text-align: right;\n",
       "    }\n",
       "</style>\n",
       "<table border=\"1\" class=\"dataframe\">\n",
       "  <thead>\n",
       "    <tr style=\"text-align: right;\">\n",
       "      <th></th>\n",
       "      <th>user_id</th>\n",
       "      <th>lt_day</th>\n",
       "      <th>is_new</th>\n",
       "      <th>age</th>\n",
       "      <th>gender_segment</th>\n",
       "      <th>os_name</th>\n",
       "      <th>cpe_type_name</th>\n",
       "      <th>country</th>\n",
       "      <th>city</th>\n",
       "      <th>age_segment</th>\n",
       "      <th>traffic_segment</th>\n",
       "      <th>lifetime_segment</th>\n",
       "      <th>nps_score</th>\n",
       "      <th>nps_group</th>\n",
       "    </tr>\n",
       "  </thead>\n",
       "  <tbody>\n",
       "    <tr>\n",
       "      <th>0</th>\n",
       "      <td>A001A2</td>\n",
       "      <td>2320</td>\n",
       "      <td>старый</td>\n",
       "      <td>45.0</td>\n",
       "      <td>женщина</td>\n",
       "      <td>ANDROID</td>\n",
       "      <td>SMARTPHONE</td>\n",
       "      <td>Россия</td>\n",
       "      <td>Уфа</td>\n",
       "      <td>45-54</td>\n",
       "      <td>1-5</td>\n",
       "      <td>36+</td>\n",
       "      <td>10</td>\n",
       "      <td>сторонники</td>\n",
       "    </tr>\n",
       "    <tr>\n",
       "      <th>1</th>\n",
       "      <td>A001WF</td>\n",
       "      <td>2344</td>\n",
       "      <td>старый</td>\n",
       "      <td>53.0</td>\n",
       "      <td>мужчина</td>\n",
       "      <td>ANDROID</td>\n",
       "      <td>SMARTPHONE</td>\n",
       "      <td>Россия</td>\n",
       "      <td>Киров</td>\n",
       "      <td>45-54</td>\n",
       "      <td>1-5</td>\n",
       "      <td>36+</td>\n",
       "      <td>10</td>\n",
       "      <td>сторонники</td>\n",
       "    </tr>\n",
       "    <tr>\n",
       "      <th>2</th>\n",
       "      <td>A003Q7</td>\n",
       "      <td>467</td>\n",
       "      <td>старый</td>\n",
       "      <td>57.0</td>\n",
       "      <td>мужчина</td>\n",
       "      <td>ANDROID</td>\n",
       "      <td>SMARTPHONE</td>\n",
       "      <td>Россия</td>\n",
       "      <td>Москва</td>\n",
       "      <td>55-64</td>\n",
       "      <td>20-25</td>\n",
       "      <td>13-24</td>\n",
       "      <td>10</td>\n",
       "      <td>сторонники</td>\n",
       "    </tr>\n",
       "    <tr>\n",
       "      <th>3</th>\n",
       "      <td>A004TB</td>\n",
       "      <td>4190</td>\n",
       "      <td>старый</td>\n",
       "      <td>44.0</td>\n",
       "      <td>женщина</td>\n",
       "      <td>IOS</td>\n",
       "      <td>SMARTPHONE</td>\n",
       "      <td>Россия</td>\n",
       "      <td>РостовнаДону</td>\n",
       "      <td>35-44</td>\n",
       "      <td>0.1-1</td>\n",
       "      <td>36+</td>\n",
       "      <td>10</td>\n",
       "      <td>сторонники</td>\n",
       "    </tr>\n",
       "    <tr>\n",
       "      <th>4</th>\n",
       "      <td>A004XT</td>\n",
       "      <td>1163</td>\n",
       "      <td>старый</td>\n",
       "      <td>24.0</td>\n",
       "      <td>мужчина</td>\n",
       "      <td>ANDROID</td>\n",
       "      <td>SMARTPHONE</td>\n",
       "      <td>Россия</td>\n",
       "      <td>Рязань</td>\n",
       "      <td>16-24</td>\n",
       "      <td>5-10</td>\n",
       "      <td>36+</td>\n",
       "      <td>10</td>\n",
       "      <td>сторонники</td>\n",
       "    </tr>\n",
       "    <tr>\n",
       "      <th>5</th>\n",
       "      <td>A005O0</td>\n",
       "      <td>5501</td>\n",
       "      <td>старый</td>\n",
       "      <td>42.0</td>\n",
       "      <td>женщина</td>\n",
       "      <td>ANDROID</td>\n",
       "      <td>SMARTPHONE</td>\n",
       "      <td>Россия</td>\n",
       "      <td>Омск</td>\n",
       "      <td>35-44</td>\n",
       "      <td>5-10</td>\n",
       "      <td>36+</td>\n",
       "      <td>6</td>\n",
       "      <td>критики</td>\n",
       "    </tr>\n",
       "    <tr>\n",
       "      <th>6</th>\n",
       "      <td>A0061R</td>\n",
       "      <td>1236</td>\n",
       "      <td>старый</td>\n",
       "      <td>45.0</td>\n",
       "      <td>мужчина</td>\n",
       "      <td>ANDROID</td>\n",
       "      <td>SMARTPHONE</td>\n",
       "      <td>Россия</td>\n",
       "      <td>Уфа</td>\n",
       "      <td>45-54</td>\n",
       "      <td>10-15</td>\n",
       "      <td>36+</td>\n",
       "      <td>10</td>\n",
       "      <td>сторонники</td>\n",
       "    </tr>\n",
       "    <tr>\n",
       "      <th>7</th>\n",
       "      <td>A009KS</td>\n",
       "      <td>313</td>\n",
       "      <td>новый</td>\n",
       "      <td>35.0</td>\n",
       "      <td>мужчина</td>\n",
       "      <td>ANDROID</td>\n",
       "      <td>SMARTPHONE</td>\n",
       "      <td>Россия</td>\n",
       "      <td>Москва</td>\n",
       "      <td>35-44</td>\n",
       "      <td>45-50</td>\n",
       "      <td>7-12</td>\n",
       "      <td>10</td>\n",
       "      <td>сторонники</td>\n",
       "    </tr>\n",
       "    <tr>\n",
       "      <th>8</th>\n",
       "      <td>A00AES</td>\n",
       "      <td>3238</td>\n",
       "      <td>старый</td>\n",
       "      <td>36.0</td>\n",
       "      <td>женщина</td>\n",
       "      <td>ANDROID</td>\n",
       "      <td>SMARTPHONE</td>\n",
       "      <td>Россия</td>\n",
       "      <td>СанктПетербург</td>\n",
       "      <td>35-44</td>\n",
       "      <td>1-5</td>\n",
       "      <td>36+</td>\n",
       "      <td>10</td>\n",
       "      <td>сторонники</td>\n",
       "    </tr>\n",
       "    <tr>\n",
       "      <th>9</th>\n",
       "      <td>A00F70</td>\n",
       "      <td>4479</td>\n",
       "      <td>старый</td>\n",
       "      <td>54.0</td>\n",
       "      <td>женщина</td>\n",
       "      <td>ANDROID</td>\n",
       "      <td>SMARTPHONE</td>\n",
       "      <td>Россия</td>\n",
       "      <td>Волгоград</td>\n",
       "      <td>45-54</td>\n",
       "      <td>15-20</td>\n",
       "      <td>36+</td>\n",
       "      <td>9</td>\n",
       "      <td>сторонники</td>\n",
       "    </tr>\n",
       "  </tbody>\n",
       "</table>\n",
       "</div>"
      ],
      "text/plain": [
       "  user_id  lt_day  is_new   age gender_segment  os_name cpe_type_name country  \\\n",
       "0  A001A2    2320  старый  45.0        женщина  ANDROID    SMARTPHONE  Россия   \n",
       "1  A001WF    2344  старый  53.0        мужчина  ANDROID    SMARTPHONE  Россия   \n",
       "2  A003Q7     467  старый  57.0        мужчина  ANDROID    SMARTPHONE  Россия   \n",
       "3  A004TB    4190  старый  44.0        женщина      IOS    SMARTPHONE  Россия   \n",
       "4  A004XT    1163  старый  24.0        мужчина  ANDROID    SMARTPHONE  Россия   \n",
       "5  A005O0    5501  старый  42.0        женщина  ANDROID    SMARTPHONE  Россия   \n",
       "6  A0061R    1236  старый  45.0        мужчина  ANDROID    SMARTPHONE  Россия   \n",
       "7  A009KS     313   новый  35.0        мужчина  ANDROID    SMARTPHONE  Россия   \n",
       "8  A00AES    3238  старый  36.0        женщина  ANDROID    SMARTPHONE  Россия   \n",
       "9  A00F70    4479  старый  54.0        женщина  ANDROID    SMARTPHONE  Россия   \n",
       "\n",
       "             city age_segment traffic_segment lifetime_segment  nps_score  \\\n",
       "0             Уфа       45-54             1-5              36+         10   \n",
       "1           Киров       45-54             1-5              36+         10   \n",
       "2          Москва       55-64           20-25            13-24         10   \n",
       "3    РостовнаДону       35-44           0.1-1              36+         10   \n",
       "4          Рязань       16-24            5-10              36+         10   \n",
       "5            Омск       35-44            5-10              36+          6   \n",
       "6             Уфа       45-54           10-15              36+         10   \n",
       "7          Москва       35-44           45-50             7-12         10   \n",
       "8  СанктПетербург       35-44             1-5              36+         10   \n",
       "9       Волгоград       45-54           15-20              36+          9   \n",
       "\n",
       "    nps_group  \n",
       "0  сторонники  \n",
       "1  сторонники  \n",
       "2  сторонники  \n",
       "3  сторонники  \n",
       "4  сторонники  \n",
       "5     критики  \n",
       "6  сторонники  \n",
       "7  сторонники  \n",
       "8  сторонники  \n",
       "9  сторонники  "
      ]
     },
     "execution_count": 7,
     "metadata": {},
     "output_type": "execute_result"
    }
   ],
   "source": [
    "df = pd.read_sql(query, engine)\n",
    "for col in ['age_segment', 'traffic_segment', 'lifetime_segment']:\n",
    "    df[col] = df[col].str[3:]\n",
    "df.head(10)"
   ]
  },
  {
   "cell_type": "code",
   "execution_count": 16,
   "id": "a8ca3866",
   "metadata": {},
   "outputs": [
    {
     "name": "stdout",
     "output_type": "stream",
     "text": [
      "<class 'pandas.core.frame.DataFrame'>\n",
      "RangeIndex: 502493 entries, 0 to 502492\n",
      "Data columns (total 22 columns):\n",
      " #   Column          Non-Null Count   Dtype  \n",
      "---  ------          --------------   -----  \n",
      " 0   user_id         502493 non-null  object \n",
      " 1   lt_day          502493 non-null  int64  \n",
      " 2   age             501939 non-null  float64\n",
      " 3   gender_segment  501192 non-null  float64\n",
      " 4   os_name         502493 non-null  object \n",
      " 5   cpe_type_name   502493 non-null  object \n",
      " 6   nps_score       502493 non-null  int64  \n",
      " 7   location_id     502493 non-null  int64  \n",
      " 8   city            502493 non-null  object \n",
      " 9   country         502493 non-null  object \n",
      " 10  age_gr_id       502493 non-null  int64  \n",
      " 11  bucket_min_age  501254 non-null  float64\n",
      " 12  bucket_max_age  488703 non-null  float64\n",
      " 13  title_age       502493 non-null  object \n",
      " 14  tr_gr_id        502493 non-null  int64  \n",
      " 15  bucket_min_tr   502493 non-null  float64\n",
      " 16  bucket_max_tr   491388 non-null  float64\n",
      " 17  title_tr        502493 non-null  object \n",
      " 18  lt_gr_id        502493 non-null  int64  \n",
      " 19  bucket_min_lt   502493 non-null  float64\n",
      " 20  bucket_max_lt   228194 non-null  float64\n",
      " 21  title_lt        502493 non-null  object \n",
      "dtypes: float64(8), int64(6), object(8)\n",
      "memory usage: 84.3+ MB\n"
     ]
    }
   ],
   "source": [
    "df.info()"
   ]
  },
  {
   "cell_type": "code",
   "execution_count": 18,
   "id": "8b082752",
   "metadata": {},
   "outputs": [],
   "source": [
    "df.to_csv('telecomm_csi_tableau.csv', index=False)"
   ]
  },
  {
   "cell_type": "markdown",
   "id": "9e0da258",
   "metadata": {},
   "source": [
    "### Ссылка на дашборд на сайте Tableau Public:"
   ]
  },
  {
   "cell_type": "markdown",
   "id": "08cf2d51",
   "metadata": {},
   "source": [
    "1. https://public.tableau.com/app/profile/vadim8842/viz/Praktikumprj2/sheet12?publish=yes\n",
    "2. https://public.tableau.com/app/profile/vadim8842/viz/Praktikumprj2/-_1?publish=yes\n",
    "3. https://public.tableau.com/app/profile/vadim8842/viz/Praktikumprj2/-_2?publish=yes"
   ]
  }
 ],
 "metadata": {
  "ExecuteTimeLog": [
   {
    "duration": 752,
    "start_time": "2021-10-03T17:40:52.731Z"
   },
   {
    "duration": 20,
    "start_time": "2021-10-03T17:40:53.486Z"
   },
   {
    "duration": 4,
    "start_time": "2021-10-03T17:41:04.638Z"
   },
   {
    "duration": 461,
    "start_time": "2021-10-03T17:41:04.912Z"
   },
   {
    "duration": 284,
    "start_time": "2021-10-03T17:41:05.376Z"
   },
   {
    "duration": 574,
    "start_time": "2021-10-06T07:55:05.029Z"
   },
   {
    "duration": 6,
    "start_time": "2021-10-06T07:55:05.605Z"
   },
   {
    "duration": 3,
    "start_time": "2021-10-06T07:55:14.685Z"
   },
   {
    "duration": 406,
    "start_time": "2021-10-06T07:55:15.522Z"
   },
   {
    "duration": 67,
    "start_time": "2021-10-06T07:55:15.929Z"
   },
   {
    "duration": 840,
    "start_time": "2021-10-07T07:54:04.647Z"
   },
   {
    "duration": 10,
    "start_time": "2021-10-07T07:54:05.490Z"
   },
   {
    "duration": 4,
    "start_time": "2021-10-07T07:54:05.544Z"
   },
   {
    "duration": 391,
    "start_time": "2021-10-07T07:54:06.237Z"
   },
   {
    "duration": 293,
    "start_time": "2021-10-07T07:54:06.654Z"
   },
   {
    "duration": 44,
    "start_time": "2022-12-05T09:51:01.537Z"
   },
   {
    "duration": 523,
    "start_time": "2022-12-05T09:51:05.035Z"
   },
   {
    "duration": 32,
    "start_time": "2022-12-05T09:51:05.560Z"
   },
   {
    "duration": 12,
    "start_time": "2022-12-05T09:51:05.594Z"
   },
   {
    "duration": 4128,
    "start_time": "2022-12-05T09:51:05.607Z"
   },
   {
    "duration": 2186,
    "start_time": "2022-12-05T09:51:09.737Z"
   },
   {
    "duration": 3,
    "start_time": "2022-12-05T09:54:43.418Z"
   },
   {
    "duration": 4284,
    "start_time": "2022-12-05T09:54:44.139Z"
   },
   {
    "duration": 3,
    "start_time": "2022-12-05T09:56:11.709Z"
   },
   {
    "duration": 536,
    "start_time": "2022-12-05T09:56:11.999Z"
   },
   {
    "duration": 2,
    "start_time": "2022-12-05T09:56:20.520Z"
   },
   {
    "duration": 5289,
    "start_time": "2022-12-05T09:56:21.590Z"
   },
   {
    "duration": 2,
    "start_time": "2022-12-05T09:57:01.041Z"
   },
   {
    "duration": 6864,
    "start_time": "2022-12-05T09:57:01.149Z"
   },
   {
    "duration": 2,
    "start_time": "2022-12-05T09:59:54.598Z"
   },
   {
    "duration": 491,
    "start_time": "2022-12-05T09:59:54.958Z"
   },
   {
    "duration": 3,
    "start_time": "2022-12-05T10:00:31.599Z"
   },
   {
    "duration": 521,
    "start_time": "2022-12-05T10:00:32.002Z"
   },
   {
    "duration": 2,
    "start_time": "2022-12-05T10:02:57.104Z"
   },
   {
    "duration": 487,
    "start_time": "2022-12-05T10:02:57.419Z"
   },
   {
    "duration": 3,
    "start_time": "2022-12-05T10:03:38.393Z"
   },
   {
    "duration": 5832,
    "start_time": "2022-12-05T10:03:38.847Z"
   },
   {
    "duration": 261,
    "start_time": "2022-12-05T10:04:52.943Z"
   },
   {
    "duration": 3,
    "start_time": "2022-12-05T10:10:16.103Z"
   },
   {
    "duration": 7019,
    "start_time": "2022-12-05T10:10:16.506Z"
   },
   {
    "duration": 4,
    "start_time": "2022-12-05T10:11:12.494Z"
   },
   {
    "duration": 513,
    "start_time": "2022-12-05T10:11:12.767Z"
   },
   {
    "duration": 3,
    "start_time": "2022-12-05T10:11:30.739Z"
   },
   {
    "duration": 8006,
    "start_time": "2022-12-05T10:11:31.048Z"
   },
   {
    "duration": 2,
    "start_time": "2022-12-05T10:12:34.294Z"
   },
   {
    "duration": 48,
    "start_time": "2022-12-05T10:12:34.299Z"
   },
   {
    "duration": 43,
    "start_time": "2022-12-05T10:12:34.349Z"
   },
   {
    "duration": 7995,
    "start_time": "2022-12-05T10:12:34.394Z"
   },
   {
    "duration": 446,
    "start_time": "2022-12-05T10:12:42.392Z"
   },
   {
    "duration": 6134,
    "start_time": "2022-12-05T10:12:42.840Z"
   },
   {
    "duration": 2,
    "start_time": "2022-12-05T10:16:29.009Z"
   },
   {
    "duration": 15,
    "start_time": "2022-12-05T10:16:29.013Z"
   },
   {
    "duration": 16,
    "start_time": "2022-12-05T10:16:29.030Z"
   },
   {
    "duration": 8056,
    "start_time": "2022-12-05T10:16:29.048Z"
   },
   {
    "duration": 405,
    "start_time": "2022-12-05T10:16:37.107Z"
   },
   {
    "duration": 6722,
    "start_time": "2022-12-05T10:16:37.514Z"
   },
   {
    "duration": 7714,
    "start_time": "2022-12-05T10:16:59.566Z"
   },
   {
    "duration": 7091,
    "start_time": "2022-12-05T10:23:25.470Z"
   },
   {
    "duration": 6967,
    "start_time": "2022-12-05T10:23:46.008Z"
   },
   {
    "duration": 3,
    "start_time": "2022-12-05T10:29:36.348Z"
   },
   {
    "duration": 8,
    "start_time": "2022-12-05T10:29:36.353Z"
   },
   {
    "duration": 4,
    "start_time": "2022-12-05T10:29:36.366Z"
   },
   {
    "duration": 546,
    "start_time": "2022-12-05T10:29:54.709Z"
   },
   {
    "duration": 41,
    "start_time": "2022-12-05T10:29:55.257Z"
   },
   {
    "duration": 3,
    "start_time": "2022-12-05T10:29:55.300Z"
   },
   {
    "duration": 8999,
    "start_time": "2022-12-05T10:29:55.304Z"
   },
   {
    "duration": 424,
    "start_time": "2022-12-05T10:30:04.306Z"
   },
   {
    "duration": 6459,
    "start_time": "2022-12-05T10:30:04.734Z"
   },
   {
    "duration": 417,
    "start_time": "2022-12-05T10:34:06.054Z"
   },
   {
    "duration": 3,
    "start_time": "2022-12-05T10:36:12.452Z"
   },
   {
    "duration": 2761,
    "start_time": "2022-12-05T10:36:18.582Z"
   },
   {
    "duration": 3,
    "start_time": "2022-12-05T10:38:45.065Z"
   },
   {
    "duration": 593,
    "start_time": "2022-12-05T10:38:50.274Z"
   },
   {
    "duration": 4,
    "start_time": "2022-12-05T10:39:10.031Z"
   },
   {
    "duration": 629,
    "start_time": "2022-12-05T10:39:11.425Z"
   },
   {
    "duration": 4,
    "start_time": "2022-12-05T10:39:32.597Z"
   },
   {
    "duration": 6890,
    "start_time": "2022-12-05T10:39:33.143Z"
   },
   {
    "duration": 372,
    "start_time": "2022-12-05T10:39:47.250Z"
   },
   {
    "duration": 6572,
    "start_time": "2022-12-05T10:41:14.622Z"
   },
   {
    "duration": 5870,
    "start_time": "2022-12-05T10:41:38.061Z"
   },
   {
    "duration": 48,
    "start_time": "2022-12-07T10:05:56.056Z"
   },
   {
    "duration": 537,
    "start_time": "2022-12-07T10:06:01.706Z"
   },
   {
    "duration": 10,
    "start_time": "2022-12-07T10:06:02.367Z"
   },
   {
    "duration": 3,
    "start_time": "2022-12-07T10:06:02.996Z"
   },
   {
    "duration": 5895,
    "start_time": "2022-12-07T10:06:05.475Z"
   },
   {
    "duration": 5982,
    "start_time": "2022-12-07T10:06:34.869Z"
   },
   {
    "duration": 6650,
    "start_time": "2022-12-07T10:06:57.166Z"
   }
  ],
  "kernelspec": {
   "display_name": "Python 3",
   "language": "python",
   "name": "python3"
  },
  "language_info": {
   "codemirror_mode": {
    "name": "ipython",
    "version": 3
   },
   "file_extension": ".py",
   "mimetype": "text/x-python",
   "name": "python",
   "nbconvert_exporter": "python",
   "pygments_lexer": "ipython3",
   "version": "3.8.8"
  },
  "toc": {
   "base_numbering": 1,
   "nav_menu": {},
   "number_sections": true,
   "sideBar": true,
   "skip_h1_title": true,
   "title_cell": "Table of Contents",
   "title_sidebar": "Contents",
   "toc_cell": false,
   "toc_position": {},
   "toc_section_display": true,
   "toc_window_display": false
  }
 },
 "nbformat": 4,
 "nbformat_minor": 5
}
